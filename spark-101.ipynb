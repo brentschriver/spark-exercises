{
 "cells": [
  {
   "cell_type": "code",
   "execution_count": 28,
   "id": "5a385731",
   "metadata": {},
   "outputs": [],
   "source": [
    "import pyspark\n",
    "import pandas as pd\n",
    "import numpy as np\n",
    "from pydataset import data\n",
    "from pyspark.sql.functions import col, expr\n",
    "from pyspark.sql.functions import lit\n",
    "np.random.seed(333)"
   ]
  },
  {
   "cell_type": "code",
   "execution_count": 7,
   "id": "16b538af",
   "metadata": {},
   "outputs": [
    {
     "name": "stderr",
     "output_type": "stream",
     "text": [
      "WARNING: An illegal reflective access operation has occurred\n",
      "WARNING: Illegal reflective access by org.apache.spark.unsafe.Platform (file:/usr/local/anaconda3/lib/python3.8/site-packages/pyspark/jars/spark-unsafe_2.12-3.2.1.jar) to constructor java.nio.DirectByteBuffer(long,int)\n",
      "WARNING: Please consider reporting this to the maintainers of org.apache.spark.unsafe.Platform\n",
      "WARNING: Use --illegal-access=warn to enable warnings of further illegal reflective access operations\n",
      "WARNING: All illegal access operations will be denied in a future release\n",
      "Using Spark's default log4j profile: org/apache/spark/log4j-defaults.properties\n",
      "Setting default log level to \"WARN\".\n",
      "To adjust logging level use sc.setLogLevel(newLevel). For SparkR, use setLogLevel(newLevel).\n",
      "22/02/11 13:41:36 WARN NativeCodeLoader: Unable to load native-hadoop library for your platform... using builtin-java classes where applicable\n",
      "22/02/11 13:41:37 WARN Utils: Service 'SparkUI' could not bind on port 4040. Attempting port 4041.\n",
      "22/02/11 13:41:37 WARN Utils: Service 'SparkUI' could not bind on port 4041. Attempting port 4042.\n"
     ]
    }
   ],
   "source": [
    "spark = pyspark.sql.SparkSession.builder.getOrCreate()"
   ]
  },
  {
   "cell_type": "markdown",
   "id": "55d840d9",
   "metadata": {},
   "source": [
    "## Exercise 1:"
   ]
  },
  {
   "cell_type": "code",
   "execution_count": 17,
   "id": "1268c322",
   "metadata": {},
   "outputs": [],
   "source": [
    "# Create a dictionary with 'language' as the key and a list of\n",
    "# programming languages as the values.\n",
    "dictionary = {'language':['Python','SQL','Swift','C','LOLCODE','Rockstar','TrumpScript','Chicken']}"
   ]
  },
  {
   "cell_type": "code",
   "execution_count": 18,
   "id": "dcabcd0c",
   "metadata": {},
   "outputs": [
    {
     "data": {
      "text/plain": [
       "{'language': ['Python',\n",
       "  'SQL',\n",
       "  'Swift',\n",
       "  'C',\n",
       "  'LOLCODE',\n",
       "  'Rockstar',\n",
       "  'TrumpScript',\n",
       "  'Chicken']}"
      ]
     },
     "execution_count": 18,
     "metadata": {},
     "output_type": "execute_result"
    }
   ],
   "source": [
    "# Verify contents of the dictionary.\n",
    "dictionary"
   ]
  },
  {
   "cell_type": "code",
   "execution_count": 19,
   "id": "a19db4fe",
   "metadata": {},
   "outputs": [],
   "source": [
    "# Convert dictionary into a Pandas dataframe.\n",
    "df = pd.DataFrame(dictionary)"
   ]
  },
  {
   "cell_type": "code",
   "execution_count": 20,
   "id": "efac2349",
   "metadata": {},
   "outputs": [
    {
     "data": {
      "text/html": [
       "<div>\n",
       "<style scoped>\n",
       "    .dataframe tbody tr th:only-of-type {\n",
       "        vertical-align: middle;\n",
       "    }\n",
       "\n",
       "    .dataframe tbody tr th {\n",
       "        vertical-align: top;\n",
       "    }\n",
       "\n",
       "    .dataframe thead th {\n",
       "        text-align: right;\n",
       "    }\n",
       "</style>\n",
       "<table border=\"1\" class=\"dataframe\">\n",
       "  <thead>\n",
       "    <tr style=\"text-align: right;\">\n",
       "      <th></th>\n",
       "      <th>language</th>\n",
       "    </tr>\n",
       "  </thead>\n",
       "  <tbody>\n",
       "    <tr>\n",
       "      <th>0</th>\n",
       "      <td>Python</td>\n",
       "    </tr>\n",
       "    <tr>\n",
       "      <th>1</th>\n",
       "      <td>SQL</td>\n",
       "    </tr>\n",
       "    <tr>\n",
       "      <th>2</th>\n",
       "      <td>Swift</td>\n",
       "    </tr>\n",
       "    <tr>\n",
       "      <th>3</th>\n",
       "      <td>C</td>\n",
       "    </tr>\n",
       "    <tr>\n",
       "      <th>4</th>\n",
       "      <td>LOLCODE</td>\n",
       "    </tr>\n",
       "    <tr>\n",
       "      <th>5</th>\n",
       "      <td>Rockstar</td>\n",
       "    </tr>\n",
       "    <tr>\n",
       "      <th>6</th>\n",
       "      <td>TrumpScript</td>\n",
       "    </tr>\n",
       "    <tr>\n",
       "      <th>7</th>\n",
       "      <td>Chicken</td>\n",
       "    </tr>\n",
       "  </tbody>\n",
       "</table>\n",
       "</div>"
      ],
      "text/plain": [
       "      language\n",
       "0       Python\n",
       "1          SQL\n",
       "2        Swift\n",
       "3            C\n",
       "4      LOLCODE\n",
       "5     Rockstar\n",
       "6  TrumpScript\n",
       "7      Chicken"
      ]
     },
     "execution_count": 20,
     "metadata": {},
     "output_type": "execute_result"
    }
   ],
   "source": [
    "# Verify dataframe contents.\n",
    "df"
   ]
  },
  {
   "cell_type": "code",
   "execution_count": 21,
   "id": "73bbf8a9",
   "metadata": {},
   "outputs": [],
   "source": [
    "# Create a Spark dataframe from the Pandas dataframe.\n",
    "spark_df = spark.createDataFrame(df)"
   ]
  },
  {
   "cell_type": "code",
   "execution_count": 22,
   "id": "c9756e19",
   "metadata": {},
   "outputs": [
    {
     "data": {
      "text/plain": [
       "DataFrame[language: string]"
      ]
     },
     "execution_count": 22,
     "metadata": {},
     "output_type": "execute_result"
    }
   ],
   "source": [
    "spark_df"
   ]
  },
  {
   "cell_type": "code",
   "execution_count": 23,
   "id": "92ebd198",
   "metadata": {},
   "outputs": [
    {
     "name": "stdout",
     "output_type": "stream",
     "text": [
      "root\n",
      " |-- language: string (nullable = true)\n",
      "\n"
     ]
    }
   ],
   "source": [
    "# Print out the schema of the newly created dataframe.\n",
    "spark_df.printSchema()"
   ]
  },
  {
   "cell_type": "code",
   "execution_count": 24,
   "id": "df426095",
   "metadata": {},
   "outputs": [
    {
     "name": "stdout",
     "output_type": "stream",
     "text": [
      "DataFrame shape:  8  x  1\n"
     ]
    }
   ],
   "source": [
    "# Print out the shape of the spark dataframe.\n",
    "print(\"DataFrame shape: \", spark_df.count(), \" x \", len(spark_df.columns))"
   ]
  },
  {
   "cell_type": "code",
   "execution_count": 25,
   "id": "a70b1f4d",
   "metadata": {},
   "outputs": [
    {
     "name": "stdout",
     "output_type": "stream",
     "text": [
      "+--------+\n",
      "|language|\n",
      "+--------+\n",
      "|  Python|\n",
      "|     SQL|\n",
      "|   Swift|\n",
      "|       C|\n",
      "| LOLCODE|\n",
      "+--------+\n",
      "only showing top 5 rows\n",
      "\n"
     ]
    }
   ],
   "source": [
    "# Print the first 5 observations from the Spark dataframe\n",
    "spark_df.show(5)"
   ]
  },
  {
   "cell_type": "markdown",
   "id": "71ee383a",
   "metadata": {},
   "source": [
    "## Exercise 2:"
   ]
  },
  {
   "cell_type": "markdown",
   "id": "a92882ca",
   "metadata": {},
   "source": [
    "Load the mpg dataset as a spark dataframe.\n",
    "a. Create 1 column of output that contains a message like the one below for each record:\n",
    "\n",
    "For example, take the data and have it print out this:\n",
    "\n",
    "'The 1999 audi a4 has a 4 cylinder engine.'"
   ]
  },
  {
   "cell_type": "code",
   "execution_count": 26,
   "id": "41237173",
   "metadata": {},
   "outputs": [],
   "source": [
    "mpg = data('mpg')"
   ]
  },
  {
   "cell_type": "code",
   "execution_count": 27,
   "id": "5ce07d7d",
   "metadata": {},
   "outputs": [
    {
     "data": {
      "text/html": [
       "<div>\n",
       "<style scoped>\n",
       "    .dataframe tbody tr th:only-of-type {\n",
       "        vertical-align: middle;\n",
       "    }\n",
       "\n",
       "    .dataframe tbody tr th {\n",
       "        vertical-align: top;\n",
       "    }\n",
       "\n",
       "    .dataframe thead th {\n",
       "        text-align: right;\n",
       "    }\n",
       "</style>\n",
       "<table border=\"1\" class=\"dataframe\">\n",
       "  <thead>\n",
       "    <tr style=\"text-align: right;\">\n",
       "      <th></th>\n",
       "      <th>manufacturer</th>\n",
       "      <th>model</th>\n",
       "      <th>displ</th>\n",
       "      <th>year</th>\n",
       "      <th>cyl</th>\n",
       "      <th>trans</th>\n",
       "      <th>drv</th>\n",
       "      <th>cty</th>\n",
       "      <th>hwy</th>\n",
       "      <th>fl</th>\n",
       "      <th>class</th>\n",
       "    </tr>\n",
       "  </thead>\n",
       "  <tbody>\n",
       "    <tr>\n",
       "      <th>1</th>\n",
       "      <td>audi</td>\n",
       "      <td>a4</td>\n",
       "      <td>1.8</td>\n",
       "      <td>1999</td>\n",
       "      <td>4</td>\n",
       "      <td>auto(l5)</td>\n",
       "      <td>f</td>\n",
       "      <td>18</td>\n",
       "      <td>29</td>\n",
       "      <td>p</td>\n",
       "      <td>compact</td>\n",
       "    </tr>\n",
       "    <tr>\n",
       "      <th>2</th>\n",
       "      <td>audi</td>\n",
       "      <td>a4</td>\n",
       "      <td>1.8</td>\n",
       "      <td>1999</td>\n",
       "      <td>4</td>\n",
       "      <td>manual(m5)</td>\n",
       "      <td>f</td>\n",
       "      <td>21</td>\n",
       "      <td>29</td>\n",
       "      <td>p</td>\n",
       "      <td>compact</td>\n",
       "    </tr>\n",
       "    <tr>\n",
       "      <th>3</th>\n",
       "      <td>audi</td>\n",
       "      <td>a4</td>\n",
       "      <td>2.0</td>\n",
       "      <td>2008</td>\n",
       "      <td>4</td>\n",
       "      <td>manual(m6)</td>\n",
       "      <td>f</td>\n",
       "      <td>20</td>\n",
       "      <td>31</td>\n",
       "      <td>p</td>\n",
       "      <td>compact</td>\n",
       "    </tr>\n",
       "    <tr>\n",
       "      <th>4</th>\n",
       "      <td>audi</td>\n",
       "      <td>a4</td>\n",
       "      <td>2.0</td>\n",
       "      <td>2008</td>\n",
       "      <td>4</td>\n",
       "      <td>auto(av)</td>\n",
       "      <td>f</td>\n",
       "      <td>21</td>\n",
       "      <td>30</td>\n",
       "      <td>p</td>\n",
       "      <td>compact</td>\n",
       "    </tr>\n",
       "    <tr>\n",
       "      <th>5</th>\n",
       "      <td>audi</td>\n",
       "      <td>a4</td>\n",
       "      <td>2.8</td>\n",
       "      <td>1999</td>\n",
       "      <td>6</td>\n",
       "      <td>auto(l5)</td>\n",
       "      <td>f</td>\n",
       "      <td>16</td>\n",
       "      <td>26</td>\n",
       "      <td>p</td>\n",
       "      <td>compact</td>\n",
       "    </tr>\n",
       "    <tr>\n",
       "      <th>...</th>\n",
       "      <td>...</td>\n",
       "      <td>...</td>\n",
       "      <td>...</td>\n",
       "      <td>...</td>\n",
       "      <td>...</td>\n",
       "      <td>...</td>\n",
       "      <td>...</td>\n",
       "      <td>...</td>\n",
       "      <td>...</td>\n",
       "      <td>...</td>\n",
       "      <td>...</td>\n",
       "    </tr>\n",
       "    <tr>\n",
       "      <th>230</th>\n",
       "      <td>volkswagen</td>\n",
       "      <td>passat</td>\n",
       "      <td>2.0</td>\n",
       "      <td>2008</td>\n",
       "      <td>4</td>\n",
       "      <td>auto(s6)</td>\n",
       "      <td>f</td>\n",
       "      <td>19</td>\n",
       "      <td>28</td>\n",
       "      <td>p</td>\n",
       "      <td>midsize</td>\n",
       "    </tr>\n",
       "    <tr>\n",
       "      <th>231</th>\n",
       "      <td>volkswagen</td>\n",
       "      <td>passat</td>\n",
       "      <td>2.0</td>\n",
       "      <td>2008</td>\n",
       "      <td>4</td>\n",
       "      <td>manual(m6)</td>\n",
       "      <td>f</td>\n",
       "      <td>21</td>\n",
       "      <td>29</td>\n",
       "      <td>p</td>\n",
       "      <td>midsize</td>\n",
       "    </tr>\n",
       "    <tr>\n",
       "      <th>232</th>\n",
       "      <td>volkswagen</td>\n",
       "      <td>passat</td>\n",
       "      <td>2.8</td>\n",
       "      <td>1999</td>\n",
       "      <td>6</td>\n",
       "      <td>auto(l5)</td>\n",
       "      <td>f</td>\n",
       "      <td>16</td>\n",
       "      <td>26</td>\n",
       "      <td>p</td>\n",
       "      <td>midsize</td>\n",
       "    </tr>\n",
       "    <tr>\n",
       "      <th>233</th>\n",
       "      <td>volkswagen</td>\n",
       "      <td>passat</td>\n",
       "      <td>2.8</td>\n",
       "      <td>1999</td>\n",
       "      <td>6</td>\n",
       "      <td>manual(m5)</td>\n",
       "      <td>f</td>\n",
       "      <td>18</td>\n",
       "      <td>26</td>\n",
       "      <td>p</td>\n",
       "      <td>midsize</td>\n",
       "    </tr>\n",
       "    <tr>\n",
       "      <th>234</th>\n",
       "      <td>volkswagen</td>\n",
       "      <td>passat</td>\n",
       "      <td>3.6</td>\n",
       "      <td>2008</td>\n",
       "      <td>6</td>\n",
       "      <td>auto(s6)</td>\n",
       "      <td>f</td>\n",
       "      <td>17</td>\n",
       "      <td>26</td>\n",
       "      <td>p</td>\n",
       "      <td>midsize</td>\n",
       "    </tr>\n",
       "  </tbody>\n",
       "</table>\n",
       "<p>234 rows × 11 columns</p>\n",
       "</div>"
      ],
      "text/plain": [
       "    manufacturer   model  displ  year  cyl       trans drv  cty  hwy fl  \\\n",
       "1           audi      a4    1.8  1999    4    auto(l5)   f   18   29  p   \n",
       "2           audi      a4    1.8  1999    4  manual(m5)   f   21   29  p   \n",
       "3           audi      a4    2.0  2008    4  manual(m6)   f   20   31  p   \n",
       "4           audi      a4    2.0  2008    4    auto(av)   f   21   30  p   \n",
       "5           audi      a4    2.8  1999    6    auto(l5)   f   16   26  p   \n",
       "..           ...     ...    ...   ...  ...         ...  ..  ...  ... ..   \n",
       "230   volkswagen  passat    2.0  2008    4    auto(s6)   f   19   28  p   \n",
       "231   volkswagen  passat    2.0  2008    4  manual(m6)   f   21   29  p   \n",
       "232   volkswagen  passat    2.8  1999    6    auto(l5)   f   16   26  p   \n",
       "233   volkswagen  passat    2.8  1999    6  manual(m5)   f   18   26  p   \n",
       "234   volkswagen  passat    3.6  2008    6    auto(s6)   f   17   26  p   \n",
       "\n",
       "       class  \n",
       "1    compact  \n",
       "2    compact  \n",
       "3    compact  \n",
       "4    compact  \n",
       "5    compact  \n",
       "..       ...  \n",
       "230  midsize  \n",
       "231  midsize  \n",
       "232  midsize  \n",
       "233  midsize  \n",
       "234  midsize  \n",
       "\n",
       "[234 rows x 11 columns]"
      ]
     },
     "execution_count": 27,
     "metadata": {},
     "output_type": "execute_result"
    }
   ],
   "source": [
    "mpg"
   ]
  },
  {
   "cell_type": "code",
   "execution_count": 31,
   "id": "37a07e20",
   "metadata": {},
   "outputs": [],
   "source": [
    "mpg = spark.createDataFrame(data('mpg'))"
   ]
  },
  {
   "cell_type": "code",
   "execution_count": 32,
   "id": "7d0983cb",
   "metadata": {},
   "outputs": [
    {
     "data": {
      "text/plain": [
       "DataFrame[manufacturer: string, model: string, displ: double, year: bigint, cyl: bigint, trans: string, drv: string, cty: bigint, hwy: bigint, fl: string, class: string]"
      ]
     },
     "execution_count": 32,
     "metadata": {},
     "output_type": "execute_result"
    }
   ],
   "source": [
    "mpg"
   ]
  },
  {
   "cell_type": "code",
   "execution_count": 34,
   "id": "f2b1b0cd",
   "metadata": {},
   "outputs": [],
   "source": [
    "# Note: The pyspark avg and mean functions are aliases of each other\n",
    "from pyspark.sql.functions import concat, sum, avg, min, max, count, mean"
   ]
  },
  {
   "cell_type": "code",
   "execution_count": 42,
   "id": "f00267a8",
   "metadata": {},
   "outputs": [
    {
     "data": {
      "text/plain": [
       "['manufacturer',\n",
       " 'model',\n",
       " 'displ',\n",
       " 'year',\n",
       " 'cyl',\n",
       " 'trans',\n",
       " 'drv',\n",
       " 'cty',\n",
       " 'hwy',\n",
       " 'fl',\n",
       " 'class']"
      ]
     },
     "execution_count": 42,
     "metadata": {},
     "output_type": "execute_result"
    }
   ],
   "source": [
    "mpg.columns"
   ]
  },
  {
   "cell_type": "code",
   "execution_count": 61,
   "id": "d13b168b",
   "metadata": {},
   "outputs": [
    {
     "name": "stdout",
     "output_type": "stream",
     "text": [
      "+--------------------+\n",
      "|               model|\n",
      "+--------------------+\n",
      "|             audi a4|\n",
      "|             audi a4|\n",
      "|             audi a4|\n",
      "|             audi a4|\n",
      "|             audi a4|\n",
      "|             audi a4|\n",
      "|             audi a4|\n",
      "|     audi a4 quattro|\n",
      "|     audi a4 quattro|\n",
      "|     audi a4 quattro|\n",
      "|     audi a4 quattro|\n",
      "|     audi a4 quattro|\n",
      "|     audi a4 quattro|\n",
      "|     audi a4 quattro|\n",
      "|     audi a4 quattro|\n",
      "|     audi a6 quattro|\n",
      "|     audi a6 quattro|\n",
      "|     audi a6 quattro|\n",
      "|chevrolet c1500 s...|\n",
      "|chevrolet c1500 s...|\n",
      "+--------------------+\n",
      "only showing top 20 rows\n",
      "\n"
     ]
    }
   ],
   "source": [
    "mpg.select(concat(mpg.manufacturer, lit(' '), mpg.model).alias('model')).show()"
   ]
  },
  {
   "cell_type": "code",
   "execution_count": 77,
   "id": "d26cdce6",
   "metadata": {},
   "outputs": [
    {
     "name": "stdout",
     "output_type": "stream",
     "text": [
      "+--------------------------------------------------------------------------------+\n",
      "|concat(The , year,  , manufacturer,  , model,  , has a , cyl,  cylinder engine.)|\n",
      "+--------------------------------------------------------------------------------+\n",
      "|The 1999 audi a4 has a 4 cylinder engine.                                       |\n",
      "|The 1999 audi a4 has a 4 cylinder engine.                                       |\n",
      "|The 2008 audi a4 has a 4 cylinder engine.                                       |\n",
      "|The 2008 audi a4 has a 4 cylinder engine.                                       |\n",
      "|The 1999 audi a4 has a 6 cylinder engine.                                       |\n",
      "|The 1999 audi a4 has a 6 cylinder engine.                                       |\n",
      "|The 2008 audi a4 has a 6 cylinder engine.                                       |\n",
      "|The 1999 audi a4 quattro has a 4 cylinder engine.                               |\n",
      "|The 1999 audi a4 quattro has a 4 cylinder engine.                               |\n",
      "|The 2008 audi a4 quattro has a 4 cylinder engine.                               |\n",
      "|The 2008 audi a4 quattro has a 4 cylinder engine.                               |\n",
      "|The 1999 audi a4 quattro has a 6 cylinder engine.                               |\n",
      "|The 1999 audi a4 quattro has a 6 cylinder engine.                               |\n",
      "|The 2008 audi a4 quattro has a 6 cylinder engine.                               |\n",
      "|The 2008 audi a4 quattro has a 6 cylinder engine.                               |\n",
      "|The 1999 audi a6 quattro has a 6 cylinder engine.                               |\n",
      "|The 2008 audi a6 quattro has a 6 cylinder engine.                               |\n",
      "|The 2008 audi a6 quattro has a 8 cylinder engine.                               |\n",
      "|The 2008 chevrolet c1500 suburban 2wd has a 8 cylinder engine.                  |\n",
      "|The 2008 chevrolet c1500 suburban 2wd has a 8 cylinder engine.                  |\n",
      "+--------------------------------------------------------------------------------+\n",
      "only showing top 20 rows\n",
      "\n"
     ]
    }
   ],
   "source": [
    "mpg.select(concat(\n",
    "    lit('The '), \n",
    "    col('year'),\n",
    "    lit(' '),\n",
    "    col('manufacturer'),\n",
    "    lit(' '),\n",
    "    col('model'), \n",
    "    lit(' '),\n",
    "    lit('has a '), \n",
    "    col('cyl'),\n",
    "    lit(\" cylinder engine.\")\n",
    "    )).show(truncate=False)"
   ]
  },
  {
   "cell_type": "code",
   "execution_count": 98,
   "id": "56201e9c",
   "metadata": {},
   "outputs": [],
   "source": [
    "from pyspark.sql.functions import when, length"
   ]
  },
  {
   "cell_type": "code",
   "execution_count": 80,
   "id": "94ccd833",
   "metadata": {},
   "outputs": [
    {
     "name": "stdout",
     "output_type": "stream",
     "text": [
      "+----------+---------+\n",
      "|     trans|when+like|\n",
      "+----------+---------+\n",
      "|  auto(l5)|     auto|\n",
      "|manual(m5)|   manual|\n",
      "|manual(m6)|   manual|\n",
      "|  auto(av)|     auto|\n",
      "|  auto(l5)|     auto|\n",
      "|manual(m5)|   manual|\n",
      "|  auto(av)|     auto|\n",
      "|manual(m5)|   manual|\n",
      "|  auto(l5)|     auto|\n",
      "|manual(m6)|   manual|\n",
      "|  auto(s6)|     auto|\n",
      "|  auto(l5)|     auto|\n",
      "|manual(m5)|   manual|\n",
      "|  auto(s6)|     auto|\n",
      "|manual(m6)|   manual|\n",
      "|  auto(l5)|     auto|\n",
      "|  auto(s6)|     auto|\n",
      "|  auto(s6)|     auto|\n",
      "|  auto(l4)|     auto|\n",
      "|  auto(l4)|     auto|\n",
      "+----------+---------+\n",
      "only showing top 20 rows\n",
      "\n"
     ]
    }
   ],
   "source": [
    "mpg.select(mpg.trans,\n",
    "             when(mpg.trans.like(\"auto%\"), \"auto\").\n",
    "              otherwise(\"manual\").alias('when+like')).show()"
   ]
  },
  {
   "cell_type": "markdown",
   "id": "ad9137a1",
   "metadata": {},
   "source": [
    "## Exercise 3:"
   ]
  },
  {
   "cell_type": "code",
   "execution_count": 82,
   "id": "dbb01a19",
   "metadata": {},
   "outputs": [],
   "source": [
    "tips = spark.createDataFrame(data(\"tips\"))"
   ]
  },
  {
   "cell_type": "code",
   "execution_count": 84,
   "id": "9b239477",
   "metadata": {},
   "outputs": [
    {
     "data": {
      "text/plain": [
       "['total_bill', 'tip', 'sex', 'smoker', 'day', 'time', 'size']"
      ]
     },
     "execution_count": 84,
     "metadata": {},
     "output_type": "execute_result"
    }
   ],
   "source": [
    "tips.columns"
   ]
  },
  {
   "cell_type": "markdown",
   "id": "72115444",
   "metadata": {},
   "source": [
    "### a. What percentage of observations are smokers?"
   ]
  },
  {
   "cell_type": "code",
   "execution_count": 105,
   "id": "fe413805",
   "metadata": {},
   "outputs": [
    {
     "name": "stdout",
     "output_type": "stream",
     "text": [
      "+------+-----+-------------------+\n",
      "|smoker|count|         percentage|\n",
      "+------+-----+-------------------+\n",
      "|    No|  151| 0.6188524590163934|\n",
      "|   Yes|   93|0.38114754098360654|\n",
      "+------+-----+-------------------+\n",
      "\n"
     ]
    }
   ],
   "source": [
    "tips.groupBy('smoker').count().withColumn('percentage', col('count') / 244).show()"
   ]
  },
  {
   "cell_type": "markdown",
   "id": "739bc546",
   "metadata": {},
   "source": [
    "### b. Create a column that contains the tip percentage"
   ]
  },
  {
   "cell_type": "code",
   "execution_count": 108,
   "id": "c5f7f797",
   "metadata": {},
   "outputs": [
    {
     "name": "stdout",
     "output_type": "stream",
     "text": [
      "+----+----------+-------------------+\n",
      "| tip|total_bill|              ratio|\n",
      "+----+----------+-------------------+\n",
      "|1.01|     16.99|0.05944673337257211|\n",
      "|1.66|     10.34|0.16054158607350097|\n",
      "| 3.5|     21.01|0.16658733936220846|\n",
      "|3.31|     23.68| 0.1397804054054054|\n",
      "|3.61|     24.59|0.14680764538430255|\n",
      "|4.71|     25.29|0.18623962040332148|\n",
      "| 2.0|      8.77|0.22805017103762829|\n",
      "|3.12|     26.88|0.11607142857142858|\n",
      "|1.96|     15.04|0.13031914893617022|\n",
      "|3.23|     14.78| 0.2185385656292287|\n",
      "|1.71|     10.27| 0.1665043816942551|\n",
      "| 5.0|     35.26|0.14180374361883155|\n",
      "|1.57|     15.42|0.10181582360570687|\n",
      "| 3.0|     18.43|0.16277807921866522|\n",
      "|3.02|     14.83|0.20364126770060686|\n",
      "|3.92|     21.58|0.18164967562557924|\n",
      "|1.67|     10.33| 0.1616650532429816|\n",
      "|3.71|     16.29|0.22774708410067526|\n",
      "| 3.5|     16.97|0.20624631703005306|\n",
      "|3.35|     20.65|0.16222760290556903|\n",
      "+----+----------+-------------------+\n",
      "only showing top 20 rows\n",
      "\n"
     ]
    }
   ],
   "source": [
    "tips.select(tips.tip, tips.total_bill).withColumn(\"ratio\", col('tip') / col('total_bill')).show()"
   ]
  },
  {
   "cell_type": "markdown",
   "id": "4cc28451",
   "metadata": {},
   "source": [
    "### c. Calculate the average tip percentage for each combination of sex and smoker."
   ]
  },
  {
   "cell_type": "code",
   "execution_count": 113,
   "id": "ace8fa69",
   "metadata": {},
   "outputs": [
    {
     "name": "stdout",
     "output_type": "stream",
     "text": [
      "+------+------------------+-------------------+\n",
      "|   sex|                No|                Yes|\n",
      "+------+------------------+-------------------+\n",
      "|Female|0.1569209707691836|0.18215035269941032|\n",
      "|  Male|0.1606687151291298|0.15277117520248512|\n",
      "+------+------------------+-------------------+\n",
      "\n"
     ]
    }
   ],
   "source": [
    "tips.select(tips.tip, tips.total_bill, tips.sex, tips.smoker).withColumn(\"ratio\", col('tip') / col('total_bill')).groupBy('sex').pivot('smoker').mean('ratio').show()"
   ]
  },
  {
   "cell_type": "code",
   "execution_count": null,
   "id": "a46f0b4e",
   "metadata": {},
   "outputs": [],
   "source": []
  }
 ],
 "metadata": {
  "kernelspec": {
   "display_name": "Python 3 (ipykernel)",
   "language": "python",
   "name": "python3"
  },
  "language_info": {
   "codemirror_mode": {
    "name": "ipython",
    "version": 3
   },
   "file_extension": ".py",
   "mimetype": "text/x-python",
   "name": "python",
   "nbconvert_exporter": "python",
   "pygments_lexer": "ipython3",
   "version": "3.8.8"
  }
 },
 "nbformat": 4,
 "nbformat_minor": 5
}
