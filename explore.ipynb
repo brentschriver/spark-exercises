{
 "cells": [
  {
   "cell_type": "code",
   "execution_count": 1,
   "id": "1cb7feec",
   "metadata": {},
   "outputs": [
    {
     "name": "stderr",
     "output_type": "stream",
     "text": [
      "WARNING: An illegal reflective access operation has occurred\n",
      "WARNING: Illegal reflective access by org.apache.spark.unsafe.Platform (file:/usr/local/anaconda3/lib/python3.8/site-packages/pyspark/jars/spark-unsafe_2.12-3.2.1.jar) to constructor java.nio.DirectByteBuffer(long,int)\n",
      "WARNING: Please consider reporting this to the maintainers of org.apache.spark.unsafe.Platform\n",
      "WARNING: Use --illegal-access=warn to enable warnings of further illegal reflective access operations\n",
      "WARNING: All illegal access operations will be denied in a future release\n",
      "Using Spark's default log4j profile: org/apache/spark/log4j-defaults.properties\n",
      "Setting default log level to \"WARN\".\n",
      "To adjust logging level use sc.setLogLevel(newLevel). For SparkR, use setLogLevel(newLevel).\n",
      "22/02/15 11:21:05 WARN NativeCodeLoader: Unable to load native-hadoop library for your platform... using builtin-java classes where applicable\n",
      "22/02/15 11:21:06 WARN Utils: Service 'SparkUI' could not bind on port 4040. Attempting port 4041.\n"
     ]
    },
    {
     "name": "stdout",
     "output_type": "stream",
     "text": [
      "[wrangle.py] reading case.csv\n"
     ]
    },
    {
     "name": "stderr",
     "output_type": "stream",
     "text": [
      "                                                                                \r"
     ]
    },
    {
     "name": "stdout",
     "output_type": "stream",
     "text": [
      "[wrangle.py] handling data types\n",
      "[wrangle.py] parsing dates\n",
      "[wrangle.py] adding features\n"
     ]
    },
    {
     "name": "stderr",
     "output_type": "stream",
     "text": [
      "                                                                                \r"
     ]
    },
    {
     "name": "stdout",
     "output_type": "stream",
     "text": [
      "[wrangle.py] joining departments\n"
     ]
    },
    {
     "name": "stderr",
     "output_type": "stream",
     "text": [
      "                                                                                \r"
     ]
    },
    {
     "name": "stdout",
     "output_type": "stream",
     "text": [
      "\n",
      "df shape: (841704, 20)\n",
      "\n",
      "-RECORD 0------------------------------------\n",
      " case_id              | 1014127332           \n",
      " case_opened_date     | 2018-01-01 00:42:00  \n",
      " case_closed_date     | 2018-01-01 12:29:00  \n",
      " case_due_date        | 2020-09-26 00:42:00  \n",
      " case_late            | false                \n",
      " num_days_late        | -998.5087616000001   \n",
      " case_closed          | true                 \n",
      " service_request_type | Stray Animal         \n",
      " SLA_days             | 999.0                \n",
      " case_status          | Closed               \n",
      " source_id            | svcCRMLS             \n",
      " request_address      | 2315  EL PASO ST,... \n",
      " council_district     | 005                  \n",
      " num_weeks_late       | -142.6441088         \n",
      " zipcode              | 78207                \n",
      " case_age             | 219                  \n",
      " days_to_closed       | 0                    \n",
      " case_lifetime        | 0                    \n",
      " department           | Animal Care Services \n",
      " dept_subject_to_SLA  | true                 \n",
      "only showing top 1 row\n",
      "\n"
     ]
    }
   ],
   "source": [
    "import warnings\n",
    "\n",
    "warnings.filterwarnings(\"ignore\")\n",
    "\n",
    "import pyspark.sql\n",
    "from pyspark.sql.functions import *\n",
    "\n",
    "import numpy as np\n",
    "import pandas as pd\n",
    "\n",
    "%matplotlib inline\n",
    "import matplotlib.pyplot as plt\n",
    "import seaborn as sns\n",
    "\n",
    "from wrangle import wrangle_311\n",
    "\n",
    "spark = pyspark.sql.SparkSession.builder.getOrCreate()\n",
    "\n",
    "df = wrangle_311(spark)\n",
    "print(\"\\ndf shape: (%d, %d)\\n\" % (df.count(), len(df.columns)))\n",
    "df.show(1, vertical=True)"
   ]
  },
  {
   "cell_type": "code",
   "execution_count": 2,
   "id": "972ccd2e",
   "metadata": {},
   "outputs": [
    {
     "data": {
      "text/plain": [
       "DataFrame[case_id: int, case_opened_date: timestamp, case_closed_date: timestamp, case_due_date: timestamp, case_late: boolean, num_days_late: double, case_closed: boolean, service_request_type: string, SLA_days: double, case_status: string, source_id: string, request_address: string, council_district: string, num_weeks_late: double, zipcode: string, case_age: int, days_to_closed: int, case_lifetime: int, department: string, dept_subject_to_SLA: boolean]"
      ]
     },
     "execution_count": 2,
     "metadata": {},
     "output_type": "execute_result"
    }
   ],
   "source": [
    "df"
   ]
  },
  {
   "cell_type": "code",
   "execution_count": 3,
   "id": "db9f6a65",
   "metadata": {},
   "outputs": [
    {
     "name": "stderr",
     "output_type": "stream",
     "text": [
      "                                                                                \r"
     ]
    }
   ],
   "source": [
    "sample = df.sample(fraction=0.01, seed=13).toPandas()"
   ]
  },
  {
   "cell_type": "code",
   "execution_count": 4,
   "id": "a874b1d2",
   "metadata": {},
   "outputs": [
    {
     "data": {
      "text/html": [
       "<div>\n",
       "<style scoped>\n",
       "    .dataframe tbody tr th:only-of-type {\n",
       "        vertical-align: middle;\n",
       "    }\n",
       "\n",
       "    .dataframe tbody tr th {\n",
       "        vertical-align: top;\n",
       "    }\n",
       "\n",
       "    .dataframe thead th {\n",
       "        text-align: right;\n",
       "    }\n",
       "</style>\n",
       "<table border=\"1\" class=\"dataframe\">\n",
       "  <thead>\n",
       "    <tr style=\"text-align: right;\">\n",
       "      <th></th>\n",
       "      <th>case_id</th>\n",
       "      <th>case_opened_date</th>\n",
       "      <th>case_closed_date</th>\n",
       "      <th>case_due_date</th>\n",
       "      <th>case_late</th>\n",
       "      <th>num_days_late</th>\n",
       "      <th>case_closed</th>\n",
       "      <th>service_request_type</th>\n",
       "      <th>SLA_days</th>\n",
       "      <th>case_status</th>\n",
       "      <th>source_id</th>\n",
       "      <th>request_address</th>\n",
       "      <th>council_district</th>\n",
       "      <th>num_weeks_late</th>\n",
       "      <th>zipcode</th>\n",
       "      <th>case_age</th>\n",
       "      <th>days_to_closed</th>\n",
       "      <th>case_lifetime</th>\n",
       "      <th>department</th>\n",
       "      <th>dept_subject_to_SLA</th>\n",
       "    </tr>\n",
       "  </thead>\n",
       "  <tbody>\n",
       "    <tr>\n",
       "      <th>0</th>\n",
       "      <td>1014127339</td>\n",
       "      <td>2018-01-01 06:58:00</td>\n",
       "      <td>2018-01-02 15:32:00</td>\n",
       "      <td>2018-01-17 08:30:00</td>\n",
       "      <td>False</td>\n",
       "      <td>-14.706620</td>\n",
       "      <td>True</td>\n",
       "      <td>Front Or Side Yard Parking</td>\n",
       "      <td>16.063796</td>\n",
       "      <td>Closed</td>\n",
       "      <td>svcCRMSS</td>\n",
       "      <td>10133  FIGARO CANYON, San Antonio, 78251</td>\n",
       "      <td>004</td>\n",
       "      <td>-2.100946</td>\n",
       "      <td>78251</td>\n",
       "      <td>219</td>\n",
       "      <td>1.0</td>\n",
       "      <td>1</td>\n",
       "      <td>DSD/Code Enforcement</td>\n",
       "      <td>True</td>\n",
       "    </tr>\n",
       "    <tr>\n",
       "      <th>1</th>\n",
       "      <td>1014127368</td>\n",
       "      <td>2018-01-01 07:18:00</td>\n",
       "      <td>2018-01-02 15:22:00</td>\n",
       "      <td>2018-01-17 08:30:00</td>\n",
       "      <td>False</td>\n",
       "      <td>-14.713275</td>\n",
       "      <td>True</td>\n",
       "      <td>Right Of Way/Sidewalk Obstruction</td>\n",
       "      <td>16.049769</td>\n",
       "      <td>Closed</td>\n",
       "      <td>svcCRMSS</td>\n",
       "      <td>10133  FIGARO CANYON, San Antonio, 78251</td>\n",
       "      <td>004</td>\n",
       "      <td>-2.101896</td>\n",
       "      <td>78251</td>\n",
       "      <td>219</td>\n",
       "      <td>1.0</td>\n",
       "      <td>1</td>\n",
       "      <td>DSD/Code Enforcement</td>\n",
       "      <td>True</td>\n",
       "    </tr>\n",
       "    <tr>\n",
       "      <th>2</th>\n",
       "      <td>1014127446</td>\n",
       "      <td>2018-01-01 11:27:00</td>\n",
       "      <td>2018-01-03 17:08:00</td>\n",
       "      <td>2018-01-06 11:27:00</td>\n",
       "      <td>False</td>\n",
       "      <td>-2.763333</td>\n",
       "      <td>True</td>\n",
       "      <td>Aggressive Animal(Non-Critical)</td>\n",
       "      <td>5.000000</td>\n",
       "      <td>Closed</td>\n",
       "      <td>139344</td>\n",
       "      <td>SAN FERNANDO and SAN HORACIO S</td>\n",
       "      <td>005</td>\n",
       "      <td>-0.394762</td>\n",
       "      <td></td>\n",
       "      <td>219</td>\n",
       "      <td>2.0</td>\n",
       "      <td>2</td>\n",
       "      <td>Animal Care Services</td>\n",
       "      <td>True</td>\n",
       "    </tr>\n",
       "    <tr>\n",
       "      <th>3</th>\n",
       "      <td>1014127470</td>\n",
       "      <td>2018-01-01 12:33:00</td>\n",
       "      <td>2018-01-01 12:43:00</td>\n",
       "      <td>2020-09-26 12:33:00</td>\n",
       "      <td>False</td>\n",
       "      <td>-998.993079</td>\n",
       "      <td>True</td>\n",
       "      <td>Stray Animal</td>\n",
       "      <td>999.000000</td>\n",
       "      <td>Closed</td>\n",
       "      <td>139344</td>\n",
       "      <td>159  SURFRIDER, San Antonio, 78242</td>\n",
       "      <td>004</td>\n",
       "      <td>-142.713297</td>\n",
       "      <td>78242</td>\n",
       "      <td>219</td>\n",
       "      <td>0.0</td>\n",
       "      <td>0</td>\n",
       "      <td>Animal Care Services</td>\n",
       "      <td>True</td>\n",
       "    </tr>\n",
       "    <tr>\n",
       "      <th>4</th>\n",
       "      <td>1014127599</td>\n",
       "      <td>2018-01-01 15:25:00</td>\n",
       "      <td>2018-01-03 05:52:00</td>\n",
       "      <td>2018-01-02 03:25:00</td>\n",
       "      <td>True</td>\n",
       "      <td>1.101817</td>\n",
       "      <td>True</td>\n",
       "      <td>Trapped/Confined Animal</td>\n",
       "      <td>0.500000</td>\n",
       "      <td>Closed</td>\n",
       "      <td>rs16746</td>\n",
       "      <td>633  ST MARYS S, San Antonio, 78205</td>\n",
       "      <td>001</td>\n",
       "      <td>0.157402</td>\n",
       "      <td>78205</td>\n",
       "      <td>219</td>\n",
       "      <td>2.0</td>\n",
       "      <td>2</td>\n",
       "      <td>Animal Care Services</td>\n",
       "      <td>True</td>\n",
       "    </tr>\n",
       "  </tbody>\n",
       "</table>\n",
       "</div>"
      ],
      "text/plain": [
       "      case_id    case_opened_date    case_closed_date       case_due_date  \\\n",
       "0  1014127339 2018-01-01 06:58:00 2018-01-02 15:32:00 2018-01-17 08:30:00   \n",
       "1  1014127368 2018-01-01 07:18:00 2018-01-02 15:22:00 2018-01-17 08:30:00   \n",
       "2  1014127446 2018-01-01 11:27:00 2018-01-03 17:08:00 2018-01-06 11:27:00   \n",
       "3  1014127470 2018-01-01 12:33:00 2018-01-01 12:43:00 2020-09-26 12:33:00   \n",
       "4  1014127599 2018-01-01 15:25:00 2018-01-03 05:52:00 2018-01-02 03:25:00   \n",
       "\n",
       "   case_late  num_days_late  case_closed               service_request_type  \\\n",
       "0      False     -14.706620         True         Front Or Side Yard Parking   \n",
       "1      False     -14.713275         True  Right Of Way/Sidewalk Obstruction   \n",
       "2      False      -2.763333         True    Aggressive Animal(Non-Critical)   \n",
       "3      False    -998.993079         True                       Stray Animal   \n",
       "4       True       1.101817         True            Trapped/Confined Animal   \n",
       "\n",
       "     SLA_days case_status source_id                           request_address  \\\n",
       "0   16.063796      Closed  svcCRMSS  10133  FIGARO CANYON, San Antonio, 78251   \n",
       "1   16.049769      Closed  svcCRMSS  10133  FIGARO CANYON, San Antonio, 78251   \n",
       "2    5.000000      Closed    139344            SAN FERNANDO and SAN HORACIO S   \n",
       "3  999.000000      Closed    139344        159  SURFRIDER, San Antonio, 78242   \n",
       "4    0.500000      Closed   rs16746       633  ST MARYS S, San Antonio, 78205   \n",
       "\n",
       "  council_district  num_weeks_late zipcode  case_age  days_to_closed  \\\n",
       "0              004       -2.100946   78251       219             1.0   \n",
       "1              004       -2.101896   78251       219             1.0   \n",
       "2              005       -0.394762               219             2.0   \n",
       "3              004     -142.713297   78242       219             0.0   \n",
       "4              001        0.157402   78205       219             2.0   \n",
       "\n",
       "   case_lifetime            department  dept_subject_to_SLA  \n",
       "0              1  DSD/Code Enforcement                 True  \n",
       "1              1  DSD/Code Enforcement                 True  \n",
       "2              2  Animal Care Services                 True  \n",
       "3              0  Animal Care Services                 True  \n",
       "4              2  Animal Care Services                 True  "
      ]
     },
     "execution_count": 4,
     "metadata": {},
     "output_type": "execute_result"
    }
   ],
   "source": [
    "sample.head()"
   ]
  },
  {
   "cell_type": "markdown",
   "id": "e14ec3d5",
   "metadata": {},
   "source": [
    "Explore the distribution of the case_lifetime feature:"
   ]
  },
  {
   "cell_type": "code",
   "execution_count": 5,
   "id": "e001c20f",
   "metadata": {},
   "outputs": [
    {
     "data": {
      "text/plain": [
       "<AxesSubplot:ylabel='Frequency'>"
      ]
     },
     "execution_count": 5,
     "metadata": {},
     "output_type": "execute_result"
    },
    {
     "data": {
      "image/png": "[encoded data removed]",
      "text/plain": [
       "<Figure size 432x288 with 1 Axes>"
      ]
     },
     "metadata": {
      "needs_background": "light"
     },
     "output_type": "display_data"
    }
   ],
   "source": [
    "sample.case_lifetime.plot.hist()"
   ]
  },
  {
   "cell_type": "code",
   "execution_count": 6,
   "id": "2938d020",
   "metadata": {},
   "outputs": [
    {
     "name": "stdout",
     "output_type": "stream",
     "text": [
      "[0, 1)        2539\n",
      "[1, 2)        1649\n",
      "[2, 5)        1453\n",
      "[5, 15)       1449\n",
      "[15, 1000)    1432\n",
      "Name: case_lifetime, dtype: int64\n"
     ]
    },
    {
     "data": {
      "text/plain": [
       "Text(0.5, 1.0, 'Overall Case Lifetime')"
      ]
     },
     "execution_count": 6,
     "metadata": {},
     "output_type": "execute_result"
    },
    {
     "data": {
      "image/png": "[encoded data removed]",
      "text/plain": [
       "<Figure size 432x288 with 1 Axes>"
      ]
     },
     "metadata": {
      "needs_background": "light"
     },
     "output_type": "display_data"
    }
   ],
   "source": [
    "# In the call to `pd.cut`, we add right=False so that the behavior of pd.cut\n",
    "# aligns with the behavior of np.histogram, which is what matplotlib uses when\n",
    "# constructing a histogram.\n",
    "\n",
    "# custom bins of varying widths\n",
    "bins = [0, 1, 2, 5, 15, 1000]\n",
    "\n",
    "print(\n",
    "    pd.cut(sample.case_lifetime, bins, right=False).value_counts().sort_index()\n",
    ")\n",
    "\n",
    "pd.cut(\n",
    "    sample.case_lifetime, bins, right=False\n",
    ").value_counts().sort_index().plot.bar(\n",
    "    width=1, edgecolor=\"black\", color=\"pink\"\n",
    ")\n",
    "plt.xticks(rotation=0)\n",
    "plt.title(\"Overall Case Lifetime\")"
   ]
  },
  {
   "cell_type": "code",
   "execution_count": 7,
   "id": "e74a15fa",
   "metadata": {},
   "outputs": [
    {
     "name": "stdout",
     "output_type": "stream",
     "text": [
      "+--------------------+----------------+----------------+\n",
      "|          department|case_opened_date|case_closed_date|\n",
      "+--------------------+----------------+----------------+\n",
      "|Animal Care Services|      2018-01-01|      2018-01-01|\n",
      "|Trans & Cap Impro...|      2018-01-01|      2018-01-03|\n",
      "|Trans & Cap Impro...|      2018-01-01|      2018-01-02|\n",
      "|DSD/Code Enforcement|      2018-01-01|      2018-01-02|\n",
      "|Animal Care Services|      2018-01-01|      2018-01-01|\n",
      "+--------------------+----------------+----------------+\n",
      "only showing top 5 rows\n",
      "\n"
     ]
    }
   ],
   "source": [
    "cases_by_day = df.select(\n",
    "    \"department\",\n",
    "    date_format(\"case_opened_date\", \"yyyy-MM-dd\").alias(\"case_opened_date\"),\n",
    "    date_format(\"case_closed_date\", \"yyyy-MM-dd\").alias(\"case_closed_date\"),\n",
    ")\n",
    "\n",
    "cases_by_day.show(5)\n"
   ]
  },
  {
   "cell_type": "markdown",
   "id": "328824dd",
   "metadata": {},
   "source": [
    "# Exercises"
   ]
  },
  {
   "cell_type": "code",
   "execution_count": 9,
   "id": "c07af537",
   "metadata": {},
   "outputs": [
    {
     "data": {
      "text/plain": [
       "(8522, 20)"
      ]
     },
     "execution_count": 9,
     "metadata": {},
     "output_type": "execute_result"
    }
   ],
   "source": [
    "# Check the shape of the dataset.\n",
    "sample.shape"
   ]
  },
  {
   "cell_type": "code",
   "execution_count": 10,
   "id": "5fef9a69",
   "metadata": {},
   "outputs": [
    {
     "data": {
      "text/html": [
       "<div>\n",
       "<style scoped>\n",
       "    .dataframe tbody tr th:only-of-type {\n",
       "        vertical-align: middle;\n",
       "    }\n",
       "\n",
       "    .dataframe tbody tr th {\n",
       "        vertical-align: top;\n",
       "    }\n",
       "\n",
       "    .dataframe thead th {\n",
       "        text-align: right;\n",
       "    }\n",
       "</style>\n",
       "<table border=\"1\" class=\"dataframe\">\n",
       "  <thead>\n",
       "    <tr style=\"text-align: right;\">\n",
       "      <th></th>\n",
       "      <th>case_id</th>\n",
       "      <th>case_opened_date</th>\n",
       "      <th>case_closed_date</th>\n",
       "      <th>case_due_date</th>\n",
       "      <th>case_late</th>\n",
       "      <th>num_days_late</th>\n",
       "      <th>case_closed</th>\n",
       "      <th>service_request_type</th>\n",
       "      <th>SLA_days</th>\n",
       "      <th>case_status</th>\n",
       "      <th>source_id</th>\n",
       "      <th>request_address</th>\n",
       "      <th>council_district</th>\n",
       "      <th>num_weeks_late</th>\n",
       "      <th>zipcode</th>\n",
       "      <th>case_age</th>\n",
       "      <th>days_to_closed</th>\n",
       "      <th>case_lifetime</th>\n",
       "      <th>department</th>\n",
       "      <th>dept_subject_to_SLA</th>\n",
       "    </tr>\n",
       "  </thead>\n",
       "  <tbody>\n",
       "    <tr>\n",
       "      <th>0</th>\n",
       "      <td>1014127339</td>\n",
       "      <td>2018-01-01 06:58:00</td>\n",
       "      <td>2018-01-02 15:32:00</td>\n",
       "      <td>2018-01-17 08:30:00</td>\n",
       "      <td>False</td>\n",
       "      <td>-14.706620</td>\n",
       "      <td>True</td>\n",
       "      <td>Front Or Side Yard Parking</td>\n",
       "      <td>16.063796</td>\n",
       "      <td>Closed</td>\n",
       "      <td>svcCRMSS</td>\n",
       "      <td>10133  FIGARO CANYON, San Antonio, 78251</td>\n",
       "      <td>004</td>\n",
       "      <td>-2.100946</td>\n",
       "      <td>78251</td>\n",
       "      <td>219</td>\n",
       "      <td>1.0</td>\n",
       "      <td>1</td>\n",
       "      <td>DSD/Code Enforcement</td>\n",
       "      <td>True</td>\n",
       "    </tr>\n",
       "    <tr>\n",
       "      <th>1</th>\n",
       "      <td>1014127368</td>\n",
       "      <td>2018-01-01 07:18:00</td>\n",
       "      <td>2018-01-02 15:22:00</td>\n",
       "      <td>2018-01-17 08:30:00</td>\n",
       "      <td>False</td>\n",
       "      <td>-14.713275</td>\n",
       "      <td>True</td>\n",
       "      <td>Right Of Way/Sidewalk Obstruction</td>\n",
       "      <td>16.049769</td>\n",
       "      <td>Closed</td>\n",
       "      <td>svcCRMSS</td>\n",
       "      <td>10133  FIGARO CANYON, San Antonio, 78251</td>\n",
       "      <td>004</td>\n",
       "      <td>-2.101896</td>\n",
       "      <td>78251</td>\n",
       "      <td>219</td>\n",
       "      <td>1.0</td>\n",
       "      <td>1</td>\n",
       "      <td>DSD/Code Enforcement</td>\n",
       "      <td>True</td>\n",
       "    </tr>\n",
       "    <tr>\n",
       "      <th>2</th>\n",
       "      <td>1014127446</td>\n",
       "      <td>2018-01-01 11:27:00</td>\n",
       "      <td>2018-01-03 17:08:00</td>\n",
       "      <td>2018-01-06 11:27:00</td>\n",
       "      <td>False</td>\n",
       "      <td>-2.763333</td>\n",
       "      <td>True</td>\n",
       "      <td>Aggressive Animal(Non-Critical)</td>\n",
       "      <td>5.000000</td>\n",
       "      <td>Closed</td>\n",
       "      <td>139344</td>\n",
       "      <td>SAN FERNANDO and SAN HORACIO S</td>\n",
       "      <td>005</td>\n",
       "      <td>-0.394762</td>\n",
       "      <td></td>\n",
       "      <td>219</td>\n",
       "      <td>2.0</td>\n",
       "      <td>2</td>\n",
       "      <td>Animal Care Services</td>\n",
       "      <td>True</td>\n",
       "    </tr>\n",
       "    <tr>\n",
       "      <th>3</th>\n",
       "      <td>1014127470</td>\n",
       "      <td>2018-01-01 12:33:00</td>\n",
       "      <td>2018-01-01 12:43:00</td>\n",
       "      <td>2020-09-26 12:33:00</td>\n",
       "      <td>False</td>\n",
       "      <td>-998.993079</td>\n",
       "      <td>True</td>\n",
       "      <td>Stray Animal</td>\n",
       "      <td>999.000000</td>\n",
       "      <td>Closed</td>\n",
       "      <td>139344</td>\n",
       "      <td>159  SURFRIDER, San Antonio, 78242</td>\n",
       "      <td>004</td>\n",
       "      <td>-142.713297</td>\n",
       "      <td>78242</td>\n",
       "      <td>219</td>\n",
       "      <td>0.0</td>\n",
       "      <td>0</td>\n",
       "      <td>Animal Care Services</td>\n",
       "      <td>True</td>\n",
       "    </tr>\n",
       "    <tr>\n",
       "      <th>4</th>\n",
       "      <td>1014127599</td>\n",
       "      <td>2018-01-01 15:25:00</td>\n",
       "      <td>2018-01-03 05:52:00</td>\n",
       "      <td>2018-01-02 03:25:00</td>\n",
       "      <td>True</td>\n",
       "      <td>1.101817</td>\n",
       "      <td>True</td>\n",
       "      <td>Trapped/Confined Animal</td>\n",
       "      <td>0.500000</td>\n",
       "      <td>Closed</td>\n",
       "      <td>rs16746</td>\n",
       "      <td>633  ST MARYS S, San Antonio, 78205</td>\n",
       "      <td>001</td>\n",
       "      <td>0.157402</td>\n",
       "      <td>78205</td>\n",
       "      <td>219</td>\n",
       "      <td>2.0</td>\n",
       "      <td>2</td>\n",
       "      <td>Animal Care Services</td>\n",
       "      <td>True</td>\n",
       "    </tr>\n",
       "  </tbody>\n",
       "</table>\n",
       "</div>"
      ],
      "text/plain": [
       "      case_id    case_opened_date    case_closed_date       case_due_date  \\\n",
       "0  1014127339 2018-01-01 06:58:00 2018-01-02 15:32:00 2018-01-17 08:30:00   \n",
       "1  1014127368 2018-01-01 07:18:00 2018-01-02 15:22:00 2018-01-17 08:30:00   \n",
       "2  1014127446 2018-01-01 11:27:00 2018-01-03 17:08:00 2018-01-06 11:27:00   \n",
       "3  1014127470 2018-01-01 12:33:00 2018-01-01 12:43:00 2020-09-26 12:33:00   \n",
       "4  1014127599 2018-01-01 15:25:00 2018-01-03 05:52:00 2018-01-02 03:25:00   \n",
       "\n",
       "   case_late  num_days_late  case_closed               service_request_type  \\\n",
       "0      False     -14.706620         True         Front Or Side Yard Parking   \n",
       "1      False     -14.713275         True  Right Of Way/Sidewalk Obstruction   \n",
       "2      False      -2.763333         True    Aggressive Animal(Non-Critical)   \n",
       "3      False    -998.993079         True                       Stray Animal   \n",
       "4       True       1.101817         True            Trapped/Confined Animal   \n",
       "\n",
       "     SLA_days case_status source_id                           request_address  \\\n",
       "0   16.063796      Closed  svcCRMSS  10133  FIGARO CANYON, San Antonio, 78251   \n",
       "1   16.049769      Closed  svcCRMSS  10133  FIGARO CANYON, San Antonio, 78251   \n",
       "2    5.000000      Closed    139344            SAN FERNANDO and SAN HORACIO S   \n",
       "3  999.000000      Closed    139344        159  SURFRIDER, San Antonio, 78242   \n",
       "4    0.500000      Closed   rs16746       633  ST MARYS S, San Antonio, 78205   \n",
       "\n",
       "  council_district  num_weeks_late zipcode  case_age  days_to_closed  \\\n",
       "0              004       -2.100946   78251       219             1.0   \n",
       "1              004       -2.101896   78251       219             1.0   \n",
       "2              005       -0.394762               219             2.0   \n",
       "3              004     -142.713297   78242       219             0.0   \n",
       "4              001        0.157402   78205       219             2.0   \n",
       "\n",
       "   case_lifetime            department  dept_subject_to_SLA  \n",
       "0              1  DSD/Code Enforcement                 True  \n",
       "1              1  DSD/Code Enforcement                 True  \n",
       "2              2  Animal Care Services                 True  \n",
       "3              0  Animal Care Services                 True  \n",
       "4              2  Animal Care Services                 True  "
      ]
     },
     "execution_count": 10,
     "metadata": {},
     "output_type": "execute_result"
    }
   ],
   "source": [
    "# Get familiar with the dataframe.\n",
    "sample.head()"
   ]
  },
  {
   "cell_type": "code",
   "execution_count": 13,
   "id": "2828520c",
   "metadata": {},
   "outputs": [
    {
     "name": "stdout",
     "output_type": "stream",
     "text": [
      "<class 'pandas.core.frame.DataFrame'>\n",
      "RangeIndex: 8522 entries, 0 to 8521\n",
      "Data columns (total 20 columns):\n",
      " #   Column                Non-Null Count  Dtype         \n",
      "---  ------                --------------  -----         \n",
      " 0   case_id               8522 non-null   int32         \n",
      " 1   case_opened_date      8522 non-null   datetime64[ns]\n",
      " 2   case_closed_date      8326 non-null   datetime64[ns]\n",
      " 3   case_due_date         8522 non-null   datetime64[ns]\n",
      " 4   case_late             8522 non-null   bool          \n",
      " 5   num_days_late         8522 non-null   float64       \n",
      " 6   case_closed           8522 non-null   bool          \n",
      " 7   service_request_type  8522 non-null   object        \n",
      " 8   SLA_days              8522 non-null   float64       \n",
      " 9   case_status           8522 non-null   object        \n",
      " 10  source_id             8522 non-null   object        \n",
      " 11  request_address       8522 non-null   object        \n",
      " 12  council_district      8522 non-null   object        \n",
      " 13  num_weeks_late        8522 non-null   float64       \n",
      " 14  zipcode               8522 non-null   object        \n",
      " 15  case_age              8522 non-null   int32         \n",
      " 16  days_to_closed        8326 non-null   float64       \n",
      " 17  case_lifetime         8522 non-null   int32         \n",
      " 18  department            8522 non-null   object        \n",
      " 19  dept_subject_to_SLA   8522 non-null   bool          \n",
      "dtypes: bool(3), datetime64[ns](3), float64(4), int32(3), object(7)\n",
      "memory usage: 1.0+ MB\n"
     ]
    }
   ],
   "source": [
    "# Check data types and null values.\n",
    "sample.info()"
   ]
  },
  {
   "cell_type": "code",
   "execution_count": 17,
   "id": "4038a2f0",
   "metadata": {},
   "outputs": [],
   "source": [
    "# Drop null values.\n",
    "sample.dropna(inplace=True)"
   ]
  },
  {
   "cell_type": "code",
   "execution_count": 30,
   "id": "4f88d6ec",
   "metadata": {},
   "outputs": [
    {
     "data": {
      "text/html": [
       "<div>\n",
       "<style scoped>\n",
       "    .dataframe tbody tr th:only-of-type {\n",
       "        vertical-align: middle;\n",
       "    }\n",
       "\n",
       "    .dataframe tbody tr th {\n",
       "        vertical-align: top;\n",
       "    }\n",
       "\n",
       "    .dataframe thead th {\n",
       "        text-align: right;\n",
       "    }\n",
       "</style>\n",
       "<table border=\"1\" class=\"dataframe\">\n",
       "  <thead>\n",
       "    <tr style=\"text-align: right;\">\n",
       "      <th></th>\n",
       "      <th>case_id</th>\n",
       "      <th>case_opened_date</th>\n",
       "      <th>case_closed_date</th>\n",
       "      <th>case_due_date</th>\n",
       "      <th>case_late</th>\n",
       "      <th>num_days_late</th>\n",
       "      <th>case_closed</th>\n",
       "      <th>service_request_type</th>\n",
       "      <th>SLA_days</th>\n",
       "      <th>case_status</th>\n",
       "      <th>source_id</th>\n",
       "      <th>request_address</th>\n",
       "      <th>council_district</th>\n",
       "      <th>num_weeks_late</th>\n",
       "      <th>zipcode</th>\n",
       "      <th>case_age</th>\n",
       "      <th>days_to_closed</th>\n",
       "      <th>case_lifetime</th>\n",
       "      <th>department</th>\n",
       "      <th>dept_subject_to_SLA</th>\n",
       "    </tr>\n",
       "  </thead>\n",
       "  <tbody>\n",
       "    <tr>\n",
       "      <th>0</th>\n",
       "      <td>1014127339</td>\n",
       "      <td>2018-01-01 06:58:00</td>\n",
       "      <td>2018-01-02 15:32:00</td>\n",
       "      <td>2018-01-17 08:30:00</td>\n",
       "      <td>False</td>\n",
       "      <td>-14.706620</td>\n",
       "      <td>True</td>\n",
       "      <td>Front Or Side Yard Parking</td>\n",
       "      <td>16.063796</td>\n",
       "      <td>Closed</td>\n",
       "      <td>svcCRMSS</td>\n",
       "      <td>10133  FIGARO CANYON, San Antonio, 78251</td>\n",
       "      <td>004</td>\n",
       "      <td>-2.100946</td>\n",
       "      <td>78251</td>\n",
       "      <td>219</td>\n",
       "      <td>1.0</td>\n",
       "      <td>1</td>\n",
       "      <td>DSD/Code Enforcement</td>\n",
       "      <td>True</td>\n",
       "    </tr>\n",
       "    <tr>\n",
       "      <th>1</th>\n",
       "      <td>1014127368</td>\n",
       "      <td>2018-01-01 07:18:00</td>\n",
       "      <td>2018-01-02 15:22:00</td>\n",
       "      <td>2018-01-17 08:30:00</td>\n",
       "      <td>False</td>\n",
       "      <td>-14.713275</td>\n",
       "      <td>True</td>\n",
       "      <td>Right Of Way/Sidewalk Obstruction</td>\n",
       "      <td>16.049769</td>\n",
       "      <td>Closed</td>\n",
       "      <td>svcCRMSS</td>\n",
       "      <td>10133  FIGARO CANYON, San Antonio, 78251</td>\n",
       "      <td>004</td>\n",
       "      <td>-2.101896</td>\n",
       "      <td>78251</td>\n",
       "      <td>219</td>\n",
       "      <td>1.0</td>\n",
       "      <td>1</td>\n",
       "      <td>DSD/Code Enforcement</td>\n",
       "      <td>True</td>\n",
       "    </tr>\n",
       "    <tr>\n",
       "      <th>2</th>\n",
       "      <td>1014127446</td>\n",
       "      <td>2018-01-01 11:27:00</td>\n",
       "      <td>2018-01-03 17:08:00</td>\n",
       "      <td>2018-01-06 11:27:00</td>\n",
       "      <td>False</td>\n",
       "      <td>-2.763333</td>\n",
       "      <td>True</td>\n",
       "      <td>Aggressive Animal(Non-Critical)</td>\n",
       "      <td>5.000000</td>\n",
       "      <td>Closed</td>\n",
       "      <td>139344</td>\n",
       "      <td>SAN FERNANDO and SAN HORACIO S</td>\n",
       "      <td>005</td>\n",
       "      <td>-0.394762</td>\n",
       "      <td></td>\n",
       "      <td>219</td>\n",
       "      <td>2.0</td>\n",
       "      <td>2</td>\n",
       "      <td>Animal Care Services</td>\n",
       "      <td>True</td>\n",
       "    </tr>\n",
       "    <tr>\n",
       "      <th>3</th>\n",
       "      <td>1014127470</td>\n",
       "      <td>2018-01-01 12:33:00</td>\n",
       "      <td>2018-01-01 12:43:00</td>\n",
       "      <td>2020-09-26 12:33:00</td>\n",
       "      <td>False</td>\n",
       "      <td>-998.993079</td>\n",
       "      <td>True</td>\n",
       "      <td>Stray Animal</td>\n",
       "      <td>999.000000</td>\n",
       "      <td>Closed</td>\n",
       "      <td>139344</td>\n",
       "      <td>159  SURFRIDER, San Antonio, 78242</td>\n",
       "      <td>004</td>\n",
       "      <td>-142.713297</td>\n",
       "      <td>78242</td>\n",
       "      <td>219</td>\n",
       "      <td>0.0</td>\n",
       "      <td>0</td>\n",
       "      <td>Animal Care Services</td>\n",
       "      <td>True</td>\n",
       "    </tr>\n",
       "    <tr>\n",
       "      <th>4</th>\n",
       "      <td>1014127599</td>\n",
       "      <td>2018-01-01 15:25:00</td>\n",
       "      <td>2018-01-03 05:52:00</td>\n",
       "      <td>2018-01-02 03:25:00</td>\n",
       "      <td>True</td>\n",
       "      <td>1.101817</td>\n",
       "      <td>True</td>\n",
       "      <td>Trapped/Confined Animal</td>\n",
       "      <td>0.500000</td>\n",
       "      <td>Closed</td>\n",
       "      <td>rs16746</td>\n",
       "      <td>633  ST MARYS S, San Antonio, 78205</td>\n",
       "      <td>001</td>\n",
       "      <td>0.157402</td>\n",
       "      <td>78205</td>\n",
       "      <td>219</td>\n",
       "      <td>2.0</td>\n",
       "      <td>2</td>\n",
       "      <td>Animal Care Services</td>\n",
       "      <td>True</td>\n",
       "    </tr>\n",
       "  </tbody>\n",
       "</table>\n",
       "</div>"
      ],
      "text/plain": [
       "      case_id    case_opened_date    case_closed_date       case_due_date  \\\n",
       "0  1014127339 2018-01-01 06:58:00 2018-01-02 15:32:00 2018-01-17 08:30:00   \n",
       "1  1014127368 2018-01-01 07:18:00 2018-01-02 15:22:00 2018-01-17 08:30:00   \n",
       "2  1014127446 2018-01-01 11:27:00 2018-01-03 17:08:00 2018-01-06 11:27:00   \n",
       "3  1014127470 2018-01-01 12:33:00 2018-01-01 12:43:00 2020-09-26 12:33:00   \n",
       "4  1014127599 2018-01-01 15:25:00 2018-01-03 05:52:00 2018-01-02 03:25:00   \n",
       "\n",
       "   case_late  num_days_late  case_closed               service_request_type  \\\n",
       "0      False     -14.706620         True         Front Or Side Yard Parking   \n",
       "1      False     -14.713275         True  Right Of Way/Sidewalk Obstruction   \n",
       "2      False      -2.763333         True    Aggressive Animal(Non-Critical)   \n",
       "3      False    -998.993079         True                       Stray Animal   \n",
       "4       True       1.101817         True            Trapped/Confined Animal   \n",
       "\n",
       "     SLA_days case_status source_id                           request_address  \\\n",
       "0   16.063796      Closed  svcCRMSS  10133  FIGARO CANYON, San Antonio, 78251   \n",
       "1   16.049769      Closed  svcCRMSS  10133  FIGARO CANYON, San Antonio, 78251   \n",
       "2    5.000000      Closed    139344            SAN FERNANDO and SAN HORACIO S   \n",
       "3  999.000000      Closed    139344        159  SURFRIDER, San Antonio, 78242   \n",
       "4    0.500000      Closed   rs16746       633  ST MARYS S, San Antonio, 78205   \n",
       "\n",
       "  council_district  num_weeks_late zipcode  case_age  days_to_closed  \\\n",
       "0              004       -2.100946   78251       219             1.0   \n",
       "1              004       -2.101896   78251       219             1.0   \n",
       "2              005       -0.394762               219             2.0   \n",
       "3              004     -142.713297   78242       219             0.0   \n",
       "4              001        0.157402   78205       219             2.0   \n",
       "\n",
       "   case_lifetime            department  dept_subject_to_SLA  \n",
       "0              1  DSD/Code Enforcement                 True  \n",
       "1              1  DSD/Code Enforcement                 True  \n",
       "2              2  Animal Care Services                 True  \n",
       "3              0  Animal Care Services                 True  \n",
       "4              2  Animal Care Services                 True  "
      ]
     },
     "execution_count": 30,
     "metadata": {},
     "output_type": "execute_result"
    }
   ],
   "source": [
    "sample.head()"
   ]
  },
  {
   "cell_type": "markdown",
   "id": "c1e47336",
   "metadata": {},
   "source": [
    "### 1. How many different cases are there, by department?"
   ]
  },
  {
   "cell_type": "code",
   "execution_count": 22,
   "id": "291ca642",
   "metadata": {},
   "outputs": [
    {
     "data": {
      "text/plain": [
       "DSD/Code Enforcement        3135\n",
       "Solid Waste                 2719\n",
       "Animal Care Services        1200\n",
       "Trans & Cap Improvements     999\n",
       "Parks & Recreation           198\n",
       "Metro Health                  52\n",
       "Customer Service              23\n",
       "Name: department, dtype: int64"
      ]
     },
     "execution_count": 22,
     "metadata": {},
     "output_type": "execute_result"
    }
   ],
   "source": [
    "sample.department.value_counts()"
   ]
  },
  {
   "cell_type": "markdown",
   "id": "c9e665f2",
   "metadata": {},
   "source": [
    "### 2. Does the percentage of cases that are late vary by department?"
   ]
  },
  {
   "cell_type": "code",
   "execution_count": 24,
   "id": "391f25e4",
   "metadata": {},
   "outputs": [],
   "source": [
    "late_cases = sample[sample.case_late == True]"
   ]
  },
  {
   "cell_type": "code",
   "execution_count": 34,
   "id": "aa3ad183",
   "metadata": {},
   "outputs": [
    {
     "data": {
      "text/html": [
       "<div>\n",
       "<style scoped>\n",
       "    .dataframe tbody tr th:only-of-type {\n",
       "        vertical-align: middle;\n",
       "    }\n",
       "\n",
       "    .dataframe tbody tr th {\n",
       "        vertical-align: top;\n",
       "    }\n",
       "\n",
       "    .dataframe thead th {\n",
       "        text-align: right;\n",
       "    }\n",
       "</style>\n",
       "<table border=\"1\" class=\"dataframe\">\n",
       "  <thead>\n",
       "    <tr style=\"text-align: right;\">\n",
       "      <th></th>\n",
       "      <th>case_id</th>\n",
       "      <th>case_opened_date</th>\n",
       "      <th>case_closed_date</th>\n",
       "      <th>case_due_date</th>\n",
       "      <th>case_late</th>\n",
       "      <th>num_days_late</th>\n",
       "      <th>case_closed</th>\n",
       "      <th>service_request_type</th>\n",
       "      <th>SLA_days</th>\n",
       "      <th>case_status</th>\n",
       "      <th>source_id</th>\n",
       "      <th>request_address</th>\n",
       "      <th>council_district</th>\n",
       "      <th>num_weeks_late</th>\n",
       "      <th>zipcode</th>\n",
       "      <th>case_age</th>\n",
       "      <th>days_to_closed</th>\n",
       "      <th>case_lifetime</th>\n",
       "      <th>department</th>\n",
       "      <th>dept_subject_to_SLA</th>\n",
       "    </tr>\n",
       "  </thead>\n",
       "  <tbody>\n",
       "    <tr>\n",
       "      <th>4</th>\n",
       "      <td>1014127599</td>\n",
       "      <td>2018-01-01 15:25:00</td>\n",
       "      <td>2018-01-03 05:52:00</td>\n",
       "      <td>2018-01-02 03:25:00</td>\n",
       "      <td>True</td>\n",
       "      <td>1.101817</td>\n",
       "      <td>True</td>\n",
       "      <td>Trapped/Confined Animal</td>\n",
       "      <td>0.500000</td>\n",
       "      <td>Closed</td>\n",
       "      <td>rs16746</td>\n",
       "      <td>633  ST MARYS S, San Antonio, 78205</td>\n",
       "      <td>001</td>\n",
       "      <td>0.157402</td>\n",
       "      <td>78205</td>\n",
       "      <td>219</td>\n",
       "      <td>2.0</td>\n",
       "      <td>2</td>\n",
       "      <td>Animal Care Services</td>\n",
       "      <td>True</td>\n",
       "    </tr>\n",
       "    <tr>\n",
       "      <th>17</th>\n",
       "      <td>1014130563</td>\n",
       "      <td>2018-01-02 16:07:00</td>\n",
       "      <td>2018-02-27 10:32:00</td>\n",
       "      <td>2018-01-07 16:07:00</td>\n",
       "      <td>True</td>\n",
       "      <td>50.767535</td>\n",
       "      <td>True</td>\n",
       "      <td>Animal Neglect</td>\n",
       "      <td>5.000000</td>\n",
       "      <td>Closed</td>\n",
       "      <td>mc21309</td>\n",
       "      <td>3102  MAYFAIR DR, San Antonio, 78217</td>\n",
       "      <td>010</td>\n",
       "      <td>7.252505</td>\n",
       "      <td>78217</td>\n",
       "      <td>218</td>\n",
       "      <td>56.0</td>\n",
       "      <td>56</td>\n",
       "      <td>Animal Care Services</td>\n",
       "      <td>True</td>\n",
       "    </tr>\n",
       "    <tr>\n",
       "      <th>24</th>\n",
       "      <td>1014132095</td>\n",
       "      <td>2018-01-03 11:00:00</td>\n",
       "      <td>2018-03-12 09:44:00</td>\n",
       "      <td>2018-01-08 11:00:00</td>\n",
       "      <td>True</td>\n",
       "      <td>62.947072</td>\n",
       "      <td>True</td>\n",
       "      <td>Animal Neglect</td>\n",
       "      <td>5.000000</td>\n",
       "      <td>Closed</td>\n",
       "      <td>ss09159</td>\n",
       "      <td>1910  MAYFIELD W, San Antonio, 78211</td>\n",
       "      <td>004</td>\n",
       "      <td>8.992439</td>\n",
       "      <td>78211</td>\n",
       "      <td>217</td>\n",
       "      <td>68.0</td>\n",
       "      <td>68</td>\n",
       "      <td>Animal Care Services</td>\n",
       "      <td>True</td>\n",
       "    </tr>\n",
       "    <tr>\n",
       "      <th>25</th>\n",
       "      <td>1014132126</td>\n",
       "      <td>2018-01-03 11:05:00</td>\n",
       "      <td>2018-01-18 11:28:00</td>\n",
       "      <td>2018-01-08 11:05:00</td>\n",
       "      <td>True</td>\n",
       "      <td>10.016354</td>\n",
       "      <td>True</td>\n",
       "      <td>Aggressive Animal(Non-Critical)</td>\n",
       "      <td>5.000000</td>\n",
       "      <td>Closed</td>\n",
       "      <td>mp21218</td>\n",
       "      <td>305  PAUL ST, San Antonio, 78203</td>\n",
       "      <td>002</td>\n",
       "      <td>1.430908</td>\n",
       "      <td>78203</td>\n",
       "      <td>217</td>\n",
       "      <td>15.0</td>\n",
       "      <td>15</td>\n",
       "      <td>Animal Care Services</td>\n",
       "      <td>True</td>\n",
       "    </tr>\n",
       "    <tr>\n",
       "      <th>41</th>\n",
       "      <td>1014135882</td>\n",
       "      <td>2018-01-04 13:51:00</td>\n",
       "      <td>2018-01-22 08:00:00</td>\n",
       "      <td>2018-01-19 13:51:00</td>\n",
       "      <td>True</td>\n",
       "      <td>2.756111</td>\n",
       "      <td>True</td>\n",
       "      <td>Additional Garbage Container - with Fee</td>\n",
       "      <td>15.000000</td>\n",
       "      <td>Closed</td>\n",
       "      <td>svcCRMSS</td>\n",
       "      <td>74  KNIGHTS PEAK, San Antonio, 78254</td>\n",
       "      <td>007</td>\n",
       "      <td>0.393730</td>\n",
       "      <td>78254</td>\n",
       "      <td>216</td>\n",
       "      <td>18.0</td>\n",
       "      <td>18</td>\n",
       "      <td>Solid Waste</td>\n",
       "      <td>True</td>\n",
       "    </tr>\n",
       "    <tr>\n",
       "      <th>...</th>\n",
       "      <td>...</td>\n",
       "      <td>...</td>\n",
       "      <td>...</td>\n",
       "      <td>...</td>\n",
       "      <td>...</td>\n",
       "      <td>...</td>\n",
       "      <td>...</td>\n",
       "      <td>...</td>\n",
       "      <td>...</td>\n",
       "      <td>...</td>\n",
       "      <td>...</td>\n",
       "      <td>...</td>\n",
       "      <td>...</td>\n",
       "      <td>...</td>\n",
       "      <td>...</td>\n",
       "      <td>...</td>\n",
       "      <td>...</td>\n",
       "      <td>...</td>\n",
       "      <td>...</td>\n",
       "      <td>...</td>\n",
       "    </tr>\n",
       "    <tr>\n",
       "      <th>8411</th>\n",
       "      <td>1014105966</td>\n",
       "      <td>2017-12-19 14:43:00</td>\n",
       "      <td>2018-01-03 13:03:00</td>\n",
       "      <td>2017-12-24 14:43:00</td>\n",
       "      <td>True</td>\n",
       "      <td>9.931181</td>\n",
       "      <td>True</td>\n",
       "      <td>License Renewal Invoice</td>\n",
       "      <td>5.000000</td>\n",
       "      <td>Closed</td>\n",
       "      <td>ns16326</td>\n",
       "      <td>9505  FREDSBG RD, San Antonio, 78240</td>\n",
       "      <td>008</td>\n",
       "      <td>1.418740</td>\n",
       "      <td>78240</td>\n",
       "      <td>232</td>\n",
       "      <td>15.0</td>\n",
       "      <td>15</td>\n",
       "      <td>Metro Health</td>\n",
       "      <td>True</td>\n",
       "    </tr>\n",
       "    <tr>\n",
       "      <th>8425</th>\n",
       "      <td>1014108513</td>\n",
       "      <td>2017-12-20 14:23:00</td>\n",
       "      <td>2017-12-22 09:29:00</td>\n",
       "      <td>2017-12-21 02:23:00</td>\n",
       "      <td>True</td>\n",
       "      <td>1.295972</td>\n",
       "      <td>True</td>\n",
       "      <td>Aggressive Animal(Critical)</td>\n",
       "      <td>0.500000</td>\n",
       "      <td>Closed</td>\n",
       "      <td>140508</td>\n",
       "      <td>838  KEATS, San Antonio, 78211</td>\n",
       "      <td>005</td>\n",
       "      <td>0.185139</td>\n",
       "      <td>78211</td>\n",
       "      <td>231</td>\n",
       "      <td>2.0</td>\n",
       "      <td>2</td>\n",
       "      <td>Animal Care Services</td>\n",
       "      <td>True</td>\n",
       "    </tr>\n",
       "    <tr>\n",
       "      <th>8462</th>\n",
       "      <td>1014115651</td>\n",
       "      <td>2017-12-23 21:33:00</td>\n",
       "      <td>2018-02-04 12:13:00</td>\n",
       "      <td>2017-12-28 21:33:00</td>\n",
       "      <td>True</td>\n",
       "      <td>37.611354</td>\n",
       "      <td>True</td>\n",
       "      <td>Animal Neglect</td>\n",
       "      <td>5.000000</td>\n",
       "      <td>Closed</td>\n",
       "      <td>120752</td>\n",
       "      <td>1218  VICKERS AVE, San Antonio, 78211</td>\n",
       "      <td>005</td>\n",
       "      <td>5.373051</td>\n",
       "      <td>78211</td>\n",
       "      <td>228</td>\n",
       "      <td>43.0</td>\n",
       "      <td>43</td>\n",
       "      <td>Animal Care Services</td>\n",
       "      <td>True</td>\n",
       "    </tr>\n",
       "    <tr>\n",
       "      <th>8474</th>\n",
       "      <td>1014118817</td>\n",
       "      <td>2017-12-26 21:16:00</td>\n",
       "      <td>2017-12-27 09:28:00</td>\n",
       "      <td>2017-12-27 09:16:00</td>\n",
       "      <td>True</td>\n",
       "      <td>0.008692</td>\n",
       "      <td>True</td>\n",
       "      <td>Trapped/Confined Animal</td>\n",
       "      <td>0.500000</td>\n",
       "      <td>Closed</td>\n",
       "      <td>119555</td>\n",
       "      <td>122  STONEWALL AVE, San Antonio, 78214</td>\n",
       "      <td>003</td>\n",
       "      <td>0.001242</td>\n",
       "      <td>78214</td>\n",
       "      <td>225</td>\n",
       "      <td>1.0</td>\n",
       "      <td>1</td>\n",
       "      <td>Animal Care Services</td>\n",
       "      <td>True</td>\n",
       "    </tr>\n",
       "    <tr>\n",
       "      <th>8480</th>\n",
       "      <td>1014120960</td>\n",
       "      <td>2017-12-27 20:52:00</td>\n",
       "      <td>2018-01-04 09:37:00</td>\n",
       "      <td>2018-01-04 08:30:00</td>\n",
       "      <td>True</td>\n",
       "      <td>0.046910</td>\n",
       "      <td>True</td>\n",
       "      <td>Pot Hole Repair</td>\n",
       "      <td>7.484583</td>\n",
       "      <td>Closed</td>\n",
       "      <td>120752</td>\n",
       "      <td>WALZEM RD and WOODLAKE PKWY</td>\n",
       "      <td>002</td>\n",
       "      <td>0.006701</td>\n",
       "      <td></td>\n",
       "      <td>224</td>\n",
       "      <td>8.0</td>\n",
       "      <td>8</td>\n",
       "      <td>Trans &amp; Cap Improvements</td>\n",
       "      <td>True</td>\n",
       "    </tr>\n",
       "  </tbody>\n",
       "</table>\n",
       "<p>895 rows × 20 columns</p>\n",
       "</div>"
      ],
      "text/plain": [
       "         case_id    case_opened_date    case_closed_date       case_due_date  \\\n",
       "4     1014127599 2018-01-01 15:25:00 2018-01-03 05:52:00 2018-01-02 03:25:00   \n",
       "17    1014130563 2018-01-02 16:07:00 2018-02-27 10:32:00 2018-01-07 16:07:00   \n",
       "24    1014132095 2018-01-03 11:00:00 2018-03-12 09:44:00 2018-01-08 11:00:00   \n",
       "25    1014132126 2018-01-03 11:05:00 2018-01-18 11:28:00 2018-01-08 11:05:00   \n",
       "41    1014135882 2018-01-04 13:51:00 2018-01-22 08:00:00 2018-01-19 13:51:00   \n",
       "...          ...                 ...                 ...                 ...   \n",
       "8411  1014105966 2017-12-19 14:43:00 2018-01-03 13:03:00 2017-12-24 14:43:00   \n",
       "8425  1014108513 2017-12-20 14:23:00 2017-12-22 09:29:00 2017-12-21 02:23:00   \n",
       "8462  1014115651 2017-12-23 21:33:00 2018-02-04 12:13:00 2017-12-28 21:33:00   \n",
       "8474  1014118817 2017-12-26 21:16:00 2017-12-27 09:28:00 2017-12-27 09:16:00   \n",
       "8480  1014120960 2017-12-27 20:52:00 2018-01-04 09:37:00 2018-01-04 08:30:00   \n",
       "\n",
       "      case_late  num_days_late  case_closed  \\\n",
       "4          True       1.101817         True   \n",
       "17         True      50.767535         True   \n",
       "24         True      62.947072         True   \n",
       "25         True      10.016354         True   \n",
       "41         True       2.756111         True   \n",
       "...         ...            ...          ...   \n",
       "8411       True       9.931181         True   \n",
       "8425       True       1.295972         True   \n",
       "8462       True      37.611354         True   \n",
       "8474       True       0.008692         True   \n",
       "8480       True       0.046910         True   \n",
       "\n",
       "                         service_request_type   SLA_days case_status  \\\n",
       "4                     Trapped/Confined Animal   0.500000      Closed   \n",
       "17                             Animal Neglect   5.000000      Closed   \n",
       "24                             Animal Neglect   5.000000      Closed   \n",
       "25            Aggressive Animal(Non-Critical)   5.000000      Closed   \n",
       "41    Additional Garbage Container - with Fee  15.000000      Closed   \n",
       "...                                       ...        ...         ...   \n",
       "8411                  License Renewal Invoice   5.000000      Closed   \n",
       "8425              Aggressive Animal(Critical)   0.500000      Closed   \n",
       "8462                           Animal Neglect   5.000000      Closed   \n",
       "8474                  Trapped/Confined Animal   0.500000      Closed   \n",
       "8480                          Pot Hole Repair   7.484583      Closed   \n",
       "\n",
       "     source_id                         request_address council_district  \\\n",
       "4      rs16746     633  ST MARYS S, San Antonio, 78205              001   \n",
       "17     mc21309    3102  MAYFAIR DR, San Antonio, 78217              010   \n",
       "24     ss09159    1910  MAYFIELD W, San Antonio, 78211              004   \n",
       "25     mp21218        305  PAUL ST, San Antonio, 78203              002   \n",
       "41    svcCRMSS    74  KNIGHTS PEAK, San Antonio, 78254              007   \n",
       "...        ...                                     ...              ...   \n",
       "8411   ns16326    9505  FREDSBG RD, San Antonio, 78240              008   \n",
       "8425    140508          838  KEATS, San Antonio, 78211              005   \n",
       "8462    120752   1218  VICKERS AVE, San Antonio, 78211              005   \n",
       "8474    119555  122  STONEWALL AVE, San Antonio, 78214              003   \n",
       "8480    120752             WALZEM RD and WOODLAKE PKWY              002   \n",
       "\n",
       "      num_weeks_late zipcode  case_age  days_to_closed  case_lifetime  \\\n",
       "4           0.157402   78205       219             2.0              2   \n",
       "17          7.252505   78217       218            56.0             56   \n",
       "24          8.992439   78211       217            68.0             68   \n",
       "25          1.430908   78203       217            15.0             15   \n",
       "41          0.393730   78254       216            18.0             18   \n",
       "...              ...     ...       ...             ...            ...   \n",
       "8411        1.418740   78240       232            15.0             15   \n",
       "8425        0.185139   78211       231             2.0              2   \n",
       "8462        5.373051   78211       228            43.0             43   \n",
       "8474        0.001242   78214       225             1.0              1   \n",
       "8480        0.006701               224             8.0              8   \n",
       "\n",
       "                    department  dept_subject_to_SLA  \n",
       "4         Animal Care Services                 True  \n",
       "17        Animal Care Services                 True  \n",
       "24        Animal Care Services                 True  \n",
       "25        Animal Care Services                 True  \n",
       "41                 Solid Waste                 True  \n",
       "...                        ...                  ...  \n",
       "8411              Metro Health                 True  \n",
       "8425      Animal Care Services                 True  \n",
       "8462      Animal Care Services                 True  \n",
       "8474      Animal Care Services                 True  \n",
       "8480  Trans & Cap Improvements                 True  \n",
       "\n",
       "[895 rows x 20 columns]"
      ]
     },
     "execution_count": 34,
     "metadata": {},
     "output_type": "execute_result"
    }
   ],
   "source": [
    "late_cases"
   ]
  },
  {
   "cell_type": "code",
   "execution_count": 48,
   "id": "7e751e80",
   "metadata": {},
   "outputs": [
    {
     "data": {
      "text/plain": [
       "2719"
      ]
     },
     "execution_count": 48,
     "metadata": {},
     "output_type": "execute_result"
    }
   ],
   "source": [
    "(sample.department == 'Solid Waste').sum()"
   ]
  },
  {
   "cell_type": "code",
   "execution_count": 33,
   "id": "1656d851",
   "metadata": {},
   "outputs": [
    {
     "data": {
      "text/plain": [
       "Solid Waste                 310\n",
       "DSD/Code Enforcement        246\n",
       "Animal Care Services        236\n",
       "Trans & Cap Improvements     47\n",
       "Parks & Recreation           37\n",
       "Customer Service             15\n",
       "Metro Health                  4\n",
       "Name: department, dtype: int64"
      ]
     },
     "execution_count": 33,
     "metadata": {},
     "output_type": "execute_result"
    }
   ],
   "source": [
    "late_cases.department.value_counts()"
   ]
  },
  {
   "cell_type": "code",
   "execution_count": 36,
   "id": "874edd30",
   "metadata": {},
   "outputs": [
    {
     "data": {
      "text/plain": [
       "array(['Animal Care Services', 'Solid Waste', 'DSD/Code Enforcement',\n",
       "       'Trans & Cap Improvements', 'Parks & Recreation',\n",
       "       'Customer Service', 'Metro Health'], dtype=object)"
      ]
     },
     "execution_count": 36,
     "metadata": {},
     "output_type": "execute_result"
    }
   ],
   "source": [
    "late_cases.department.unique()"
   ]
  },
  {
   "cell_type": "code",
   "execution_count": 41,
   "id": "08818bd1",
   "metadata": {},
   "outputs": [
    {
     "data": {
      "text/plain": [
       "310"
      ]
     },
     "execution_count": 41,
     "metadata": {},
     "output_type": "execute_result"
    }
   ],
   "source": [
    "(late_cases.department == 'Solid Waste').sum()"
   ]
  },
  {
   "cell_type": "code",
   "execution_count": 57,
   "id": "efdff20c",
   "metadata": {},
   "outputs": [
    {
     "name": "stdout",
     "output_type": "stream",
     "text": [
      "Animal Care Services: 236 -> percentage of cases: 0.19666666666666666\n",
      "Solid Waste: 310 -> percentage of cases: 0.11401250459727841\n",
      "DSD/Code Enforcement: 246 -> percentage of cases: 0.0784688995215311\n",
      "Trans & Cap Improvements: 47 -> percentage of cases: 0.04704704704704705\n",
      "Parks & Recreation: 37 -> percentage of cases: 0.18686868686868688\n",
      "Customer Service: 15 -> percentage of cases: 0.6521739130434783\n",
      "Metro Health: 4 -> percentage of cases: 0.07692307692307693\n"
     ]
    }
   ],
   "source": [
    "for dept in late_cases.department.unique():\n",
    "    print(f'{dept}:', (late_cases.department == dept).sum(), '-> percentage of cases:', ((late_cases.department == dept).sum()/(sample.department == dept).sum()))\n"
   ]
  },
  {
   "cell_type": "markdown",
   "id": "bade4046",
   "metadata": {},
   "source": [
    "# Takeaways\n",
    "* Customer Service cases have the highest percentage of cases that are late with ~65% of its cases being completed late.\n",
    "* ~19% of Parks & Recreation cases are late."
   ]
  },
  {
   "cell_type": "markdown",
   "id": "c50b8109",
   "metadata": {},
   "source": [
    "### 3. On average, how late are the late cases by department?"
   ]
  },
  {
   "cell_type": "code",
   "execution_count": 68,
   "id": "0531e275",
   "metadata": {},
   "outputs": [
    {
     "data": {
      "text/plain": [
       "(895, 20)"
      ]
     },
     "execution_count": 68,
     "metadata": {},
     "output_type": "execute_result"
    }
   ],
   "source": [
    "late_cases.shape"
   ]
  },
  {
   "cell_type": "code",
   "execution_count": 67,
   "id": "bfe78b15",
   "metadata": {},
   "outputs": [
    {
     "data": {
      "text/plain": [
       "<AxesSubplot:>"
      ]
     },
     "execution_count": 67,
     "metadata": {},
     "output_type": "execute_result"
    },
    {
     "data": {
      "image/png": "[encoded data removed]",
      "text/plain": [
       "<Figure size 432x288 with 1 Axes>"
      ]
     },
     "metadata": {
      "needs_background": "light"
     },
     "output_type": "display_data"
    }
   ],
   "source": [
    "late_cases.boxplot(column='num_days_late')"
   ]
  },
  {
   "cell_type": "code",
   "execution_count": 64,
   "id": "293ae208",
   "metadata": {},
   "outputs": [
    {
     "data": {
      "text/plain": [
       "24.750423973296098"
      ]
     },
     "execution_count": 64,
     "metadata": {},
     "output_type": "execute_result"
    }
   ],
   "source": [
    "late_cases.num_days_late.mean()"
   ]
  },
  {
   "cell_type": "markdown",
   "id": "7e36141e",
   "metadata": {},
   "source": [
    "# Takeaways\n",
    "* Late cases are late by ~25 days, on average."
   ]
  },
  {
   "cell_type": "markdown",
   "id": "6dcf2d12",
   "metadata": {},
   "source": [
    "#### What is the average after removing outliers?"
   ]
  },
  {
   "cell_type": "code",
   "execution_count": null,
   "id": "5d062e97",
   "metadata": {},
   "outputs": [],
   "source": [
    "def remove_outliers(s, k):\n",
    "    '''\n",
    "    Given a series and a cutoff value, k, returns the upper outliers for the\n",
    "    series.\n",
    "\n",
    "    The values returned will be either 0 (if the point is not an outlier), or a\n",
    "    number that indicates how far away from the upper bound the observation is.\n",
    "    '''\n",
    "    q1, q3 = s.quantile([.25, .75])\n",
    "    iqr = q3 - q1\n",
    "    upper_bound = q3 + k * iqr"
   ]
  }
 ],
 "metadata": {
  "kernelspec": {
   "display_name": "Python 3 (ipykernel)",
   "language": "python",
   "name": "python3"
  },
  "language_info": {
   "codemirror_mode": {
    "name": "ipython",
    "version": 3
   },
   "file_extension": ".py",
   "mimetype": "text/x-python",
   "name": "python",
   "nbconvert_exporter": "python",
   "pygments_lexer": "ipython3",
   "version": "3.8.8"
  }
 },
 "nbformat": 4,
 "nbformat_minor": 5
}
