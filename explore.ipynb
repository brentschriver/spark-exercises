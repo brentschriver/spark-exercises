{
 "cells": [
  {
   "cell_type": "code",
   "execution_count": 141,
   "id": "bc16c5c6",
   "metadata": {},
   "outputs": [
    {
     "name": "stdout",
     "output_type": "stream",
     "text": [
      "[wrangle.py] reading case.csv\n"
     ]
    },
    {
     "name": "stderr",
     "output_type": "stream",
     "text": [
      "                                                                                \r"
     ]
    },
    {
     "name": "stdout",
     "output_type": "stream",
     "text": [
      "[wrangle.py] handling data types\n",
      "[wrangle.py] parsing dates\n",
      "[wrangle.py] adding features\n"
     ]
    },
    {
     "name": "stderr",
     "output_type": "stream",
     "text": [
      "                                                                                \r"
     ]
    },
    {
     "name": "stdout",
     "output_type": "stream",
     "text": [
      "[wrangle.py] joining departments\n",
      "\n",
      "df shape: (841704, 20)\n",
      "\n",
      "-RECORD 0------------------------------------\n",
      " case_id              | 1014127332           \n",
      " case_opened_date     | 2018-01-01 00:42:00  \n",
      " case_closed_date     | 2018-01-01 12:29:00  \n",
      " case_due_date        | 2020-09-26 00:42:00  \n",
      " case_late            | false                \n",
      " num_days_late        | -998.5087616000001   \n",
      " case_closed          | true                 \n",
      " service_request_type | Stray Animal         \n",
      " SLA_days             | 999.0                \n",
      " case_status          | Closed               \n",
      " source_id            | svcCRMLS             \n",
      " request_address      | 2315  EL PASO ST,... \n",
      " council_district     | 005                  \n",
      " num_weeks_late       | -142.6441088         \n",
      " zipcode              | 78207                \n",
      " case_age             | 219                  \n",
      " days_to_closed       | 0                    \n",
      " case_lifetime        | 0                    \n",
      " department           | Animal Care Services \n",
      " dept_subject_to_SLA  | true                 \n",
      "only showing top 1 row\n",
      "\n"
     ]
    }
   ],
   "source": [
    "import warnings\n",
    "\n",
    "warnings.filterwarnings(\"ignore\")\n",
    "\n",
    "import pyspark.sql\n",
    "from pyspark.sql.functions import *\n",
    "\n",
    "from scipy import stats\n",
    "import sklearn.preprocessing\n",
    "\n",
    "import numpy as np\n",
    "import pandas as pd\n",
    "\n",
    "%matplotlib inline\n",
    "import matplotlib.pyplot as plt\n",
    "import seaborn as sns\n",
    "\n",
    "from wrangle import wrangle_311\n",
    "\n",
    "spark = pyspark.sql.SparkSession.builder.getOrCreate()\n",
    "\n",
    "df = wrangle_311(spark)\n",
    "print(\"\\ndf shape: (%d, %d)\\n\" % (df.count(), len(df.columns)))\n",
    "df.show(1, vertical=True)"
   ]
  },
  {
   "cell_type": "code",
   "execution_count": 2,
   "id": "ca954130",
   "metadata": {},
   "outputs": [
    {
     "data": {
      "text/plain": [
       "DataFrame[case_id: int, case_opened_date: timestamp, case_closed_date: timestamp, case_due_date: timestamp, case_late: boolean, num_days_late: double, case_closed: boolean, service_request_type: string, SLA_days: double, case_status: string, source_id: string, request_address: string, council_district: string, num_weeks_late: double, zipcode: string, case_age: int, days_to_closed: int, case_lifetime: int, department: string, dept_subject_to_SLA: boolean]"
      ]
     },
     "execution_count": 2,
     "metadata": {},
     "output_type": "execute_result"
    }
   ],
   "source": [
    "df"
   ]
  },
  {
   "cell_type": "code",
   "execution_count": 3,
   "id": "070d89ef",
   "metadata": {},
   "outputs": [
    {
     "name": "stderr",
     "output_type": "stream",
     "text": [
      "                                                                                \r"
     ]
    }
   ],
   "source": [
    "sample = df.sample(fraction=0.01, seed=13).toPandas()"
   ]
  },
  {
   "cell_type": "code",
   "execution_count": 4,
   "id": "062ecbf7",
   "metadata": {},
   "outputs": [
    {
     "data": {
      "text/html": [
       "<div>\n",
       "<style scoped>\n",
       "    .dataframe tbody tr th:only-of-type {\n",
       "        vertical-align: middle;\n",
       "    }\n",
       "\n",
       "    .dataframe tbody tr th {\n",
       "        vertical-align: top;\n",
       "    }\n",
       "\n",
       "    .dataframe thead th {\n",
       "        text-align: right;\n",
       "    }\n",
       "</style>\n",
       "<table border=\"1\" class=\"dataframe\">\n",
       "  <thead>\n",
       "    <tr style=\"text-align: right;\">\n",
       "      <th></th>\n",
       "      <th>case_id</th>\n",
       "      <th>case_opened_date</th>\n",
       "      <th>case_closed_date</th>\n",
       "      <th>case_due_date</th>\n",
       "      <th>case_late</th>\n",
       "      <th>num_days_late</th>\n",
       "      <th>case_closed</th>\n",
       "      <th>service_request_type</th>\n",
       "      <th>SLA_days</th>\n",
       "      <th>case_status</th>\n",
       "      <th>source_id</th>\n",
       "      <th>request_address</th>\n",
       "      <th>council_district</th>\n",
       "      <th>num_weeks_late</th>\n",
       "      <th>zipcode</th>\n",
       "      <th>case_age</th>\n",
       "      <th>days_to_closed</th>\n",
       "      <th>case_lifetime</th>\n",
       "      <th>department</th>\n",
       "      <th>dept_subject_to_SLA</th>\n",
       "    </tr>\n",
       "  </thead>\n",
       "  <tbody>\n",
       "    <tr>\n",
       "      <th>0</th>\n",
       "      <td>1014127339</td>\n",
       "      <td>2018-01-01 06:58:00</td>\n",
       "      <td>2018-01-02 15:32:00</td>\n",
       "      <td>2018-01-17 08:30:00</td>\n",
       "      <td>False</td>\n",
       "      <td>-14.706620</td>\n",
       "      <td>True</td>\n",
       "      <td>Front Or Side Yard Parking</td>\n",
       "      <td>16.063796</td>\n",
       "      <td>Closed</td>\n",
       "      <td>svcCRMSS</td>\n",
       "      <td>10133  FIGARO CANYON, San Antonio, 78251</td>\n",
       "      <td>004</td>\n",
       "      <td>-2.100946</td>\n",
       "      <td>78251</td>\n",
       "      <td>219</td>\n",
       "      <td>1.0</td>\n",
       "      <td>1</td>\n",
       "      <td>DSD/Code Enforcement</td>\n",
       "      <td>True</td>\n",
       "    </tr>\n",
       "    <tr>\n",
       "      <th>1</th>\n",
       "      <td>1014127368</td>\n",
       "      <td>2018-01-01 07:18:00</td>\n",
       "      <td>2018-01-02 15:22:00</td>\n",
       "      <td>2018-01-17 08:30:00</td>\n",
       "      <td>False</td>\n",
       "      <td>-14.713275</td>\n",
       "      <td>True</td>\n",
       "      <td>Right Of Way/Sidewalk Obstruction</td>\n",
       "      <td>16.049769</td>\n",
       "      <td>Closed</td>\n",
       "      <td>svcCRMSS</td>\n",
       "      <td>10133  FIGARO CANYON, San Antonio, 78251</td>\n",
       "      <td>004</td>\n",
       "      <td>-2.101896</td>\n",
       "      <td>78251</td>\n",
       "      <td>219</td>\n",
       "      <td>1.0</td>\n",
       "      <td>1</td>\n",
       "      <td>DSD/Code Enforcement</td>\n",
       "      <td>True</td>\n",
       "    </tr>\n",
       "    <tr>\n",
       "      <th>2</th>\n",
       "      <td>1014127446</td>\n",
       "      <td>2018-01-01 11:27:00</td>\n",
       "      <td>2018-01-03 17:08:00</td>\n",
       "      <td>2018-01-06 11:27:00</td>\n",
       "      <td>False</td>\n",
       "      <td>-2.763333</td>\n",
       "      <td>True</td>\n",
       "      <td>Aggressive Animal(Non-Critical)</td>\n",
       "      <td>5.000000</td>\n",
       "      <td>Closed</td>\n",
       "      <td>139344</td>\n",
       "      <td>SAN FERNANDO and SAN HORACIO S</td>\n",
       "      <td>005</td>\n",
       "      <td>-0.394762</td>\n",
       "      <td></td>\n",
       "      <td>219</td>\n",
       "      <td>2.0</td>\n",
       "      <td>2</td>\n",
       "      <td>Animal Care Services</td>\n",
       "      <td>True</td>\n",
       "    </tr>\n",
       "    <tr>\n",
       "      <th>3</th>\n",
       "      <td>1014127470</td>\n",
       "      <td>2018-01-01 12:33:00</td>\n",
       "      <td>2018-01-01 12:43:00</td>\n",
       "      <td>2020-09-26 12:33:00</td>\n",
       "      <td>False</td>\n",
       "      <td>-998.993079</td>\n",
       "      <td>True</td>\n",
       "      <td>Stray Animal</td>\n",
       "      <td>999.000000</td>\n",
       "      <td>Closed</td>\n",
       "      <td>139344</td>\n",
       "      <td>159  SURFRIDER, San Antonio, 78242</td>\n",
       "      <td>004</td>\n",
       "      <td>-142.713297</td>\n",
       "      <td>78242</td>\n",
       "      <td>219</td>\n",
       "      <td>0.0</td>\n",
       "      <td>0</td>\n",
       "      <td>Animal Care Services</td>\n",
       "      <td>True</td>\n",
       "    </tr>\n",
       "    <tr>\n",
       "      <th>4</th>\n",
       "      <td>1014127599</td>\n",
       "      <td>2018-01-01 15:25:00</td>\n",
       "      <td>2018-01-03 05:52:00</td>\n",
       "      <td>2018-01-02 03:25:00</td>\n",
       "      <td>True</td>\n",
       "      <td>1.101817</td>\n",
       "      <td>True</td>\n",
       "      <td>Trapped/Confined Animal</td>\n",
       "      <td>0.500000</td>\n",
       "      <td>Closed</td>\n",
       "      <td>rs16746</td>\n",
       "      <td>633  ST MARYS S, San Antonio, 78205</td>\n",
       "      <td>001</td>\n",
       "      <td>0.157402</td>\n",
       "      <td>78205</td>\n",
       "      <td>219</td>\n",
       "      <td>2.0</td>\n",
       "      <td>2</td>\n",
       "      <td>Animal Care Services</td>\n",
       "      <td>True</td>\n",
       "    </tr>\n",
       "  </tbody>\n",
       "</table>\n",
       "</div>"
      ],
      "text/plain": [
       "      case_id    case_opened_date    case_closed_date       case_due_date  \\\n",
       "0  1014127339 2018-01-01 06:58:00 2018-01-02 15:32:00 2018-01-17 08:30:00   \n",
       "1  1014127368 2018-01-01 07:18:00 2018-01-02 15:22:00 2018-01-17 08:30:00   \n",
       "2  1014127446 2018-01-01 11:27:00 2018-01-03 17:08:00 2018-01-06 11:27:00   \n",
       "3  1014127470 2018-01-01 12:33:00 2018-01-01 12:43:00 2020-09-26 12:33:00   \n",
       "4  1014127599 2018-01-01 15:25:00 2018-01-03 05:52:00 2018-01-02 03:25:00   \n",
       "\n",
       "   case_late  num_days_late  case_closed               service_request_type  \\\n",
       "0      False     -14.706620         True         Front Or Side Yard Parking   \n",
       "1      False     -14.713275         True  Right Of Way/Sidewalk Obstruction   \n",
       "2      False      -2.763333         True    Aggressive Animal(Non-Critical)   \n",
       "3      False    -998.993079         True                       Stray Animal   \n",
       "4       True       1.101817         True            Trapped/Confined Animal   \n",
       "\n",
       "     SLA_days case_status source_id                           request_address  \\\n",
       "0   16.063796      Closed  svcCRMSS  10133  FIGARO CANYON, San Antonio, 78251   \n",
       "1   16.049769      Closed  svcCRMSS  10133  FIGARO CANYON, San Antonio, 78251   \n",
       "2    5.000000      Closed    139344            SAN FERNANDO and SAN HORACIO S   \n",
       "3  999.000000      Closed    139344        159  SURFRIDER, San Antonio, 78242   \n",
       "4    0.500000      Closed   rs16746       633  ST MARYS S, San Antonio, 78205   \n",
       "\n",
       "  council_district  num_weeks_late zipcode  case_age  days_to_closed  \\\n",
       "0              004       -2.100946   78251       219             1.0   \n",
       "1              004       -2.101896   78251       219             1.0   \n",
       "2              005       -0.394762               219             2.0   \n",
       "3              004     -142.713297   78242       219             0.0   \n",
       "4              001        0.157402   78205       219             2.0   \n",
       "\n",
       "   case_lifetime            department  dept_subject_to_SLA  \n",
       "0              1  DSD/Code Enforcement                 True  \n",
       "1              1  DSD/Code Enforcement                 True  \n",
       "2              2  Animal Care Services                 True  \n",
       "3              0  Animal Care Services                 True  \n",
       "4              2  Animal Care Services                 True  "
      ]
     },
     "execution_count": 4,
     "metadata": {},
     "output_type": "execute_result"
    }
   ],
   "source": [
    "sample.head()"
   ]
  },
  {
   "cell_type": "markdown",
   "id": "b4858266",
   "metadata": {},
   "source": [
    "Explore the distribution of the case_lifetime feature:"
   ]
  },
  {
   "cell_type": "code",
   "execution_count": 5,
   "id": "cfda17d3",
   "metadata": {},
   "outputs": [
    {
     "data": {
      "text/plain": [
       "<AxesSubplot:ylabel='Frequency'>"
      ]
     },
     "execution_count": 5,
     "metadata": {},
     "output_type": "execute_result"
    },
    {
     "data": {
      "image/png": "[encoded data removed]",
      "text/plain": [
       "<Figure size 432x288 with 1 Axes>"
      ]
     },
     "metadata": {
      "needs_background": "light"
     },
     "output_type": "display_data"
    }
   ],
   "source": [
    "sample.case_lifetime.plot.hist()"
   ]
  },
  {
   "cell_type": "code",
   "execution_count": 6,
   "id": "f91fc1fb",
   "metadata": {},
   "outputs": [
    {
     "name": "stdout",
     "output_type": "stream",
     "text": [
      "[0, 1)        2539\n",
      "[1, 2)        1649\n",
      "[2, 5)        1453\n",
      "[5, 15)       1449\n",
      "[15, 1000)    1432\n",
      "Name: case_lifetime, dtype: int64\n"
     ]
    },
    {
     "data": {
      "text/plain": [
       "Text(0.5, 1.0, 'Overall Case Lifetime')"
      ]
     },
     "execution_count": 6,
     "metadata": {},
     "output_type": "execute_result"
    },
    {
     "data": {
      "image/png": "[encoded data removed]",
      "text/plain": [
       "<Figure size 432x288 with 1 Axes>"
      ]
     },
     "metadata": {
      "needs_background": "light"
     },
     "output_type": "display_data"
    }
   ],
   "source": [
    "# In the call to `pd.cut`, we add right=False so that the behavior of pd.cut\n",
    "# aligns with the behavior of np.histogram, which is what matplotlib uses when\n",
    "# constructing a histogram.\n",
    "\n",
    "# custom bins of varying widths\n",
    "bins = [0, 1, 2, 5, 15, 1000]\n",
    "\n",
    "print(\n",
    "    pd.cut(sample.case_lifetime, bins, right=False).value_counts().sort_index()\n",
    ")\n",
    "\n",
    "pd.cut(\n",
    "    sample.case_lifetime, bins, right=False\n",
    ").value_counts().sort_index().plot.bar(\n",
    "    width=1, edgecolor=\"black\", color=\"pink\"\n",
    ")\n",
    "plt.xticks(rotation=0)\n",
    "plt.title(\"Overall Case Lifetime\")"
   ]
  },
  {
   "cell_type": "code",
   "execution_count": 7,
   "id": "230a9636",
   "metadata": {},
   "outputs": [
    {
     "name": "stdout",
     "output_type": "stream",
     "text": [
      "+--------------------+----------------+----------------+\n",
      "|          department|case_opened_date|case_closed_date|\n",
      "+--------------------+----------------+----------------+\n",
      "|Animal Care Services|      2018-01-01|      2018-01-01|\n",
      "|Trans & Cap Impro...|      2018-01-01|      2018-01-03|\n",
      "|Trans & Cap Impro...|      2018-01-01|      2018-01-02|\n",
      "|DSD/Code Enforcement|      2018-01-01|      2018-01-02|\n",
      "|Animal Care Services|      2018-01-01|      2018-01-01|\n",
      "+--------------------+----------------+----------------+\n",
      "only showing top 5 rows\n",
      "\n"
     ]
    }
   ],
   "source": [
    "cases_by_day = df.select(\n",
    "    \"department\",\n",
    "    date_format(\"case_opened_date\", \"yyyy-MM-dd\").alias(\"case_opened_date\"),\n",
    "    date_format(\"case_closed_date\", \"yyyy-MM-dd\").alias(\"case_closed_date\"),\n",
    ")\n",
    "\n",
    "cases_by_day.show(5)\n"
   ]
  },
  {
   "cell_type": "markdown",
   "id": "41345c26",
   "metadata": {},
   "source": [
    "# Exercises"
   ]
  },
  {
   "cell_type": "code",
   "execution_count": 9,
   "id": "6663ec17",
   "metadata": {},
   "outputs": [
    {
     "data": {
      "text/plain": [
       "(8522, 20)"
      ]
     },
     "execution_count": 9,
     "metadata": {},
     "output_type": "execute_result"
    }
   ],
   "source": [
    "# Check the shape of the dataset.\n",
    "sample.shape"
   ]
  },
  {
   "cell_type": "code",
   "execution_count": 10,
   "id": "74a4b93e",
   "metadata": {},
   "outputs": [
    {
     "data": {
      "text/html": [
       "<div>\n",
       "<style scoped>\n",
       "    .dataframe tbody tr th:only-of-type {\n",
       "        vertical-align: middle;\n",
       "    }\n",
       "\n",
       "    .dataframe tbody tr th {\n",
       "        vertical-align: top;\n",
       "    }\n",
       "\n",
       "    .dataframe thead th {\n",
       "        text-align: right;\n",
       "    }\n",
       "</style>\n",
       "<table border=\"1\" class=\"dataframe\">\n",
       "  <thead>\n",
       "    <tr style=\"text-align: right;\">\n",
       "      <th></th>\n",
       "      <th>case_id</th>\n",
       "      <th>case_opened_date</th>\n",
       "      <th>case_closed_date</th>\n",
       "      <th>case_due_date</th>\n",
       "      <th>case_late</th>\n",
       "      <th>num_days_late</th>\n",
       "      <th>case_closed</th>\n",
       "      <th>service_request_type</th>\n",
       "      <th>SLA_days</th>\n",
       "      <th>case_status</th>\n",
       "      <th>source_id</th>\n",
       "      <th>request_address</th>\n",
       "      <th>council_district</th>\n",
       "      <th>num_weeks_late</th>\n",
       "      <th>zipcode</th>\n",
       "      <th>case_age</th>\n",
       "      <th>days_to_closed</th>\n",
       "      <th>case_lifetime</th>\n",
       "      <th>department</th>\n",
       "      <th>dept_subject_to_SLA</th>\n",
       "    </tr>\n",
       "  </thead>\n",
       "  <tbody>\n",
       "    <tr>\n",
       "      <th>0</th>\n",
       "      <td>1014127339</td>\n",
       "      <td>2018-01-01 06:58:00</td>\n",
       "      <td>2018-01-02 15:32:00</td>\n",
       "      <td>2018-01-17 08:30:00</td>\n",
       "      <td>False</td>\n",
       "      <td>-14.706620</td>\n",
       "      <td>True</td>\n",
       "      <td>Front Or Side Yard Parking</td>\n",
       "      <td>16.063796</td>\n",
       "      <td>Closed</td>\n",
       "      <td>svcCRMSS</td>\n",
       "      <td>10133  FIGARO CANYON, San Antonio, 78251</td>\n",
       "      <td>004</td>\n",
       "      <td>-2.100946</td>\n",
       "      <td>78251</td>\n",
       "      <td>219</td>\n",
       "      <td>1.0</td>\n",
       "      <td>1</td>\n",
       "      <td>DSD/Code Enforcement</td>\n",
       "      <td>True</td>\n",
       "    </tr>\n",
       "    <tr>\n",
       "      <th>1</th>\n",
       "      <td>1014127368</td>\n",
       "      <td>2018-01-01 07:18:00</td>\n",
       "      <td>2018-01-02 15:22:00</td>\n",
       "      <td>2018-01-17 08:30:00</td>\n",
       "      <td>False</td>\n",
       "      <td>-14.713275</td>\n",
       "      <td>True</td>\n",
       "      <td>Right Of Way/Sidewalk Obstruction</td>\n",
       "      <td>16.049769</td>\n",
       "      <td>Closed</td>\n",
       "      <td>svcCRMSS</td>\n",
       "      <td>10133  FIGARO CANYON, San Antonio, 78251</td>\n",
       "      <td>004</td>\n",
       "      <td>-2.101896</td>\n",
       "      <td>78251</td>\n",
       "      <td>219</td>\n",
       "      <td>1.0</td>\n",
       "      <td>1</td>\n",
       "      <td>DSD/Code Enforcement</td>\n",
       "      <td>True</td>\n",
       "    </tr>\n",
       "    <tr>\n",
       "      <th>2</th>\n",
       "      <td>1014127446</td>\n",
       "      <td>2018-01-01 11:27:00</td>\n",
       "      <td>2018-01-03 17:08:00</td>\n",
       "      <td>2018-01-06 11:27:00</td>\n",
       "      <td>False</td>\n",
       "      <td>-2.763333</td>\n",
       "      <td>True</td>\n",
       "      <td>Aggressive Animal(Non-Critical)</td>\n",
       "      <td>5.000000</td>\n",
       "      <td>Closed</td>\n",
       "      <td>139344</td>\n",
       "      <td>SAN FERNANDO and SAN HORACIO S</td>\n",
       "      <td>005</td>\n",
       "      <td>-0.394762</td>\n",
       "      <td></td>\n",
       "      <td>219</td>\n",
       "      <td>2.0</td>\n",
       "      <td>2</td>\n",
       "      <td>Animal Care Services</td>\n",
       "      <td>True</td>\n",
       "    </tr>\n",
       "    <tr>\n",
       "      <th>3</th>\n",
       "      <td>1014127470</td>\n",
       "      <td>2018-01-01 12:33:00</td>\n",
       "      <td>2018-01-01 12:43:00</td>\n",
       "      <td>2020-09-26 12:33:00</td>\n",
       "      <td>False</td>\n",
       "      <td>-998.993079</td>\n",
       "      <td>True</td>\n",
       "      <td>Stray Animal</td>\n",
       "      <td>999.000000</td>\n",
       "      <td>Closed</td>\n",
       "      <td>139344</td>\n",
       "      <td>159  SURFRIDER, San Antonio, 78242</td>\n",
       "      <td>004</td>\n",
       "      <td>-142.713297</td>\n",
       "      <td>78242</td>\n",
       "      <td>219</td>\n",
       "      <td>0.0</td>\n",
       "      <td>0</td>\n",
       "      <td>Animal Care Services</td>\n",
       "      <td>True</td>\n",
       "    </tr>\n",
       "    <tr>\n",
       "      <th>4</th>\n",
       "      <td>1014127599</td>\n",
       "      <td>2018-01-01 15:25:00</td>\n",
       "      <td>2018-01-03 05:52:00</td>\n",
       "      <td>2018-01-02 03:25:00</td>\n",
       "      <td>True</td>\n",
       "      <td>1.101817</td>\n",
       "      <td>True</td>\n",
       "      <td>Trapped/Confined Animal</td>\n",
       "      <td>0.500000</td>\n",
       "      <td>Closed</td>\n",
       "      <td>rs16746</td>\n",
       "      <td>633  ST MARYS S, San Antonio, 78205</td>\n",
       "      <td>001</td>\n",
       "      <td>0.157402</td>\n",
       "      <td>78205</td>\n",
       "      <td>219</td>\n",
       "      <td>2.0</td>\n",
       "      <td>2</td>\n",
       "      <td>Animal Care Services</td>\n",
       "      <td>True</td>\n",
       "    </tr>\n",
       "  </tbody>\n",
       "</table>\n",
       "</div>"
      ],
      "text/plain": [
       "      case_id    case_opened_date    case_closed_date       case_due_date  \\\n",
       "0  1014127339 2018-01-01 06:58:00 2018-01-02 15:32:00 2018-01-17 08:30:00   \n",
       "1  1014127368 2018-01-01 07:18:00 2018-01-02 15:22:00 2018-01-17 08:30:00   \n",
       "2  1014127446 2018-01-01 11:27:00 2018-01-03 17:08:00 2018-01-06 11:27:00   \n",
       "3  1014127470 2018-01-01 12:33:00 2018-01-01 12:43:00 2020-09-26 12:33:00   \n",
       "4  1014127599 2018-01-01 15:25:00 2018-01-03 05:52:00 2018-01-02 03:25:00   \n",
       "\n",
       "   case_late  num_days_late  case_closed               service_request_type  \\\n",
       "0      False     -14.706620         True         Front Or Side Yard Parking   \n",
       "1      False     -14.713275         True  Right Of Way/Sidewalk Obstruction   \n",
       "2      False      -2.763333         True    Aggressive Animal(Non-Critical)   \n",
       "3      False    -998.993079         True                       Stray Animal   \n",
       "4       True       1.101817         True            Trapped/Confined Animal   \n",
       "\n",
       "     SLA_days case_status source_id                           request_address  \\\n",
       "0   16.063796      Closed  svcCRMSS  10133  FIGARO CANYON, San Antonio, 78251   \n",
       "1   16.049769      Closed  svcCRMSS  10133  FIGARO CANYON, San Antonio, 78251   \n",
       "2    5.000000      Closed    139344            SAN FERNANDO and SAN HORACIO S   \n",
       "3  999.000000      Closed    139344        159  SURFRIDER, San Antonio, 78242   \n",
       "4    0.500000      Closed   rs16746       633  ST MARYS S, San Antonio, 78205   \n",
       "\n",
       "  council_district  num_weeks_late zipcode  case_age  days_to_closed  \\\n",
       "0              004       -2.100946   78251       219             1.0   \n",
       "1              004       -2.101896   78251       219             1.0   \n",
       "2              005       -0.394762               219             2.0   \n",
       "3              004     -142.713297   78242       219             0.0   \n",
       "4              001        0.157402   78205       219             2.0   \n",
       "\n",
       "   case_lifetime            department  dept_subject_to_SLA  \n",
       "0              1  DSD/Code Enforcement                 True  \n",
       "1              1  DSD/Code Enforcement                 True  \n",
       "2              2  Animal Care Services                 True  \n",
       "3              0  Animal Care Services                 True  \n",
       "4              2  Animal Care Services                 True  "
      ]
     },
     "execution_count": 10,
     "metadata": {},
     "output_type": "execute_result"
    }
   ],
   "source": [
    "# Get familiar with the dataframe.\n",
    "sample.head()"
   ]
  },
  {
   "cell_type": "code",
   "execution_count": 13,
   "id": "b1a8a64a",
   "metadata": {},
   "outputs": [
    {
     "name": "stdout",
     "output_type": "stream",
     "text": [
      "<class 'pandas.core.frame.DataFrame'>\n",
      "RangeIndex: 8522 entries, 0 to 8521\n",
      "Data columns (total 20 columns):\n",
      " #   Column                Non-Null Count  Dtype         \n",
      "---  ------                --------------  -----         \n",
      " 0   case_id               8522 non-null   int32         \n",
      " 1   case_opened_date      8522 non-null   datetime64[ns]\n",
      " 2   case_closed_date      8326 non-null   datetime64[ns]\n",
      " 3   case_due_date         8522 non-null   datetime64[ns]\n",
      " 4   case_late             8522 non-null   bool          \n",
      " 5   num_days_late         8522 non-null   float64       \n",
      " 6   case_closed           8522 non-null   bool          \n",
      " 7   service_request_type  8522 non-null   object        \n",
      " 8   SLA_days              8522 non-null   float64       \n",
      " 9   case_status           8522 non-null   object        \n",
      " 10  source_id             8522 non-null   object        \n",
      " 11  request_address       8522 non-null   object        \n",
      " 12  council_district      8522 non-null   object        \n",
      " 13  num_weeks_late        8522 non-null   float64       \n",
      " 14  zipcode               8522 non-null   object        \n",
      " 15  case_age              8522 non-null   int32         \n",
      " 16  days_to_closed        8326 non-null   float64       \n",
      " 17  case_lifetime         8522 non-null   int32         \n",
      " 18  department            8522 non-null   object        \n",
      " 19  dept_subject_to_SLA   8522 non-null   bool          \n",
      "dtypes: bool(3), datetime64[ns](3), float64(4), int32(3), object(7)\n",
      "memory usage: 1.0+ MB\n"
     ]
    }
   ],
   "source": [
    "# Check data types and null values.\n",
    "sample.info()"
   ]
  },
  {
   "cell_type": "code",
   "execution_count": 17,
   "id": "1bf3338b",
   "metadata": {},
   "outputs": [],
   "source": [
    "# Drop null values.\n",
    "sample.dropna(inplace=True)"
   ]
  },
  {
   "cell_type": "code",
   "execution_count": 30,
   "id": "4bb88fd7",
   "metadata": {},
   "outputs": [
    {
     "data": {
      "text/html": [
       "<div>\n",
       "<style scoped>\n",
       "    .dataframe tbody tr th:only-of-type {\n",
       "        vertical-align: middle;\n",
       "    }\n",
       "\n",
       "    .dataframe tbody tr th {\n",
       "        vertical-align: top;\n",
       "    }\n",
       "\n",
       "    .dataframe thead th {\n",
       "        text-align: right;\n",
       "    }\n",
       "</style>\n",
       "<table border=\"1\" class=\"dataframe\">\n",
       "  <thead>\n",
       "    <tr style=\"text-align: right;\">\n",
       "      <th></th>\n",
       "      <th>case_id</th>\n",
       "      <th>case_opened_date</th>\n",
       "      <th>case_closed_date</th>\n",
       "      <th>case_due_date</th>\n",
       "      <th>case_late</th>\n",
       "      <th>num_days_late</th>\n",
       "      <th>case_closed</th>\n",
       "      <th>service_request_type</th>\n",
       "      <th>SLA_days</th>\n",
       "      <th>case_status</th>\n",
       "      <th>source_id</th>\n",
       "      <th>request_address</th>\n",
       "      <th>council_district</th>\n",
       "      <th>num_weeks_late</th>\n",
       "      <th>zipcode</th>\n",
       "      <th>case_age</th>\n",
       "      <th>days_to_closed</th>\n",
       "      <th>case_lifetime</th>\n",
       "      <th>department</th>\n",
       "      <th>dept_subject_to_SLA</th>\n",
       "    </tr>\n",
       "  </thead>\n",
       "  <tbody>\n",
       "    <tr>\n",
       "      <th>0</th>\n",
       "      <td>1014127339</td>\n",
       "      <td>2018-01-01 06:58:00</td>\n",
       "      <td>2018-01-02 15:32:00</td>\n",
       "      <td>2018-01-17 08:30:00</td>\n",
       "      <td>False</td>\n",
       "      <td>-14.706620</td>\n",
       "      <td>True</td>\n",
       "      <td>Front Or Side Yard Parking</td>\n",
       "      <td>16.063796</td>\n",
       "      <td>Closed</td>\n",
       "      <td>svcCRMSS</td>\n",
       "      <td>10133  FIGARO CANYON, San Antonio, 78251</td>\n",
       "      <td>004</td>\n",
       "      <td>-2.100946</td>\n",
       "      <td>78251</td>\n",
       "      <td>219</td>\n",
       "      <td>1.0</td>\n",
       "      <td>1</td>\n",
       "      <td>DSD/Code Enforcement</td>\n",
       "      <td>True</td>\n",
       "    </tr>\n",
       "    <tr>\n",
       "      <th>1</th>\n",
       "      <td>1014127368</td>\n",
       "      <td>2018-01-01 07:18:00</td>\n",
       "      <td>2018-01-02 15:22:00</td>\n",
       "      <td>2018-01-17 08:30:00</td>\n",
       "      <td>False</td>\n",
       "      <td>-14.713275</td>\n",
       "      <td>True</td>\n",
       "      <td>Right Of Way/Sidewalk Obstruction</td>\n",
       "      <td>16.049769</td>\n",
       "      <td>Closed</td>\n",
       "      <td>svcCRMSS</td>\n",
       "      <td>10133  FIGARO CANYON, San Antonio, 78251</td>\n",
       "      <td>004</td>\n",
       "      <td>-2.101896</td>\n",
       "      <td>78251</td>\n",
       "      <td>219</td>\n",
       "      <td>1.0</td>\n",
       "      <td>1</td>\n",
       "      <td>DSD/Code Enforcement</td>\n",
       "      <td>True</td>\n",
       "    </tr>\n",
       "    <tr>\n",
       "      <th>2</th>\n",
       "      <td>1014127446</td>\n",
       "      <td>2018-01-01 11:27:00</td>\n",
       "      <td>2018-01-03 17:08:00</td>\n",
       "      <td>2018-01-06 11:27:00</td>\n",
       "      <td>False</td>\n",
       "      <td>-2.763333</td>\n",
       "      <td>True</td>\n",
       "      <td>Aggressive Animal(Non-Critical)</td>\n",
       "      <td>5.000000</td>\n",
       "      <td>Closed</td>\n",
       "      <td>139344</td>\n",
       "      <td>SAN FERNANDO and SAN HORACIO S</td>\n",
       "      <td>005</td>\n",
       "      <td>-0.394762</td>\n",
       "      <td></td>\n",
       "      <td>219</td>\n",
       "      <td>2.0</td>\n",
       "      <td>2</td>\n",
       "      <td>Animal Care Services</td>\n",
       "      <td>True</td>\n",
       "    </tr>\n",
       "    <tr>\n",
       "      <th>3</th>\n",
       "      <td>1014127470</td>\n",
       "      <td>2018-01-01 12:33:00</td>\n",
       "      <td>2018-01-01 12:43:00</td>\n",
       "      <td>2020-09-26 12:33:00</td>\n",
       "      <td>False</td>\n",
       "      <td>-998.993079</td>\n",
       "      <td>True</td>\n",
       "      <td>Stray Animal</td>\n",
       "      <td>999.000000</td>\n",
       "      <td>Closed</td>\n",
       "      <td>139344</td>\n",
       "      <td>159  SURFRIDER, San Antonio, 78242</td>\n",
       "      <td>004</td>\n",
       "      <td>-142.713297</td>\n",
       "      <td>78242</td>\n",
       "      <td>219</td>\n",
       "      <td>0.0</td>\n",
       "      <td>0</td>\n",
       "      <td>Animal Care Services</td>\n",
       "      <td>True</td>\n",
       "    </tr>\n",
       "    <tr>\n",
       "      <th>4</th>\n",
       "      <td>1014127599</td>\n",
       "      <td>2018-01-01 15:25:00</td>\n",
       "      <td>2018-01-03 05:52:00</td>\n",
       "      <td>2018-01-02 03:25:00</td>\n",
       "      <td>True</td>\n",
       "      <td>1.101817</td>\n",
       "      <td>True</td>\n",
       "      <td>Trapped/Confined Animal</td>\n",
       "      <td>0.500000</td>\n",
       "      <td>Closed</td>\n",
       "      <td>rs16746</td>\n",
       "      <td>633  ST MARYS S, San Antonio, 78205</td>\n",
       "      <td>001</td>\n",
       "      <td>0.157402</td>\n",
       "      <td>78205</td>\n",
       "      <td>219</td>\n",
       "      <td>2.0</td>\n",
       "      <td>2</td>\n",
       "      <td>Animal Care Services</td>\n",
       "      <td>True</td>\n",
       "    </tr>\n",
       "  </tbody>\n",
       "</table>\n",
       "</div>"
      ],
      "text/plain": [
       "      case_id    case_opened_date    case_closed_date       case_due_date  \\\n",
       "0  1014127339 2018-01-01 06:58:00 2018-01-02 15:32:00 2018-01-17 08:30:00   \n",
       "1  1014127368 2018-01-01 07:18:00 2018-01-02 15:22:00 2018-01-17 08:30:00   \n",
       "2  1014127446 2018-01-01 11:27:00 2018-01-03 17:08:00 2018-01-06 11:27:00   \n",
       "3  1014127470 2018-01-01 12:33:00 2018-01-01 12:43:00 2020-09-26 12:33:00   \n",
       "4  1014127599 2018-01-01 15:25:00 2018-01-03 05:52:00 2018-01-02 03:25:00   \n",
       "\n",
       "   case_late  num_days_late  case_closed               service_request_type  \\\n",
       "0      False     -14.706620         True         Front Or Side Yard Parking   \n",
       "1      False     -14.713275         True  Right Of Way/Sidewalk Obstruction   \n",
       "2      False      -2.763333         True    Aggressive Animal(Non-Critical)   \n",
       "3      False    -998.993079         True                       Stray Animal   \n",
       "4       True       1.101817         True            Trapped/Confined Animal   \n",
       "\n",
       "     SLA_days case_status source_id                           request_address  \\\n",
       "0   16.063796      Closed  svcCRMSS  10133  FIGARO CANYON, San Antonio, 78251   \n",
       "1   16.049769      Closed  svcCRMSS  10133  FIGARO CANYON, San Antonio, 78251   \n",
       "2    5.000000      Closed    139344            SAN FERNANDO and SAN HORACIO S   \n",
       "3  999.000000      Closed    139344        159  SURFRIDER, San Antonio, 78242   \n",
       "4    0.500000      Closed   rs16746       633  ST MARYS S, San Antonio, 78205   \n",
       "\n",
       "  council_district  num_weeks_late zipcode  case_age  days_to_closed  \\\n",
       "0              004       -2.100946   78251       219             1.0   \n",
       "1              004       -2.101896   78251       219             1.0   \n",
       "2              005       -0.394762               219             2.0   \n",
       "3              004     -142.713297   78242       219             0.0   \n",
       "4              001        0.157402   78205       219             2.0   \n",
       "\n",
       "   case_lifetime            department  dept_subject_to_SLA  \n",
       "0              1  DSD/Code Enforcement                 True  \n",
       "1              1  DSD/Code Enforcement                 True  \n",
       "2              2  Animal Care Services                 True  \n",
       "3              0  Animal Care Services                 True  \n",
       "4              2  Animal Care Services                 True  "
      ]
     },
     "execution_count": 30,
     "metadata": {},
     "output_type": "execute_result"
    }
   ],
   "source": [
    "sample.head()"
   ]
  },
  {
   "cell_type": "markdown",
   "id": "223bead1",
   "metadata": {},
   "source": [
    "### 1. In the sample data, how many different cases are there, by department?"
   ]
  },
  {
   "cell_type": "code",
   "execution_count": 22,
   "id": "c450ae89",
   "metadata": {},
   "outputs": [
    {
     "data": {
      "text/plain": [
       "DSD/Code Enforcement        3135\n",
       "Solid Waste                 2719\n",
       "Animal Care Services        1200\n",
       "Trans & Cap Improvements     999\n",
       "Parks & Recreation           198\n",
       "Metro Health                  52\n",
       "Customer Service              23\n",
       "Name: department, dtype: int64"
      ]
     },
     "execution_count": 22,
     "metadata": {},
     "output_type": "execute_result"
    }
   ],
   "source": [
    "sample.department.value_counts()"
   ]
  },
  {
   "cell_type": "markdown",
   "id": "99f8f99f",
   "metadata": {},
   "source": [
    "### 2. In the sample data, does the percentage of cases that are late vary by department?"
   ]
  },
  {
   "cell_type": "code",
   "execution_count": 24,
   "id": "9bfad751",
   "metadata": {},
   "outputs": [],
   "source": [
    "late_cases = sample[sample.case_late == True]"
   ]
  },
  {
   "cell_type": "code",
   "execution_count": 34,
   "id": "94061d7e",
   "metadata": {},
   "outputs": [
    {
     "data": {
      "text/html": [
       "<div>\n",
       "<style scoped>\n",
       "    .dataframe tbody tr th:only-of-type {\n",
       "        vertical-align: middle;\n",
       "    }\n",
       "\n",
       "    .dataframe tbody tr th {\n",
       "        vertical-align: top;\n",
       "    }\n",
       "\n",
       "    .dataframe thead th {\n",
       "        text-align: right;\n",
       "    }\n",
       "</style>\n",
       "<table border=\"1\" class=\"dataframe\">\n",
       "  <thead>\n",
       "    <tr style=\"text-align: right;\">\n",
       "      <th></th>\n",
       "      <th>case_id</th>\n",
       "      <th>case_opened_date</th>\n",
       "      <th>case_closed_date</th>\n",
       "      <th>case_due_date</th>\n",
       "      <th>case_late</th>\n",
       "      <th>num_days_late</th>\n",
       "      <th>case_closed</th>\n",
       "      <th>service_request_type</th>\n",
       "      <th>SLA_days</th>\n",
       "      <th>case_status</th>\n",
       "      <th>source_id</th>\n",
       "      <th>request_address</th>\n",
       "      <th>council_district</th>\n",
       "      <th>num_weeks_late</th>\n",
       "      <th>zipcode</th>\n",
       "      <th>case_age</th>\n",
       "      <th>days_to_closed</th>\n",
       "      <th>case_lifetime</th>\n",
       "      <th>department</th>\n",
       "      <th>dept_subject_to_SLA</th>\n",
       "    </tr>\n",
       "  </thead>\n",
       "  <tbody>\n",
       "    <tr>\n",
       "      <th>4</th>\n",
       "      <td>1014127599</td>\n",
       "      <td>2018-01-01 15:25:00</td>\n",
       "      <td>2018-01-03 05:52:00</td>\n",
       "      <td>2018-01-02 03:25:00</td>\n",
       "      <td>True</td>\n",
       "      <td>1.101817</td>\n",
       "      <td>True</td>\n",
       "      <td>Trapped/Confined Animal</td>\n",
       "      <td>0.500000</td>\n",
       "      <td>Closed</td>\n",
       "      <td>rs16746</td>\n",
       "      <td>633  ST MARYS S, San Antonio, 78205</td>\n",
       "      <td>001</td>\n",
       "      <td>0.157402</td>\n",
       "      <td>78205</td>\n",
       "      <td>219</td>\n",
       "      <td>2.0</td>\n",
       "      <td>2</td>\n",
       "      <td>Animal Care Services</td>\n",
       "      <td>True</td>\n",
       "    </tr>\n",
       "    <tr>\n",
       "      <th>17</th>\n",
       "      <td>1014130563</td>\n",
       "      <td>2018-01-02 16:07:00</td>\n",
       "      <td>2018-02-27 10:32:00</td>\n",
       "      <td>2018-01-07 16:07:00</td>\n",
       "      <td>True</td>\n",
       "      <td>50.767535</td>\n",
       "      <td>True</td>\n",
       "      <td>Animal Neglect</td>\n",
       "      <td>5.000000</td>\n",
       "      <td>Closed</td>\n",
       "      <td>mc21309</td>\n",
       "      <td>3102  MAYFAIR DR, San Antonio, 78217</td>\n",
       "      <td>010</td>\n",
       "      <td>7.252505</td>\n",
       "      <td>78217</td>\n",
       "      <td>218</td>\n",
       "      <td>56.0</td>\n",
       "      <td>56</td>\n",
       "      <td>Animal Care Services</td>\n",
       "      <td>True</td>\n",
       "    </tr>\n",
       "    <tr>\n",
       "      <th>24</th>\n",
       "      <td>1014132095</td>\n",
       "      <td>2018-01-03 11:00:00</td>\n",
       "      <td>2018-03-12 09:44:00</td>\n",
       "      <td>2018-01-08 11:00:00</td>\n",
       "      <td>True</td>\n",
       "      <td>62.947072</td>\n",
       "      <td>True</td>\n",
       "      <td>Animal Neglect</td>\n",
       "      <td>5.000000</td>\n",
       "      <td>Closed</td>\n",
       "      <td>ss09159</td>\n",
       "      <td>1910  MAYFIELD W, San Antonio, 78211</td>\n",
       "      <td>004</td>\n",
       "      <td>8.992439</td>\n",
       "      <td>78211</td>\n",
       "      <td>217</td>\n",
       "      <td>68.0</td>\n",
       "      <td>68</td>\n",
       "      <td>Animal Care Services</td>\n",
       "      <td>True</td>\n",
       "    </tr>\n",
       "    <tr>\n",
       "      <th>25</th>\n",
       "      <td>1014132126</td>\n",
       "      <td>2018-01-03 11:05:00</td>\n",
       "      <td>2018-01-18 11:28:00</td>\n",
       "      <td>2018-01-08 11:05:00</td>\n",
       "      <td>True</td>\n",
       "      <td>10.016354</td>\n",
       "      <td>True</td>\n",
       "      <td>Aggressive Animal(Non-Critical)</td>\n",
       "      <td>5.000000</td>\n",
       "      <td>Closed</td>\n",
       "      <td>mp21218</td>\n",
       "      <td>305  PAUL ST, San Antonio, 78203</td>\n",
       "      <td>002</td>\n",
       "      <td>1.430908</td>\n",
       "      <td>78203</td>\n",
       "      <td>217</td>\n",
       "      <td>15.0</td>\n",
       "      <td>15</td>\n",
       "      <td>Animal Care Services</td>\n",
       "      <td>True</td>\n",
       "    </tr>\n",
       "    <tr>\n",
       "      <th>41</th>\n",
       "      <td>1014135882</td>\n",
       "      <td>2018-01-04 13:51:00</td>\n",
       "      <td>2018-01-22 08:00:00</td>\n",
       "      <td>2018-01-19 13:51:00</td>\n",
       "      <td>True</td>\n",
       "      <td>2.756111</td>\n",
       "      <td>True</td>\n",
       "      <td>Additional Garbage Container - with Fee</td>\n",
       "      <td>15.000000</td>\n",
       "      <td>Closed</td>\n",
       "      <td>svcCRMSS</td>\n",
       "      <td>74  KNIGHTS PEAK, San Antonio, 78254</td>\n",
       "      <td>007</td>\n",
       "      <td>0.393730</td>\n",
       "      <td>78254</td>\n",
       "      <td>216</td>\n",
       "      <td>18.0</td>\n",
       "      <td>18</td>\n",
       "      <td>Solid Waste</td>\n",
       "      <td>True</td>\n",
       "    </tr>\n",
       "    <tr>\n",
       "      <th>...</th>\n",
       "      <td>...</td>\n",
       "      <td>...</td>\n",
       "      <td>...</td>\n",
       "      <td>...</td>\n",
       "      <td>...</td>\n",
       "      <td>...</td>\n",
       "      <td>...</td>\n",
       "      <td>...</td>\n",
       "      <td>...</td>\n",
       "      <td>...</td>\n",
       "      <td>...</td>\n",
       "      <td>...</td>\n",
       "      <td>...</td>\n",
       "      <td>...</td>\n",
       "      <td>...</td>\n",
       "      <td>...</td>\n",
       "      <td>...</td>\n",
       "      <td>...</td>\n",
       "      <td>...</td>\n",
       "      <td>...</td>\n",
       "    </tr>\n",
       "    <tr>\n",
       "      <th>8411</th>\n",
       "      <td>1014105966</td>\n",
       "      <td>2017-12-19 14:43:00</td>\n",
       "      <td>2018-01-03 13:03:00</td>\n",
       "      <td>2017-12-24 14:43:00</td>\n",
       "      <td>True</td>\n",
       "      <td>9.931181</td>\n",
       "      <td>True</td>\n",
       "      <td>License Renewal Invoice</td>\n",
       "      <td>5.000000</td>\n",
       "      <td>Closed</td>\n",
       "      <td>ns16326</td>\n",
       "      <td>9505  FREDSBG RD, San Antonio, 78240</td>\n",
       "      <td>008</td>\n",
       "      <td>1.418740</td>\n",
       "      <td>78240</td>\n",
       "      <td>232</td>\n",
       "      <td>15.0</td>\n",
       "      <td>15</td>\n",
       "      <td>Metro Health</td>\n",
       "      <td>True</td>\n",
       "    </tr>\n",
       "    <tr>\n",
       "      <th>8425</th>\n",
       "      <td>1014108513</td>\n",
       "      <td>2017-12-20 14:23:00</td>\n",
       "      <td>2017-12-22 09:29:00</td>\n",
       "      <td>2017-12-21 02:23:00</td>\n",
       "      <td>True</td>\n",
       "      <td>1.295972</td>\n",
       "      <td>True</td>\n",
       "      <td>Aggressive Animal(Critical)</td>\n",
       "      <td>0.500000</td>\n",
       "      <td>Closed</td>\n",
       "      <td>140508</td>\n",
       "      <td>838  KEATS, San Antonio, 78211</td>\n",
       "      <td>005</td>\n",
       "      <td>0.185139</td>\n",
       "      <td>78211</td>\n",
       "      <td>231</td>\n",
       "      <td>2.0</td>\n",
       "      <td>2</td>\n",
       "      <td>Animal Care Services</td>\n",
       "      <td>True</td>\n",
       "    </tr>\n",
       "    <tr>\n",
       "      <th>8462</th>\n",
       "      <td>1014115651</td>\n",
       "      <td>2017-12-23 21:33:00</td>\n",
       "      <td>2018-02-04 12:13:00</td>\n",
       "      <td>2017-12-28 21:33:00</td>\n",
       "      <td>True</td>\n",
       "      <td>37.611354</td>\n",
       "      <td>True</td>\n",
       "      <td>Animal Neglect</td>\n",
       "      <td>5.000000</td>\n",
       "      <td>Closed</td>\n",
       "      <td>120752</td>\n",
       "      <td>1218  VICKERS AVE, San Antonio, 78211</td>\n",
       "      <td>005</td>\n",
       "      <td>5.373051</td>\n",
       "      <td>78211</td>\n",
       "      <td>228</td>\n",
       "      <td>43.0</td>\n",
       "      <td>43</td>\n",
       "      <td>Animal Care Services</td>\n",
       "      <td>True</td>\n",
       "    </tr>\n",
       "    <tr>\n",
       "      <th>8474</th>\n",
       "      <td>1014118817</td>\n",
       "      <td>2017-12-26 21:16:00</td>\n",
       "      <td>2017-12-27 09:28:00</td>\n",
       "      <td>2017-12-27 09:16:00</td>\n",
       "      <td>True</td>\n",
       "      <td>0.008692</td>\n",
       "      <td>True</td>\n",
       "      <td>Trapped/Confined Animal</td>\n",
       "      <td>0.500000</td>\n",
       "      <td>Closed</td>\n",
       "      <td>119555</td>\n",
       "      <td>122  STONEWALL AVE, San Antonio, 78214</td>\n",
       "      <td>003</td>\n",
       "      <td>0.001242</td>\n",
       "      <td>78214</td>\n",
       "      <td>225</td>\n",
       "      <td>1.0</td>\n",
       "      <td>1</td>\n",
       "      <td>Animal Care Services</td>\n",
       "      <td>True</td>\n",
       "    </tr>\n",
       "    <tr>\n",
       "      <th>8480</th>\n",
       "      <td>1014120960</td>\n",
       "      <td>2017-12-27 20:52:00</td>\n",
       "      <td>2018-01-04 09:37:00</td>\n",
       "      <td>2018-01-04 08:30:00</td>\n",
       "      <td>True</td>\n",
       "      <td>0.046910</td>\n",
       "      <td>True</td>\n",
       "      <td>Pot Hole Repair</td>\n",
       "      <td>7.484583</td>\n",
       "      <td>Closed</td>\n",
       "      <td>120752</td>\n",
       "      <td>WALZEM RD and WOODLAKE PKWY</td>\n",
       "      <td>002</td>\n",
       "      <td>0.006701</td>\n",
       "      <td></td>\n",
       "      <td>224</td>\n",
       "      <td>8.0</td>\n",
       "      <td>8</td>\n",
       "      <td>Trans &amp; Cap Improvements</td>\n",
       "      <td>True</td>\n",
       "    </tr>\n",
       "  </tbody>\n",
       "</table>\n",
       "<p>895 rows × 20 columns</p>\n",
       "</div>"
      ],
      "text/plain": [
       "         case_id    case_opened_date    case_closed_date       case_due_date  \\\n",
       "4     1014127599 2018-01-01 15:25:00 2018-01-03 05:52:00 2018-01-02 03:25:00   \n",
       "17    1014130563 2018-01-02 16:07:00 2018-02-27 10:32:00 2018-01-07 16:07:00   \n",
       "24    1014132095 2018-01-03 11:00:00 2018-03-12 09:44:00 2018-01-08 11:00:00   \n",
       "25    1014132126 2018-01-03 11:05:00 2018-01-18 11:28:00 2018-01-08 11:05:00   \n",
       "41    1014135882 2018-01-04 13:51:00 2018-01-22 08:00:00 2018-01-19 13:51:00   \n",
       "...          ...                 ...                 ...                 ...   \n",
       "8411  1014105966 2017-12-19 14:43:00 2018-01-03 13:03:00 2017-12-24 14:43:00   \n",
       "8425  1014108513 2017-12-20 14:23:00 2017-12-22 09:29:00 2017-12-21 02:23:00   \n",
       "8462  1014115651 2017-12-23 21:33:00 2018-02-04 12:13:00 2017-12-28 21:33:00   \n",
       "8474  1014118817 2017-12-26 21:16:00 2017-12-27 09:28:00 2017-12-27 09:16:00   \n",
       "8480  1014120960 2017-12-27 20:52:00 2018-01-04 09:37:00 2018-01-04 08:30:00   \n",
       "\n",
       "      case_late  num_days_late  case_closed  \\\n",
       "4          True       1.101817         True   \n",
       "17         True      50.767535         True   \n",
       "24         True      62.947072         True   \n",
       "25         True      10.016354         True   \n",
       "41         True       2.756111         True   \n",
       "...         ...            ...          ...   \n",
       "8411       True       9.931181         True   \n",
       "8425       True       1.295972         True   \n",
       "8462       True      37.611354         True   \n",
       "8474       True       0.008692         True   \n",
       "8480       True       0.046910         True   \n",
       "\n",
       "                         service_request_type   SLA_days case_status  \\\n",
       "4                     Trapped/Confined Animal   0.500000      Closed   \n",
       "17                             Animal Neglect   5.000000      Closed   \n",
       "24                             Animal Neglect   5.000000      Closed   \n",
       "25            Aggressive Animal(Non-Critical)   5.000000      Closed   \n",
       "41    Additional Garbage Container - with Fee  15.000000      Closed   \n",
       "...                                       ...        ...         ...   \n",
       "8411                  License Renewal Invoice   5.000000      Closed   \n",
       "8425              Aggressive Animal(Critical)   0.500000      Closed   \n",
       "8462                           Animal Neglect   5.000000      Closed   \n",
       "8474                  Trapped/Confined Animal   0.500000      Closed   \n",
       "8480                          Pot Hole Repair   7.484583      Closed   \n",
       "\n",
       "     source_id                         request_address council_district  \\\n",
       "4      rs16746     633  ST MARYS S, San Antonio, 78205              001   \n",
       "17     mc21309    3102  MAYFAIR DR, San Antonio, 78217              010   \n",
       "24     ss09159    1910  MAYFIELD W, San Antonio, 78211              004   \n",
       "25     mp21218        305  PAUL ST, San Antonio, 78203              002   \n",
       "41    svcCRMSS    74  KNIGHTS PEAK, San Antonio, 78254              007   \n",
       "...        ...                                     ...              ...   \n",
       "8411   ns16326    9505  FREDSBG RD, San Antonio, 78240              008   \n",
       "8425    140508          838  KEATS, San Antonio, 78211              005   \n",
       "8462    120752   1218  VICKERS AVE, San Antonio, 78211              005   \n",
       "8474    119555  122  STONEWALL AVE, San Antonio, 78214              003   \n",
       "8480    120752             WALZEM RD and WOODLAKE PKWY              002   \n",
       "\n",
       "      num_weeks_late zipcode  case_age  days_to_closed  case_lifetime  \\\n",
       "4           0.157402   78205       219             2.0              2   \n",
       "17          7.252505   78217       218            56.0             56   \n",
       "24          8.992439   78211       217            68.0             68   \n",
       "25          1.430908   78203       217            15.0             15   \n",
       "41          0.393730   78254       216            18.0             18   \n",
       "...              ...     ...       ...             ...            ...   \n",
       "8411        1.418740   78240       232            15.0             15   \n",
       "8425        0.185139   78211       231             2.0              2   \n",
       "8462        5.373051   78211       228            43.0             43   \n",
       "8474        0.001242   78214       225             1.0              1   \n",
       "8480        0.006701               224             8.0              8   \n",
       "\n",
       "                    department  dept_subject_to_SLA  \n",
       "4         Animal Care Services                 True  \n",
       "17        Animal Care Services                 True  \n",
       "24        Animal Care Services                 True  \n",
       "25        Animal Care Services                 True  \n",
       "41                 Solid Waste                 True  \n",
       "...                        ...                  ...  \n",
       "8411              Metro Health                 True  \n",
       "8425      Animal Care Services                 True  \n",
       "8462      Animal Care Services                 True  \n",
       "8474      Animal Care Services                 True  \n",
       "8480  Trans & Cap Improvements                 True  \n",
       "\n",
       "[895 rows x 20 columns]"
      ]
     },
     "execution_count": 34,
     "metadata": {},
     "output_type": "execute_result"
    }
   ],
   "source": [
    "late_cases"
   ]
  },
  {
   "cell_type": "code",
   "execution_count": 48,
   "id": "3cf992fb",
   "metadata": {},
   "outputs": [
    {
     "data": {
      "text/plain": [
       "2719"
      ]
     },
     "execution_count": 48,
     "metadata": {},
     "output_type": "execute_result"
    }
   ],
   "source": [
    "(sample.department == 'Solid Waste').sum()"
   ]
  },
  {
   "cell_type": "code",
   "execution_count": 33,
   "id": "ed146bf0",
   "metadata": {},
   "outputs": [
    {
     "data": {
      "text/plain": [
       "Solid Waste                 310\n",
       "DSD/Code Enforcement        246\n",
       "Animal Care Services        236\n",
       "Trans & Cap Improvements     47\n",
       "Parks & Recreation           37\n",
       "Customer Service             15\n",
       "Metro Health                  4\n",
       "Name: department, dtype: int64"
      ]
     },
     "execution_count": 33,
     "metadata": {},
     "output_type": "execute_result"
    }
   ],
   "source": [
    "late_cases.department.value_counts()"
   ]
  },
  {
   "cell_type": "code",
   "execution_count": 36,
   "id": "4e795fa5",
   "metadata": {},
   "outputs": [
    {
     "data": {
      "text/plain": [
       "array(['Animal Care Services', 'Solid Waste', 'DSD/Code Enforcement',\n",
       "       'Trans & Cap Improvements', 'Parks & Recreation',\n",
       "       'Customer Service', 'Metro Health'], dtype=object)"
      ]
     },
     "execution_count": 36,
     "metadata": {},
     "output_type": "execute_result"
    }
   ],
   "source": [
    "late_cases.department.unique()"
   ]
  },
  {
   "cell_type": "code",
   "execution_count": 41,
   "id": "0260b96f",
   "metadata": {},
   "outputs": [
    {
     "data": {
      "text/plain": [
       "310"
      ]
     },
     "execution_count": 41,
     "metadata": {},
     "output_type": "execute_result"
    }
   ],
   "source": [
    "(late_cases.department == 'Solid Waste').sum()"
   ]
  },
  {
   "cell_type": "code",
   "execution_count": 57,
   "id": "1c24c620",
   "metadata": {},
   "outputs": [
    {
     "name": "stdout",
     "output_type": "stream",
     "text": [
      "Animal Care Services: 236 -> percentage of cases: 0.19666666666666666\n",
      "Solid Waste: 310 -> percentage of cases: 0.11401250459727841\n",
      "DSD/Code Enforcement: 246 -> percentage of cases: 0.0784688995215311\n",
      "Trans & Cap Improvements: 47 -> percentage of cases: 0.04704704704704705\n",
      "Parks & Recreation: 37 -> percentage of cases: 0.18686868686868688\n",
      "Customer Service: 15 -> percentage of cases: 0.6521739130434783\n",
      "Metro Health: 4 -> percentage of cases: 0.07692307692307693\n"
     ]
    }
   ],
   "source": [
    "for dept in late_cases.department.unique():\n",
    "    print(f'{dept}:', (late_cases.department == dept).sum(), '-> percentage of cases:', ((late_cases.department == dept).sum()/(sample.department == dept).sum()))\n"
   ]
  },
  {
   "cell_type": "markdown",
   "id": "c47ee48d",
   "metadata": {},
   "source": [
    "# Takeaways\n",
    "* Customer Service cases have the highest percentage of cases that are late with ~65% of its cases being completed late.\n",
    "* ~19% of Parks & Recreation cases are late."
   ]
  },
  {
   "cell_type": "code",
   "execution_count": 68,
   "id": "59559f4d",
   "metadata": {},
   "outputs": [
    {
     "data": {
      "text/plain": [
       "(895, 20)"
      ]
     },
     "execution_count": 68,
     "metadata": {},
     "output_type": "execute_result"
    }
   ],
   "source": [
    "late_cases.shape"
   ]
  },
  {
   "cell_type": "code",
   "execution_count": 67,
   "id": "86ead8e6",
   "metadata": {},
   "outputs": [
    {
     "data": {
      "text/plain": [
       "<AxesSubplot:>"
      ]
     },
     "execution_count": 67,
     "metadata": {},
     "output_type": "execute_result"
    },
    {
     "data": {
      "image/png": "[encoded data removed]",
      "text/plain": [
       "<Figure size 432x288 with 1 Axes>"
      ]
     },
     "metadata": {
      "needs_background": "light"
     },
     "output_type": "display_data"
    }
   ],
   "source": [
    "late_cases.boxplot(column='num_days_late')"
   ]
  },
  {
   "cell_type": "code",
   "execution_count": 64,
   "id": "0c0d6a4c",
   "metadata": {},
   "outputs": [
    {
     "data": {
      "text/plain": [
       "24.750423973296098"
      ]
     },
     "execution_count": 64,
     "metadata": {},
     "output_type": "execute_result"
    }
   ],
   "source": [
    "late_cases.num_days_late.mean()"
   ]
  },
  {
   "cell_type": "markdown",
   "id": "6f711bb7",
   "metadata": {},
   "source": [
    "# Takeaways\n",
    "* Late cases are late by ~25 days, on average."
   ]
  },
  {
   "cell_type": "markdown",
   "id": "21b5f1e5",
   "metadata": {},
   "source": [
    "#### What is the average after removing outliers?"
   ]
  },
  {
   "cell_type": "code",
   "execution_count": 70,
   "id": "e287ec09",
   "metadata": {},
   "outputs": [],
   "source": [
    "def remove_outliers(df, k, col_list):\n",
    "    ''' remove outliers from a list of columns in a dataframe \n",
    "        and return that dataframe\n",
    "    '''\n",
    "    \n",
    "    for col in col_list:\n",
    "\n",
    "        q1, q3 = df[col].quantile([.25, .75])  # get quartiles\n",
    "        \n",
    "        iqr = q3 - q1   # calculate interquartile range\n",
    "        \n",
    "        upper_bound = q3 + k * iqr   # get upper bound\n",
    "        lower_bound = q1 - k * iqr   # get lower bound\n",
    "\n",
    "        # return dataframe without outliers\n",
    "        \n",
    "        df = df[(df[col] > lower_bound) & (df[col] < upper_bound)]\n",
    "        \n",
    "    return df"
   ]
  },
  {
   "cell_type": "code",
   "execution_count": 72,
   "id": "eef5034b",
   "metadata": {},
   "outputs": [
    {
     "data": {
      "text/html": [
       "<div>\n",
       "<style scoped>\n",
       "    .dataframe tbody tr th:only-of-type {\n",
       "        vertical-align: middle;\n",
       "    }\n",
       "\n",
       "    .dataframe tbody tr th {\n",
       "        vertical-align: top;\n",
       "    }\n",
       "\n",
       "    .dataframe thead th {\n",
       "        text-align: right;\n",
       "    }\n",
       "</style>\n",
       "<table border=\"1\" class=\"dataframe\">\n",
       "  <thead>\n",
       "    <tr style=\"text-align: right;\">\n",
       "      <th></th>\n",
       "      <th>case_id</th>\n",
       "      <th>case_opened_date</th>\n",
       "      <th>case_closed_date</th>\n",
       "      <th>case_due_date</th>\n",
       "      <th>case_late</th>\n",
       "      <th>num_days_late</th>\n",
       "      <th>case_closed</th>\n",
       "      <th>service_request_type</th>\n",
       "      <th>SLA_days</th>\n",
       "      <th>case_status</th>\n",
       "      <th>source_id</th>\n",
       "      <th>request_address</th>\n",
       "      <th>council_district</th>\n",
       "      <th>num_weeks_late</th>\n",
       "      <th>zipcode</th>\n",
       "      <th>case_age</th>\n",
       "      <th>days_to_closed</th>\n",
       "      <th>case_lifetime</th>\n",
       "      <th>department</th>\n",
       "      <th>dept_subject_to_SLA</th>\n",
       "    </tr>\n",
       "  </thead>\n",
       "  <tbody>\n",
       "    <tr>\n",
       "      <th>4</th>\n",
       "      <td>1014127599</td>\n",
       "      <td>2018-01-01 15:25:00</td>\n",
       "      <td>2018-01-03 05:52:00</td>\n",
       "      <td>2018-01-02 03:25:00</td>\n",
       "      <td>True</td>\n",
       "      <td>1.101817</td>\n",
       "      <td>True</td>\n",
       "      <td>Trapped/Confined Animal</td>\n",
       "      <td>0.500000</td>\n",
       "      <td>Closed</td>\n",
       "      <td>rs16746</td>\n",
       "      <td>633  ST MARYS S, San Antonio, 78205</td>\n",
       "      <td>001</td>\n",
       "      <td>0.157402</td>\n",
       "      <td>78205</td>\n",
       "      <td>219</td>\n",
       "      <td>2.0</td>\n",
       "      <td>2</td>\n",
       "      <td>Animal Care Services</td>\n",
       "      <td>True</td>\n",
       "    </tr>\n",
       "    <tr>\n",
       "      <th>17</th>\n",
       "      <td>1014130563</td>\n",
       "      <td>2018-01-02 16:07:00</td>\n",
       "      <td>2018-02-27 10:32:00</td>\n",
       "      <td>2018-01-07 16:07:00</td>\n",
       "      <td>True</td>\n",
       "      <td>50.767535</td>\n",
       "      <td>True</td>\n",
       "      <td>Animal Neglect</td>\n",
       "      <td>5.000000</td>\n",
       "      <td>Closed</td>\n",
       "      <td>mc21309</td>\n",
       "      <td>3102  MAYFAIR DR, San Antonio, 78217</td>\n",
       "      <td>010</td>\n",
       "      <td>7.252505</td>\n",
       "      <td>78217</td>\n",
       "      <td>218</td>\n",
       "      <td>56.0</td>\n",
       "      <td>56</td>\n",
       "      <td>Animal Care Services</td>\n",
       "      <td>True</td>\n",
       "    </tr>\n",
       "    <tr>\n",
       "      <th>25</th>\n",
       "      <td>1014132126</td>\n",
       "      <td>2018-01-03 11:05:00</td>\n",
       "      <td>2018-01-18 11:28:00</td>\n",
       "      <td>2018-01-08 11:05:00</td>\n",
       "      <td>True</td>\n",
       "      <td>10.016354</td>\n",
       "      <td>True</td>\n",
       "      <td>Aggressive Animal(Non-Critical)</td>\n",
       "      <td>5.000000</td>\n",
       "      <td>Closed</td>\n",
       "      <td>mp21218</td>\n",
       "      <td>305  PAUL ST, San Antonio, 78203</td>\n",
       "      <td>002</td>\n",
       "      <td>1.430908</td>\n",
       "      <td>78203</td>\n",
       "      <td>217</td>\n",
       "      <td>15.0</td>\n",
       "      <td>15</td>\n",
       "      <td>Animal Care Services</td>\n",
       "      <td>True</td>\n",
       "    </tr>\n",
       "    <tr>\n",
       "      <th>41</th>\n",
       "      <td>1014135882</td>\n",
       "      <td>2018-01-04 13:51:00</td>\n",
       "      <td>2018-01-22 08:00:00</td>\n",
       "      <td>2018-01-19 13:51:00</td>\n",
       "      <td>True</td>\n",
       "      <td>2.756111</td>\n",
       "      <td>True</td>\n",
       "      <td>Additional Garbage Container - with Fee</td>\n",
       "      <td>15.000000</td>\n",
       "      <td>Closed</td>\n",
       "      <td>svcCRMSS</td>\n",
       "      <td>74  KNIGHTS PEAK, San Antonio, 78254</td>\n",
       "      <td>007</td>\n",
       "      <td>0.393730</td>\n",
       "      <td>78254</td>\n",
       "      <td>216</td>\n",
       "      <td>18.0</td>\n",
       "      <td>18</td>\n",
       "      <td>Solid Waste</td>\n",
       "      <td>True</td>\n",
       "    </tr>\n",
       "    <tr>\n",
       "      <th>50</th>\n",
       "      <td>1014138149</td>\n",
       "      <td>2018-01-05 11:27:00</td>\n",
       "      <td>2018-01-06 09:54:00</td>\n",
       "      <td>2018-01-05 23:27:00</td>\n",
       "      <td>True</td>\n",
       "      <td>0.435694</td>\n",
       "      <td>True</td>\n",
       "      <td>Trapped/Confined Animal</td>\n",
       "      <td>0.500000</td>\n",
       "      <td>Closed</td>\n",
       "      <td>mc21309</td>\n",
       "      <td>5140  ROOSEVELT AVE, San Antonio, 78214</td>\n",
       "      <td>003</td>\n",
       "      <td>0.062242</td>\n",
       "      <td>78214</td>\n",
       "      <td>215</td>\n",
       "      <td>1.0</td>\n",
       "      <td>1</td>\n",
       "      <td>Animal Care Services</td>\n",
       "      <td>True</td>\n",
       "    </tr>\n",
       "    <tr>\n",
       "      <th>...</th>\n",
       "      <td>...</td>\n",
       "      <td>...</td>\n",
       "      <td>...</td>\n",
       "      <td>...</td>\n",
       "      <td>...</td>\n",
       "      <td>...</td>\n",
       "      <td>...</td>\n",
       "      <td>...</td>\n",
       "      <td>...</td>\n",
       "      <td>...</td>\n",
       "      <td>...</td>\n",
       "      <td>...</td>\n",
       "      <td>...</td>\n",
       "      <td>...</td>\n",
       "      <td>...</td>\n",
       "      <td>...</td>\n",
       "      <td>...</td>\n",
       "      <td>...</td>\n",
       "      <td>...</td>\n",
       "      <td>...</td>\n",
       "    </tr>\n",
       "    <tr>\n",
       "      <th>8411</th>\n",
       "      <td>1014105966</td>\n",
       "      <td>2017-12-19 14:43:00</td>\n",
       "      <td>2018-01-03 13:03:00</td>\n",
       "      <td>2017-12-24 14:43:00</td>\n",
       "      <td>True</td>\n",
       "      <td>9.931181</td>\n",
       "      <td>True</td>\n",
       "      <td>License Renewal Invoice</td>\n",
       "      <td>5.000000</td>\n",
       "      <td>Closed</td>\n",
       "      <td>ns16326</td>\n",
       "      <td>9505  FREDSBG RD, San Antonio, 78240</td>\n",
       "      <td>008</td>\n",
       "      <td>1.418740</td>\n",
       "      <td>78240</td>\n",
       "      <td>232</td>\n",
       "      <td>15.0</td>\n",
       "      <td>15</td>\n",
       "      <td>Metro Health</td>\n",
       "      <td>True</td>\n",
       "    </tr>\n",
       "    <tr>\n",
       "      <th>8425</th>\n",
       "      <td>1014108513</td>\n",
       "      <td>2017-12-20 14:23:00</td>\n",
       "      <td>2017-12-22 09:29:00</td>\n",
       "      <td>2017-12-21 02:23:00</td>\n",
       "      <td>True</td>\n",
       "      <td>1.295972</td>\n",
       "      <td>True</td>\n",
       "      <td>Aggressive Animal(Critical)</td>\n",
       "      <td>0.500000</td>\n",
       "      <td>Closed</td>\n",
       "      <td>140508</td>\n",
       "      <td>838  KEATS, San Antonio, 78211</td>\n",
       "      <td>005</td>\n",
       "      <td>0.185139</td>\n",
       "      <td>78211</td>\n",
       "      <td>231</td>\n",
       "      <td>2.0</td>\n",
       "      <td>2</td>\n",
       "      <td>Animal Care Services</td>\n",
       "      <td>True</td>\n",
       "    </tr>\n",
       "    <tr>\n",
       "      <th>8462</th>\n",
       "      <td>1014115651</td>\n",
       "      <td>2017-12-23 21:33:00</td>\n",
       "      <td>2018-02-04 12:13:00</td>\n",
       "      <td>2017-12-28 21:33:00</td>\n",
       "      <td>True</td>\n",
       "      <td>37.611354</td>\n",
       "      <td>True</td>\n",
       "      <td>Animal Neglect</td>\n",
       "      <td>5.000000</td>\n",
       "      <td>Closed</td>\n",
       "      <td>120752</td>\n",
       "      <td>1218  VICKERS AVE, San Antonio, 78211</td>\n",
       "      <td>005</td>\n",
       "      <td>5.373051</td>\n",
       "      <td>78211</td>\n",
       "      <td>228</td>\n",
       "      <td>43.0</td>\n",
       "      <td>43</td>\n",
       "      <td>Animal Care Services</td>\n",
       "      <td>True</td>\n",
       "    </tr>\n",
       "    <tr>\n",
       "      <th>8474</th>\n",
       "      <td>1014118817</td>\n",
       "      <td>2017-12-26 21:16:00</td>\n",
       "      <td>2017-12-27 09:28:00</td>\n",
       "      <td>2017-12-27 09:16:00</td>\n",
       "      <td>True</td>\n",
       "      <td>0.008692</td>\n",
       "      <td>True</td>\n",
       "      <td>Trapped/Confined Animal</td>\n",
       "      <td>0.500000</td>\n",
       "      <td>Closed</td>\n",
       "      <td>119555</td>\n",
       "      <td>122  STONEWALL AVE, San Antonio, 78214</td>\n",
       "      <td>003</td>\n",
       "      <td>0.001242</td>\n",
       "      <td>78214</td>\n",
       "      <td>225</td>\n",
       "      <td>1.0</td>\n",
       "      <td>1</td>\n",
       "      <td>Animal Care Services</td>\n",
       "      <td>True</td>\n",
       "    </tr>\n",
       "    <tr>\n",
       "      <th>8480</th>\n",
       "      <td>1014120960</td>\n",
       "      <td>2017-12-27 20:52:00</td>\n",
       "      <td>2018-01-04 09:37:00</td>\n",
       "      <td>2018-01-04 08:30:00</td>\n",
       "      <td>True</td>\n",
       "      <td>0.046910</td>\n",
       "      <td>True</td>\n",
       "      <td>Pot Hole Repair</td>\n",
       "      <td>7.484583</td>\n",
       "      <td>Closed</td>\n",
       "      <td>120752</td>\n",
       "      <td>WALZEM RD and WOODLAKE PKWY</td>\n",
       "      <td>002</td>\n",
       "      <td>0.006701</td>\n",
       "      <td></td>\n",
       "      <td>224</td>\n",
       "      <td>8.0</td>\n",
       "      <td>8</td>\n",
       "      <td>Trans &amp; Cap Improvements</td>\n",
       "      <td>True</td>\n",
       "    </tr>\n",
       "  </tbody>\n",
       "</table>\n",
       "<p>786 rows × 20 columns</p>\n",
       "</div>"
      ],
      "text/plain": [
       "         case_id    case_opened_date    case_closed_date       case_due_date  \\\n",
       "4     1014127599 2018-01-01 15:25:00 2018-01-03 05:52:00 2018-01-02 03:25:00   \n",
       "17    1014130563 2018-01-02 16:07:00 2018-02-27 10:32:00 2018-01-07 16:07:00   \n",
       "25    1014132126 2018-01-03 11:05:00 2018-01-18 11:28:00 2018-01-08 11:05:00   \n",
       "41    1014135882 2018-01-04 13:51:00 2018-01-22 08:00:00 2018-01-19 13:51:00   \n",
       "50    1014138149 2018-01-05 11:27:00 2018-01-06 09:54:00 2018-01-05 23:27:00   \n",
       "...          ...                 ...                 ...                 ...   \n",
       "8411  1014105966 2017-12-19 14:43:00 2018-01-03 13:03:00 2017-12-24 14:43:00   \n",
       "8425  1014108513 2017-12-20 14:23:00 2017-12-22 09:29:00 2017-12-21 02:23:00   \n",
       "8462  1014115651 2017-12-23 21:33:00 2018-02-04 12:13:00 2017-12-28 21:33:00   \n",
       "8474  1014118817 2017-12-26 21:16:00 2017-12-27 09:28:00 2017-12-27 09:16:00   \n",
       "8480  1014120960 2017-12-27 20:52:00 2018-01-04 09:37:00 2018-01-04 08:30:00   \n",
       "\n",
       "      case_late  num_days_late  case_closed  \\\n",
       "4          True       1.101817         True   \n",
       "17         True      50.767535         True   \n",
       "25         True      10.016354         True   \n",
       "41         True       2.756111         True   \n",
       "50         True       0.435694         True   \n",
       "...         ...            ...          ...   \n",
       "8411       True       9.931181         True   \n",
       "8425       True       1.295972         True   \n",
       "8462       True      37.611354         True   \n",
       "8474       True       0.008692         True   \n",
       "8480       True       0.046910         True   \n",
       "\n",
       "                         service_request_type   SLA_days case_status  \\\n",
       "4                     Trapped/Confined Animal   0.500000      Closed   \n",
       "17                             Animal Neglect   5.000000      Closed   \n",
       "25            Aggressive Animal(Non-Critical)   5.000000      Closed   \n",
       "41    Additional Garbage Container - with Fee  15.000000      Closed   \n",
       "50                    Trapped/Confined Animal   0.500000      Closed   \n",
       "...                                       ...        ...         ...   \n",
       "8411                  License Renewal Invoice   5.000000      Closed   \n",
       "8425              Aggressive Animal(Critical)   0.500000      Closed   \n",
       "8462                           Animal Neglect   5.000000      Closed   \n",
       "8474                  Trapped/Confined Animal   0.500000      Closed   \n",
       "8480                          Pot Hole Repair   7.484583      Closed   \n",
       "\n",
       "     source_id                          request_address council_district  \\\n",
       "4      rs16746      633  ST MARYS S, San Antonio, 78205              001   \n",
       "17     mc21309     3102  MAYFAIR DR, San Antonio, 78217              010   \n",
       "25     mp21218         305  PAUL ST, San Antonio, 78203              002   \n",
       "41    svcCRMSS     74  KNIGHTS PEAK, San Antonio, 78254              007   \n",
       "50     mc21309  5140  ROOSEVELT AVE, San Antonio, 78214              003   \n",
       "...        ...                                      ...              ...   \n",
       "8411   ns16326     9505  FREDSBG RD, San Antonio, 78240              008   \n",
       "8425    140508           838  KEATS, San Antonio, 78211              005   \n",
       "8462    120752    1218  VICKERS AVE, San Antonio, 78211              005   \n",
       "8474    119555   122  STONEWALL AVE, San Antonio, 78214              003   \n",
       "8480    120752              WALZEM RD and WOODLAKE PKWY              002   \n",
       "\n",
       "      num_weeks_late zipcode  case_age  days_to_closed  case_lifetime  \\\n",
       "4           0.157402   78205       219             2.0              2   \n",
       "17          7.252505   78217       218            56.0             56   \n",
       "25          1.430908   78203       217            15.0             15   \n",
       "41          0.393730   78254       216            18.0             18   \n",
       "50          0.062242   78214       215             1.0              1   \n",
       "...              ...     ...       ...             ...            ...   \n",
       "8411        1.418740   78240       232            15.0             15   \n",
       "8425        0.185139   78211       231             2.0              2   \n",
       "8462        5.373051   78211       228            43.0             43   \n",
       "8474        0.001242   78214       225             1.0              1   \n",
       "8480        0.006701               224             8.0              8   \n",
       "\n",
       "                    department  dept_subject_to_SLA  \n",
       "4         Animal Care Services                 True  \n",
       "17        Animal Care Services                 True  \n",
       "25        Animal Care Services                 True  \n",
       "41                 Solid Waste                 True  \n",
       "50        Animal Care Services                 True  \n",
       "...                        ...                  ...  \n",
       "8411              Metro Health                 True  \n",
       "8425      Animal Care Services                 True  \n",
       "8462      Animal Care Services                 True  \n",
       "8474      Animal Care Services                 True  \n",
       "8480  Trans & Cap Improvements                 True  \n",
       "\n",
       "[786 rows x 20 columns]"
      ]
     },
     "execution_count": 72,
     "metadata": {},
     "output_type": "execute_result"
    }
   ],
   "source": [
    "remove_outliers(late_cases, k=1.5, col_list=['num_days_late'])"
   ]
  },
  {
   "cell_type": "markdown",
   "id": "e78d5a50",
   "metadata": {},
   "source": [
    "# Exercises"
   ]
  },
  {
   "cell_type": "code",
   "execution_count": 74,
   "id": "305632a2",
   "metadata": {},
   "outputs": [
    {
     "name": "stdout",
     "output_type": "stream",
     "text": [
      "-RECORD 0------------------------------------\n",
      " case_id              | 1014127332           \n",
      " case_opened_date     | 2018-01-01 00:42:00  \n",
      " case_closed_date     | 2018-01-01 12:29:00  \n",
      " case_due_date        | 2020-09-26 00:42:00  \n",
      " case_late            | false                \n",
      " num_days_late        | -998.5087616000001   \n",
      " case_closed          | true                 \n",
      " service_request_type | Stray Animal         \n",
      " SLA_days             | 999.0                \n",
      " case_status          | Closed               \n",
      " source_id            | svcCRMLS             \n",
      " request_address      | 2315  EL PASO ST,... \n",
      " council_district     | 005                  \n",
      " num_weeks_late       | -142.6441088         \n",
      " zipcode              | 78207                \n",
      " case_age             | 219                  \n",
      " days_to_closed       | 0                    \n",
      " case_lifetime        | 0                    \n",
      " department           | Animal Care Services \n",
      " dept_subject_to_SLA  | true                 \n",
      "only showing top 1 row\n",
      "\n"
     ]
    }
   ],
   "source": [
    "df.show(1, vertical=True)"
   ]
  },
  {
   "cell_type": "markdown",
   "id": "34372221",
   "metadata": {},
   "source": [
    "### 1. How many different cases are there, by department?"
   ]
  },
  {
   "cell_type": "code",
   "execution_count": 291,
   "id": "5e4d2538",
   "metadata": {},
   "outputs": [
    {
     "data": {
      "text/plain": [
       "<AxesSubplot:xlabel='department'>"
      ]
     },
     "execution_count": 291,
     "metadata": {},
     "output_type": "execute_result"
    },
    {
     "data": {
      "image/png": "[encoded data removed]",
      "text/plain": [
       "<Figure size 432x288 with 1 Axes>"
      ]
     },
     "metadata": {
      "needs_background": "light"
     },
     "output_type": "display_data"
    }
   ],
   "source": [
    "df.groupby('department').count().sort('count', ascending=False).toPandas()\\\n",
    ".set_index('department').plot.bar()"
   ]
  },
  {
   "cell_type": "markdown",
   "id": "312b4e31",
   "metadata": {},
   "source": [
    "### 2. Does the percentage of cases that are late vary by department?"
   ]
  },
  {
   "cell_type": "code",
   "execution_count": 97,
   "id": "ff0b15dd",
   "metadata": {},
   "outputs": [],
   "source": [
    "new = df.groupby('department').pivot('case_late').count().sort('false', ascending=False).fillna(0)"
   ]
  },
  {
   "cell_type": "code",
   "execution_count": 154,
   "id": "ebdeae07",
   "metadata": {},
   "outputs": [
    {
     "name": "stderr",
     "output_type": "stream",
     "text": [
      "                                                                                \r"
     ]
    }
   ],
   "source": [
    "# Create the dataframe in Spark to move to Pandas and save as variable.\n",
    "late = new.withColumn('total', new.true + new.false)\\\n",
    ".withColumn('late_percentage', round((new.true / (new.true + new.false)), 2))\\\n",
    ".toPandas().set_index('department')"
   ]
  },
  {
   "cell_type": "code",
   "execution_count": 155,
   "id": "b11d9b38",
   "metadata": {},
   "outputs": [
    {
     "data": {
      "text/html": [
       "<div>\n",
       "<style scoped>\n",
       "    .dataframe tbody tr th:only-of-type {\n",
       "        vertical-align: middle;\n",
       "    }\n",
       "\n",
       "    .dataframe tbody tr th {\n",
       "        vertical-align: top;\n",
       "    }\n",
       "\n",
       "    .dataframe thead th {\n",
       "        text-align: right;\n",
       "    }\n",
       "</style>\n",
       "<table border=\"1\" class=\"dataframe\">\n",
       "  <thead>\n",
       "    <tr style=\"text-align: right;\">\n",
       "      <th></th>\n",
       "      <th>false</th>\n",
       "      <th>true</th>\n",
       "      <th>total</th>\n",
       "      <th>late_percentage</th>\n",
       "    </tr>\n",
       "    <tr>\n",
       "      <th>department</th>\n",
       "      <th></th>\n",
       "      <th></th>\n",
       "      <th></th>\n",
       "      <th></th>\n",
       "    </tr>\n",
       "  </thead>\n",
       "  <tbody>\n",
       "    <tr>\n",
       "      <th>DSD/Code Enforcement</th>\n",
       "      <td>295139</td>\n",
       "      <td>26235</td>\n",
       "      <td>321374</td>\n",
       "      <td>0.08</td>\n",
       "    </tr>\n",
       "    <tr>\n",
       "      <th>Solid Waste</th>\n",
       "      <td>246325</td>\n",
       "      <td>32945</td>\n",
       "      <td>279270</td>\n",
       "      <td>0.12</td>\n",
       "    </tr>\n",
       "    <tr>\n",
       "      <th>Animal Care Services</th>\n",
       "      <td>93639</td>\n",
       "      <td>23276</td>\n",
       "      <td>116915</td>\n",
       "      <td>0.20</td>\n",
       "    </tr>\n",
       "    <tr>\n",
       "      <th>Trans &amp; Cap Improvements</th>\n",
       "      <td>90782</td>\n",
       "      <td>5411</td>\n",
       "      <td>96193</td>\n",
       "      <td>0.06</td>\n",
       "    </tr>\n",
       "    <tr>\n",
       "      <th>Parks &amp; Recreation</th>\n",
       "      <td>16110</td>\n",
       "      <td>3797</td>\n",
       "      <td>19907</td>\n",
       "      <td>0.19</td>\n",
       "    </tr>\n",
       "    <tr>\n",
       "      <th>Metro Health</th>\n",
       "      <td>4334</td>\n",
       "      <td>829</td>\n",
       "      <td>5163</td>\n",
       "      <td>0.16</td>\n",
       "    </tr>\n",
       "    <tr>\n",
       "      <th>Customer Service</th>\n",
       "      <td>839</td>\n",
       "      <td>2010</td>\n",
       "      <td>2849</td>\n",
       "      <td>0.71</td>\n",
       "    </tr>\n",
       "    <tr>\n",
       "      <th>City Council</th>\n",
       "      <td>33</td>\n",
       "      <td>0</td>\n",
       "      <td>33</td>\n",
       "      <td>0.00</td>\n",
       "    </tr>\n",
       "  </tbody>\n",
       "</table>\n",
       "</div>"
      ],
      "text/plain": [
       "                           false   true   total  late_percentage\n",
       "department                                                      \n",
       "DSD/Code Enforcement      295139  26235  321374             0.08\n",
       "Solid Waste               246325  32945  279270             0.12\n",
       "Animal Care Services       93639  23276  116915             0.20\n",
       "Trans & Cap Improvements   90782   5411   96193             0.06\n",
       "Parks & Recreation         16110   3797   19907             0.19\n",
       "Metro Health                4334    829    5163             0.16\n",
       "Customer Service             839   2010    2849             0.71\n",
       "City Council                  33      0      33             0.00"
      ]
     },
     "execution_count": 155,
     "metadata": {},
     "output_type": "execute_result"
    }
   ],
   "source": [
    "late"
   ]
  },
  {
   "cell_type": "code",
   "execution_count": 153,
   "id": "711171d2",
   "metadata": {},
   "outputs": [
    {
     "data": {
      "text/plain": [
       "<AxesSubplot:xlabel='department'>"
      ]
     },
     "execution_count": 153,
     "metadata": {},
     "output_type": "execute_result"
    },
    {
     "data": {
      "image/png": "[encoded data removed]",
      "text/plain": [
       "<Figure size 432x288 with 1 Axes>"
      ]
     },
     "metadata": {
      "needs_background": "light"
     },
     "output_type": "display_data"
    }
   ],
   "source": [
    "late[['true','false']].plot.bar(stacked=True)"
   ]
  },
  {
   "cell_type": "markdown",
   "id": "0a4abc51",
   "metadata": {},
   "source": [
    "### 3. On average, how late are the late cases by department?"
   ]
  },
  {
   "cell_type": "code",
   "execution_count": 181,
   "id": "9c04c9ea",
   "metadata": {},
   "outputs": [],
   "source": [
    "late_cases = df.filter(df.case_late == True)"
   ]
  },
  {
   "cell_type": "code",
   "execution_count": 189,
   "id": "b5b9ac9a",
   "metadata": {},
   "outputs": [
    {
     "name": "stdout",
     "output_type": "stream",
     "text": [
      "-RECORD 0------------------------------------\n",
      " case_id              | 1014127336           \n",
      " case_opened_date     | 2018-01-01 01:34:00  \n",
      " case_closed_date     | 2018-01-01 13:29:00  \n",
      " case_due_date        | 2018-01-01 04:34:00  \n",
      " case_late            | true                 \n",
      " num_days_late        | 0.37216435200000003  \n",
      " case_closed          | true                 \n",
      " service_request_type | Animal Cruelty(Cr... \n",
      " SLA_days             | 0.125                \n",
      " case_status          | Closed               \n",
      " source_id            | svcCRMSS             \n",
      " request_address      | 734  CLEARVIEW DR... \n",
      " council_district     | 007                  \n",
      " num_weeks_late       | 0.053166336          \n",
      " zipcode              | 78228                \n",
      " case_age             | 219                  \n",
      " days_to_closed       | 0                    \n",
      " case_lifetime        | 0                    \n",
      " department           | Animal Care Services \n",
      " dept_subject_to_SLA  | true                 \n",
      "only showing top 1 row\n",
      "\n"
     ]
    }
   ],
   "source": [
    "late_cases.show(1, vertical=True)"
   ]
  },
  {
   "cell_type": "code",
   "execution_count": 207,
   "id": "102761ed",
   "metadata": {},
   "outputs": [],
   "source": [
    "avg_days_late = late_cases.groupby('department').agg(mean(late_cases.num_days_late).alias('avg_days_late')).sort('avg_days_late', ascending=False)"
   ]
  },
  {
   "cell_type": "code",
   "execution_count": 213,
   "id": "9c43afe3",
   "metadata": {},
   "outputs": [
    {
     "data": {
      "text/plain": [
       "<AxesSubplot:xlabel='department'>"
      ]
     },
     "execution_count": 213,
     "metadata": {},
     "output_type": "execute_result"
    },
    {
     "data": {
      "image/png": "[encoded data removed]",
      "text/plain": [
       "<Figure size 432x288 with 1 Axes>"
      ]
     },
     "metadata": {
      "needs_background": "light"
     },
     "output_type": "display_data"
    }
   ],
   "source": [
    "avg_days_late.toPandas().set_index('department').plot.bar()"
   ]
  },
  {
   "cell_type": "markdown",
   "id": "5a367a15",
   "metadata": {},
   "source": [
    "### 5. For the DSD/Code Enforcement department, what are the most common service request types? Look at other departments too."
   ]
  },
  {
   "cell_type": "code",
   "execution_count": 216,
   "id": "27bc6251",
   "metadata": {},
   "outputs": [],
   "source": [
    "dsd = df.filter(df.department == 'DSD/Code Enforcement')"
   ]
  },
  {
   "cell_type": "code",
   "execution_count": 260,
   "id": "6cbf9e96",
   "metadata": {},
   "outputs": [
    {
     "name": "stdout",
     "output_type": "stream",
     "text": [
      "+--------------------+-----+\n",
      "|service_request_type|count|\n",
      "+--------------------+-----+\n",
      "|Overgrown Yard/Trash|65895|\n",
      "|        Bandit Signs|32910|\n",
      "|Front Or Side Yar...|28794|\n",
      "|Junk Vehicle On P...|21473|\n",
      "|Alley-Way Mainten...|20214|\n",
      "+--------------------+-----+\n",
      "only showing top 5 rows\n",
      "\n"
     ]
    }
   ],
   "source": [
    "dsd.groupby('service_request_type').count().sort('count', ascending=False).show(5)"
   ]
  },
  {
   "cell_type": "code",
   "execution_count": 233,
   "id": "58f2a4db",
   "metadata": {},
   "outputs": [
    {
     "name": "stderr",
     "output_type": "stream",
     "text": [
      "\r",
      "[Stage 423:=================================================>       (7 + 1) / 8]\r",
      "\r",
      "                                                                                \r"
     ]
    }
   ],
   "source": [
    "dept_list v= list(df.select('department').distinct().toPandas()['department'])"
   ]
  },
  {
   "cell_type": "code",
   "execution_count": 295,
   "id": "56337c59",
   "metadata": {},
   "outputs": [
    {
     "name": "stdout",
     "output_type": "stream",
     "text": [
      "+--------------------+-----+\n",
      "|service_request_type|count|\n",
      "+--------------------+-----+\n",
      "|           No Pickup|86855|\n",
      "|        Damaged Cart|30338|\n",
      "|Cart Exchange Req...|22024|\n",
      "|    Lost/Stolen Cart|18731|\n",
      "|   Dead Animal - Dog|16714|\n",
      "+--------------------+-----+\n",
      "only showing top 5 rows\n",
      "\n",
      "+--------------------+-----+\n",
      "|service_request_type|count|\n",
      "+--------------------+-----+\n",
      "|        Stray Animal|26760|\n",
      "|Aggressive Animal...|24882|\n",
      "|      Animal Neglect|13441|\n",
      "|Trapped/Confined ...|11354|\n",
      "|Public Nuisance(O...|10715|\n",
      "+--------------------+-----+\n",
      "only showing top 5 rows\n",
      "\n",
      "+--------------------+-----+\n",
      "|service_request_type|count|\n",
      "+--------------------+-----+\n",
      "|     Pot Hole Repair|20616|\n",
      "|Traffic Signal Op...| 7997|\n",
      "|Traffic Sign Miss...| 5674|\n",
      "|Base/Pavement Repair| 5385|\n",
      "|Signal Timing Mod...| 4414|\n",
      "+--------------------+-----+\n",
      "only showing top 5 rows\n",
      "\n",
      "+--------------------+-----+\n",
      "|service_request_type|count|\n",
      "+--------------------+-----+\n",
      "|           Carpentry| 1944|\n",
      "|            Plumbing| 1782|\n",
      "|Heating and Air C...| 1459|\n",
      "|         Playgrounds| 1438|\n",
      "|          Ballfields| 1234|\n",
      "+--------------------+-----+\n",
      "only showing top 5 rows\n",
      "\n",
      "+--------------------+-----+\n",
      "|service_request_type|count|\n",
      "+--------------------+-----+\n",
      "|           Complaint| 2388|\n",
      "|          Compliment|  461|\n",
      "+--------------------+-----+\n",
      "\n",
      "+--------------------+-----+\n",
      "|service_request_type|count|\n",
      "+--------------------+-----+\n",
      "|License Renewal I...| 1349|\n",
      "|  Hygienic Practices|  946|\n",
      "|               Pests|  715|\n",
      "|Food Contact Surf...|  602|\n",
      "| Public Right of Way|  538|\n",
      "+--------------------+-----+\n",
      "only showing top 5 rows\n",
      "\n",
      "+--------------------+-----+\n",
      "|service_request_type|count|\n",
      "+--------------------+-----+\n",
      "|Request for Resea...|   31|\n",
      "|CCO_Request for R...|    2|\n",
      "+--------------------+-----+\n",
      "\n",
      "+--------------------+-----+\n",
      "|service_request_type|count|\n",
      "+--------------------+-----+\n",
      "|Overgrown Yard/Trash|65895|\n",
      "|        Bandit Signs|32910|\n",
      "|Front Or Side Yar...|28794|\n",
      "|Junk Vehicle On P...|21473|\n",
      "|Alley-Way Mainten...|20214|\n",
      "+--------------------+-----+\n",
      "only showing top 5 rows\n",
      "\n"
     ]
    }
   ],
   "source": [
    "for dept in dept_list:\n",
    "    df.filter(df.department == dept).groupby('service_request_type').count().sort('count', ascending=False).show(5)"
   ]
  },
  {
   "cell_type": "code",
   "execution_count": 264,
   "id": "51a452ec",
   "metadata": {},
   "outputs": [
    {
     "data": {
      "image/png": "[encoded data removed]",
      "text/plain": [
       "<Figure size 432x288 with 1 Axes>"
      ]
     },
     "metadata": {
      "needs_background": "light"
     },
     "output_type": "display_data"
    },
    {
     "data": {
      "image/png": "[encoded data removed]",
      "text/plain": [
       "<Figure size 432x288 with 1 Axes>"
      ]
     },
     "metadata": {
      "needs_background": "light"
     },
     "output_type": "display_data"
    },
    {
     "data": {
      "image/png": "[encoded data removed]",
      "text/plain": [
       "<Figure size 432x288 with 1 Axes>"
      ]
     },
     "metadata": {
      "needs_background": "light"
     },
     "output_type": "display_data"
    },
    {
     "data": {
      "image/png": "[encoded data removed]",
      "text/plain": [
       "<Figure size 432x288 with 1 Axes>"
      ]
     },
     "metadata": {
      "needs_background": "light"
     },
     "output_type": "display_data"
    },
    {
     "data": {
      "image/png": "[encoded data removed]",
      "text/plain": [
       "<Figure size 432x288 with 1 Axes>"
      ]
     },
     "metadata": {
      "needs_background": "light"
     },
     "output_type": "display_data"
    },
    {
     "data": {
      "image/png": "[encoded data removed]",
      "text/plain": [
       "<Figure size 432x288 with 1 Axes>"
      ]
     },
     "metadata": {
      "needs_background": "light"
     },
     "output_type": "display_data"
    },
    {
     "data": {
      "image/png": "[encoded data removed]",
      "text/plain": [
       "<Figure size 432x288 with 1 Axes>"
      ]
     },
     "metadata": {
      "needs_background": "light"
     },
     "output_type": "display_data"
    },
    {
     "data": {
      "image/png": "[encoded data removed]",
      "text/plain": [
       "<Figure size 432x288 with 1 Axes>"
      ]
     },
     "metadata": {
      "needs_background": "light"
     },
     "output_type": "display_data"
    }
   ],
   "source": [
    "for dept in dept_list:\n",
    "    df.filter(df.department == dept).groupby('service_request_type').count().sort('count', ascending=False).toPandas().set_index('service_request_type').head(5).plot.bar()\n",
    "    plt.title(dept)"
   ]
  },
  {
   "cell_type": "markdown",
   "id": "60fe8fae",
   "metadata": {},
   "source": [
    "### 6. Does whether or not it's a weekend matter for when a case is opened/closed?"
   ]
  },
  {
   "cell_type": "code",
   "execution_count": 238,
   "id": "7278605b",
   "metadata": {},
   "outputs": [
    {
     "name": "stdout",
     "output_type": "stream",
     "text": [
      "-RECORD 0------------------------------------\n",
      " case_id              | 1014127332           \n",
      " case_opened_date     | 2018-01-01 00:42:00  \n",
      " case_closed_date     | 2018-01-01 12:29:00  \n",
      " case_due_date        | 2020-09-26 00:42:00  \n",
      " case_late            | false                \n",
      " num_days_late        | -998.5087616000001   \n",
      " case_closed          | true                 \n",
      " service_request_type | Stray Animal         \n",
      " SLA_days             | 999.0                \n",
      " case_status          | Closed               \n",
      " source_id            | svcCRMLS             \n",
      " request_address      | 2315  EL PASO ST,... \n",
      " council_district     | 005                  \n",
      " num_weeks_late       | -142.6441088         \n",
      " zipcode              | 78207                \n",
      " case_age             | 219                  \n",
      " days_to_closed       | 0                    \n",
      " case_lifetime        | 0                    \n",
      " department           | Animal Care Services \n",
      " dept_subject_to_SLA  | true                 \n",
      "only showing top 1 row\n",
      "\n"
     ]
    }
   ],
   "source": [
    "df.show(1, vertical=True)"
   ]
  },
  {
   "cell_type": "code",
   "execution_count": 268,
   "id": "649cd621",
   "metadata": {},
   "outputs": [
    {
     "name": "stderr",
     "output_type": "stream",
     "text": [
      "\r",
      "[Stage 936:>                                                        (0 + 8) / 8]\r",
      "\r",
      "                                                                                \r"
     ]
    },
    {
     "data": {
      "image/png": "[encoded data removed]",
      "text/plain": [
       "<Figure size 432x288 with 1 Axes>"
      ]
     },
     "metadata": {
      "needs_background": "light"
     },
     "output_type": "display_data"
    }
   ],
   "source": [
    "df.groupby(dayofweek('case_opened_date').alias('weekday')).count().sort('weekday')\\\n",
    ".toPandas().set_index('weekday').plot.bar()\n",
    "plt.title('Case Opened');"
   ]
  },
  {
   "cell_type": "code",
   "execution_count": 297,
   "id": "f4ecb720",
   "metadata": {},
   "outputs": [
    {
     "name": "stderr",
     "output_type": "stream",
     "text": [
      "\r",
      "[Stage 1552:=======>                                                (1 + 7) / 8]\r",
      "\r",
      "                                                                                \r"
     ]
    },
    {
     "data": {
      "text/plain": [
       "Text(0.5, 1.0, 'Case Closed')"
      ]
     },
     "execution_count": 297,
     "metadata": {},
     "output_type": "execute_result"
    },
    {
     "data": {
      "image/png": "[encoded data removed]",
      "text/plain": [
       "<Figure size 432x288 with 1 Axes>"
      ]
     },
     "metadata": {
      "needs_background": "light"
     },
     "output_type": "display_data"
    }
   ],
   "source": [
    "df.groupby(dayofweek('case_closed_date').alias('weekday')).count().na.drop().sort('weekday')\\\n",
    ".toPandas().set_index('weekday').plot.bar()\n",
    "plt.title('Case Closed')"
   ]
  },
  {
   "cell_type": "markdown",
   "id": "4cfb4828",
   "metadata": {},
   "source": [
    "### 7. On average, how many caes are opened a day for the Customer Service department?"
   ]
  },
  {
   "cell_type": "code",
   "execution_count": 278,
   "id": "45ab9c52",
   "metadata": {},
   "outputs": [
    {
     "name": "stdout",
     "output_type": "stream",
     "text": [
      "+--------------------+----------------+----------------+\n",
      "|          department|case_opened_date|case_closed_date|\n",
      "+--------------------+----------------+----------------+\n",
      "|Animal Care Services|      2018-01-01|      2018-01-01|\n",
      "|Trans & Cap Impro...|      2018-01-01|      2018-01-03|\n",
      "|Trans & Cap Impro...|      2018-01-01|      2018-01-02|\n",
      "|DSD/Code Enforcement|      2018-01-01|      2018-01-02|\n",
      "|Animal Care Services|      2018-01-01|      2018-01-01|\n",
      "+--------------------+----------------+----------------+\n",
      "only showing top 5 rows\n",
      "\n"
     ]
    }
   ],
   "source": [
    "cases_by_day = df.select(\n",
    "    \"department\",\n",
    "    date_format(\"case_opened_date\", \"yyyy-MM-dd\").alias(\"case_opened_date\"),\n",
    "    date_format(\"case_closed_date\", \"yyyy-MM-dd\").alias(\"case_closed_date\"),\n",
    ")\n",
    "\n",
    "cases_by_day.show(5)"
   ]
  },
  {
   "cell_type": "code",
   "execution_count": 281,
   "id": "6e173b69",
   "metadata": {},
   "outputs": [],
   "source": [
    "cases_opened_by_day = (\n",
    "    cases_by_day.filter(cases_by_day.department == 'Customer Service')\n",
    "    .groupby('case_opened_date')\n",
    "    .count()\n",
    "    .na.drop()\n",
    "    .sort('case_opened_date')\n",
    "    .toPandas()\n",
    "    .assign(case_opened_date=lambda df: pd.to_datetime(df.case_opened_date))\n",
    "    .set_index('case_opened_date')\n",
    "    ['count']\n",
    ")\n",
    "cases_opened_by_day.name = 'cases_opened'\n"
   ]
  },
  {
   "cell_type": "code",
   "execution_count": 283,
   "id": "f9c07c19",
   "metadata": {},
   "outputs": [
    {
     "data": {
      "text/plain": [
       "5.564453125"
      ]
     },
     "execution_count": 283,
     "metadata": {},
     "output_type": "execute_result"
    }
   ],
   "source": [
    "cases_opened_by_day.mean()"
   ]
  },
  {
   "cell_type": "code",
   "execution_count": 290,
   "id": "5e503ac1",
   "metadata": {},
   "outputs": [
    {
     "name": "stderr",
     "output_type": "stream",
     "text": [
      "\r",
      "[Stage 1286:=======>                                                (1 + 7) / 8]\r",
      "\r",
      "                                                                                \r"
     ]
    },
    {
     "name": "stdout",
     "output_type": "stream",
     "text": [
      "Solid Waste\n",
      "477.38461538461536\n",
      "Animal Care Services\n",
      "199.85470085470087\n",
      "Trans & Cap Improvements\n",
      "164.43247863247862\n",
      "Parks & Recreation\n",
      "34.500866551126514\n",
      "Customer Service\n",
      "5.564453125\n"
     ]
    },
    {
     "name": "stderr",
     "output_type": "stream",
     "text": [
      "\r",
      "[Stage 1331:=======>                                                (1 + 7) / 8]\r",
      "\r",
      "                                                                                \r"
     ]
    },
    {
     "name": "stdout",
     "output_type": "stream",
     "text": [
      "Metro Health\n",
      "10.71161825726141\n",
      "City Council\n",
      "1.1785714285714286\n"
     ]
    },
    {
     "name": "stderr",
     "output_type": "stream",
     "text": [
      "                                                                                \r"
     ]
    },
    {
     "name": "stdout",
     "output_type": "stream",
     "text": [
      "DSD/Code Enforcement\n",
      "549.357264957265\n"
     ]
    }
   ],
   "source": [
    "for dept in dept_list:\n",
    "    cases_opened_by_day = (\n",
    "    cases_by_day.filter(cases_by_day.department == dept)\n",
    "    .groupby('case_opened_date')\n",
    "    .count()\n",
    "    .na.drop()\n",
    "    .sort('case_opened_date')\n",
    "    .toPandas()\n",
    "    .assign(case_opened_date=lambda df: pd.to_datetime(df.case_opened_date))\n",
    "    .set_index('case_opened_date')\n",
    "    ['count']\n",
    "    )\n",
    "    cases_opened_by_day.name = 'cases_opened'\n",
    "    print(dept)\n",
    "    print(cases_opened_by_day.mean())"
   ]
  },
  {
   "cell_type": "code",
   "execution_count": null,
   "id": "08d5f721",
   "metadata": {},
   "outputs": [],
   "source": []
  }
 ],
 "metadata": {
  "kernelspec": {
   "display_name": "Python 3 (ipykernel)",
   "language": "python",
   "name": "python3"
  },
  "language_info": {
   "codemirror_mode": {
    "name": "ipython",
    "version": 3
   },
   "file_extension": ".py",
   "mimetype": "text/x-python",
   "name": "python",
   "nbconvert_exporter": "python",
   "pygments_lexer": "ipython3",
   "version": "3.8.8"
  }
 },
 "nbformat": 4,
 "nbformat_minor": 5
}
